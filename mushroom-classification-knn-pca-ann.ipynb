{
 "cells": [
  {
   "cell_type": "code",
   "execution_count": 1,
   "id": "9ac565ce",
   "metadata": {
    "_cell_guid": "b1076dfc-b9ad-4769-8c92-a6c4dae69d19",
    "_uuid": "8f2839f25d086af736a60e9eeb907d3b93b6e0e5",
    "execution": {
     "iopub.execute_input": "2023-01-03T09:51:25.657321Z",
     "iopub.status.busy": "2023-01-03T09:51:25.656257Z",
     "iopub.status.idle": "2023-01-03T09:51:27.361213Z",
     "shell.execute_reply": "2023-01-03T09:51:27.359717Z"
    },
    "papermill": {
     "duration": 1.730916,
     "end_time": "2023-01-03T09:51:27.365019",
     "exception": false,
     "start_time": "2023-01-03T09:51:25.634103",
     "status": "completed"
    },
    "tags": []
   },
   "outputs": [],
   "source": [
    "import numpy as np \n",
    "import pandas as pd \n",
    "import matplotlib.pyplot as plt\n",
    "import seaborn as sns\n",
    "from sklearn.preprocessing import LabelEncoder\n",
    "from sklearn.model_selection import train_test_split\n",
    "from sklearn.neighbors import KNeighborsClassifier\n",
    "from sklearn.metrics import confusion_matrix, precision_score, recall_score, f1_score, accuracy_score\n",
    "from sklearn.tree import DecisionTreeClassifier, export_graphviz\n",
    "import graphviz"
   ]
  },
  {
   "cell_type": "code",
   "execution_count": 2,
   "id": "9c5da9ce",
   "metadata": {
    "execution": {
     "iopub.execute_input": "2023-01-03T09:51:27.402913Z",
     "iopub.status.busy": "2023-01-03T09:51:27.402272Z",
     "iopub.status.idle": "2023-01-03T09:51:27.485238Z",
     "shell.execute_reply": "2023-01-03T09:51:27.483959Z"
    },
    "papermill": {
     "duration": 0.105345,
     "end_time": "2023-01-03T09:51:27.488863",
     "exception": false,
     "start_time": "2023-01-03T09:51:27.383518",
     "status": "completed"
    },
    "tags": []
   },
   "outputs": [
    {
     "data": {
      "text/html": [
       "<div>\n",
       "<style scoped>\n",
       "    .dataframe tbody tr th:only-of-type {\n",
       "        vertical-align: middle;\n",
       "    }\n",
       "\n",
       "    .dataframe tbody tr th {\n",
       "        vertical-align: top;\n",
       "    }\n",
       "\n",
       "    .dataframe thead th {\n",
       "        text-align: right;\n",
       "    }\n",
       "</style>\n",
       "<table border=\"1\" class=\"dataframe\">\n",
       "  <thead>\n",
       "    <tr style=\"text-align: right;\">\n",
       "      <th></th>\n",
       "      <th>class</th>\n",
       "      <th>cap-shape</th>\n",
       "      <th>cap-surface</th>\n",
       "      <th>cap-color</th>\n",
       "      <th>bruises</th>\n",
       "      <th>odor</th>\n",
       "      <th>gill-attachment</th>\n",
       "      <th>gill-spacing</th>\n",
       "      <th>gill-size</th>\n",
       "      <th>gill-color</th>\n",
       "      <th>...</th>\n",
       "      <th>stalk-surface-below-ring</th>\n",
       "      <th>stalk-color-above-ring</th>\n",
       "      <th>stalk-color-below-ring</th>\n",
       "      <th>veil-type</th>\n",
       "      <th>veil-color</th>\n",
       "      <th>ring-number</th>\n",
       "      <th>ring-type</th>\n",
       "      <th>spore-print-color</th>\n",
       "      <th>population</th>\n",
       "      <th>habitat</th>\n",
       "    </tr>\n",
       "  </thead>\n",
       "  <tbody>\n",
       "    <tr>\n",
       "      <th>0</th>\n",
       "      <td>p</td>\n",
       "      <td>x</td>\n",
       "      <td>s</td>\n",
       "      <td>n</td>\n",
       "      <td>t</td>\n",
       "      <td>p</td>\n",
       "      <td>f</td>\n",
       "      <td>c</td>\n",
       "      <td>n</td>\n",
       "      <td>k</td>\n",
       "      <td>...</td>\n",
       "      <td>s</td>\n",
       "      <td>w</td>\n",
       "      <td>w</td>\n",
       "      <td>p</td>\n",
       "      <td>w</td>\n",
       "      <td>o</td>\n",
       "      <td>p</td>\n",
       "      <td>k</td>\n",
       "      <td>s</td>\n",
       "      <td>u</td>\n",
       "    </tr>\n",
       "    <tr>\n",
       "      <th>1</th>\n",
       "      <td>e</td>\n",
       "      <td>x</td>\n",
       "      <td>s</td>\n",
       "      <td>y</td>\n",
       "      <td>t</td>\n",
       "      <td>a</td>\n",
       "      <td>f</td>\n",
       "      <td>c</td>\n",
       "      <td>b</td>\n",
       "      <td>k</td>\n",
       "      <td>...</td>\n",
       "      <td>s</td>\n",
       "      <td>w</td>\n",
       "      <td>w</td>\n",
       "      <td>p</td>\n",
       "      <td>w</td>\n",
       "      <td>o</td>\n",
       "      <td>p</td>\n",
       "      <td>n</td>\n",
       "      <td>n</td>\n",
       "      <td>g</td>\n",
       "    </tr>\n",
       "    <tr>\n",
       "      <th>2</th>\n",
       "      <td>e</td>\n",
       "      <td>b</td>\n",
       "      <td>s</td>\n",
       "      <td>w</td>\n",
       "      <td>t</td>\n",
       "      <td>l</td>\n",
       "      <td>f</td>\n",
       "      <td>c</td>\n",
       "      <td>b</td>\n",
       "      <td>n</td>\n",
       "      <td>...</td>\n",
       "      <td>s</td>\n",
       "      <td>w</td>\n",
       "      <td>w</td>\n",
       "      <td>p</td>\n",
       "      <td>w</td>\n",
       "      <td>o</td>\n",
       "      <td>p</td>\n",
       "      <td>n</td>\n",
       "      <td>n</td>\n",
       "      <td>m</td>\n",
       "    </tr>\n",
       "    <tr>\n",
       "      <th>3</th>\n",
       "      <td>p</td>\n",
       "      <td>x</td>\n",
       "      <td>y</td>\n",
       "      <td>w</td>\n",
       "      <td>t</td>\n",
       "      <td>p</td>\n",
       "      <td>f</td>\n",
       "      <td>c</td>\n",
       "      <td>n</td>\n",
       "      <td>n</td>\n",
       "      <td>...</td>\n",
       "      <td>s</td>\n",
       "      <td>w</td>\n",
       "      <td>w</td>\n",
       "      <td>p</td>\n",
       "      <td>w</td>\n",
       "      <td>o</td>\n",
       "      <td>p</td>\n",
       "      <td>k</td>\n",
       "      <td>s</td>\n",
       "      <td>u</td>\n",
       "    </tr>\n",
       "    <tr>\n",
       "      <th>4</th>\n",
       "      <td>e</td>\n",
       "      <td>x</td>\n",
       "      <td>s</td>\n",
       "      <td>g</td>\n",
       "      <td>f</td>\n",
       "      <td>n</td>\n",
       "      <td>f</td>\n",
       "      <td>w</td>\n",
       "      <td>b</td>\n",
       "      <td>k</td>\n",
       "      <td>...</td>\n",
       "      <td>s</td>\n",
       "      <td>w</td>\n",
       "      <td>w</td>\n",
       "      <td>p</td>\n",
       "      <td>w</td>\n",
       "      <td>o</td>\n",
       "      <td>e</td>\n",
       "      <td>n</td>\n",
       "      <td>a</td>\n",
       "      <td>g</td>\n",
       "    </tr>\n",
       "  </tbody>\n",
       "</table>\n",
       "<p>5 rows × 23 columns</p>\n",
       "</div>"
      ],
      "text/plain": [
       "  class cap-shape cap-surface cap-color bruises odor gill-attachment  \\\n",
       "0     p         x           s         n       t    p               f   \n",
       "1     e         x           s         y       t    a               f   \n",
       "2     e         b           s         w       t    l               f   \n",
       "3     p         x           y         w       t    p               f   \n",
       "4     e         x           s         g       f    n               f   \n",
       "\n",
       "  gill-spacing gill-size gill-color  ... stalk-surface-below-ring  \\\n",
       "0            c         n          k  ...                        s   \n",
       "1            c         b          k  ...                        s   \n",
       "2            c         b          n  ...                        s   \n",
       "3            c         n          n  ...                        s   \n",
       "4            w         b          k  ...                        s   \n",
       "\n",
       "  stalk-color-above-ring stalk-color-below-ring veil-type veil-color  \\\n",
       "0                      w                      w         p          w   \n",
       "1                      w                      w         p          w   \n",
       "2                      w                      w         p          w   \n",
       "3                      w                      w         p          w   \n",
       "4                      w                      w         p          w   \n",
       "\n",
       "  ring-number ring-type spore-print-color population habitat  \n",
       "0           o         p                 k          s       u  \n",
       "1           o         p                 n          n       g  \n",
       "2           o         p                 n          n       m  \n",
       "3           o         p                 k          s       u  \n",
       "4           o         e                 n          a       g  \n",
       "\n",
       "[5 rows x 23 columns]"
      ]
     },
     "execution_count": 2,
     "metadata": {},
     "output_type": "execute_result"
    }
   ],
   "source": [
    "dataset=pd.read_csv(\"/kaggle/input/mushroom-classification/mushrooms.csv\")\n",
    "dataset.head()"
   ]
  },
  {
   "cell_type": "code",
   "execution_count": 3,
   "id": "c74d09b8",
   "metadata": {
    "execution": {
     "iopub.execute_input": "2023-01-03T09:51:27.527613Z",
     "iopub.status.busy": "2023-01-03T09:51:27.526696Z",
     "iopub.status.idle": "2023-01-03T09:51:27.533503Z",
     "shell.execute_reply": "2023-01-03T09:51:27.532619Z"
    },
    "papermill": {
     "duration": 0.028547,
     "end_time": "2023-01-03T09:51:27.535820",
     "exception": false,
     "start_time": "2023-01-03T09:51:27.507273",
     "status": "completed"
    },
    "tags": []
   },
   "outputs": [
    {
     "data": {
      "text/plain": [
       "pandas.core.frame.DataFrame"
      ]
     },
     "execution_count": 3,
     "metadata": {},
     "output_type": "execute_result"
    }
   ],
   "source": [
    "type(dataset)"
   ]
  },
  {
   "cell_type": "code",
   "execution_count": 4,
   "id": "913f213c",
   "metadata": {
    "execution": {
     "iopub.execute_input": "2023-01-03T09:51:27.574549Z",
     "iopub.status.busy": "2023-01-03T09:51:27.573857Z",
     "iopub.status.idle": "2023-01-03T09:51:27.579817Z",
     "shell.execute_reply": "2023-01-03T09:51:27.578313Z"
    },
    "papermill": {
     "duration": 0.029013,
     "end_time": "2023-01-03T09:51:27.583276",
     "exception": false,
     "start_time": "2023-01-03T09:51:27.554263",
     "status": "completed"
    },
    "tags": []
   },
   "outputs": [
    {
     "name": "stdout",
     "output_type": "stream",
     "text": [
      "Dataset shape: (8124, 23)\n"
     ]
    }
   ],
   "source": [
    "print(\"Dataset shape:\", dataset.shape)"
   ]
  },
  {
   "cell_type": "code",
   "execution_count": 5,
   "id": "5f722e64",
   "metadata": {
    "execution": {
     "iopub.execute_input": "2023-01-03T09:51:27.623925Z",
     "iopub.status.busy": "2023-01-03T09:51:27.622851Z",
     "iopub.status.idle": "2023-01-03T09:51:27.631227Z",
     "shell.execute_reply": "2023-01-03T09:51:27.629949Z"
    },
    "papermill": {
     "duration": 0.031788,
     "end_time": "2023-01-03T09:51:27.633540",
     "exception": false,
     "start_time": "2023-01-03T09:51:27.601752",
     "status": "completed"
    },
    "tags": []
   },
   "outputs": [
    {
     "data": {
      "text/plain": [
       "Index(['class', 'cap-shape', 'cap-surface', 'cap-color', 'bruises', 'odor',\n",
       "       'gill-attachment', 'gill-spacing', 'gill-size', 'gill-color',\n",
       "       'stalk-shape', 'stalk-root', 'stalk-surface-above-ring',\n",
       "       'stalk-surface-below-ring', 'stalk-color-above-ring',\n",
       "       'stalk-color-below-ring', 'veil-type', 'veil-color', 'ring-number',\n",
       "       'ring-type', 'spore-print-color', 'population', 'habitat'],\n",
       "      dtype='object')"
      ]
     },
     "execution_count": 5,
     "metadata": {},
     "output_type": "execute_result"
    }
   ],
   "source": [
    "dataset.keys()"
   ]
  },
  {
   "cell_type": "code",
   "execution_count": 6,
   "id": "de2fcb00",
   "metadata": {
    "execution": {
     "iopub.execute_input": "2023-01-03T09:51:27.673418Z",
     "iopub.status.busy": "2023-01-03T09:51:27.672190Z",
     "iopub.status.idle": "2023-01-03T09:51:27.692552Z",
     "shell.execute_reply": "2023-01-03T09:51:27.691359Z"
    },
    "papermill": {
     "duration": 0.042703,
     "end_time": "2023-01-03T09:51:27.695298",
     "exception": false,
     "start_time": "2023-01-03T09:51:27.652595",
     "status": "completed"
    },
    "tags": []
   },
   "outputs": [
    {
     "data": {
      "text/plain": [
       "e    4208\n",
       "p    3916\n",
       "Name: class, dtype: int64"
      ]
     },
     "execution_count": 6,
     "metadata": {},
     "output_type": "execute_result"
    }
   ],
   "source": [
    "dataset['class'].value_counts()\n"
   ]
  },
  {
   "cell_type": "code",
   "execution_count": 7,
   "id": "8dae71bb",
   "metadata": {
    "execution": {
     "iopub.execute_input": "2023-01-03T09:51:27.735058Z",
     "iopub.status.busy": "2023-01-03T09:51:27.733687Z",
     "iopub.status.idle": "2023-01-03T09:51:27.740819Z",
     "shell.execute_reply": "2023-01-03T09:51:27.739238Z"
    },
    "papermill": {
     "duration": 0.02957,
     "end_time": "2023-01-03T09:51:27.743533",
     "exception": false,
     "start_time": "2023-01-03T09:51:27.713963",
     "status": "completed"
    },
    "tags": []
   },
   "outputs": [
    {
     "name": "stdout",
     "output_type": "stream",
     "text": [
      "Number of samples: 8124\n",
      "Number of features: 23\n"
     ]
    }
   ],
   "source": [
    "n_samples, n_features = dataset.shape\n",
    "print('Number of samples:', n_samples)\n",
    "print('Number of features:', n_features)\n"
   ]
  },
  {
   "cell_type": "code",
   "execution_count": 8,
   "id": "f13ec11c",
   "metadata": {
    "execution": {
     "iopub.execute_input": "2023-01-03T09:51:27.785005Z",
     "iopub.status.busy": "2023-01-03T09:51:27.784157Z",
     "iopub.status.idle": "2023-01-03T09:51:27.802554Z",
     "shell.execute_reply": "2023-01-03T09:51:27.801294Z"
    },
    "papermill": {
     "duration": 0.042632,
     "end_time": "2023-01-03T09:51:27.805179",
     "exception": false,
     "start_time": "2023-01-03T09:51:27.762547",
     "status": "completed"
    },
    "tags": []
   },
   "outputs": [
    {
     "data": {
      "text/plain": [
       "class                       0\n",
       "cap-shape                   0\n",
       "cap-surface                 0\n",
       "cap-color                   0\n",
       "bruises                     0\n",
       "odor                        0\n",
       "gill-attachment             0\n",
       "gill-spacing                0\n",
       "gill-size                   0\n",
       "gill-color                  0\n",
       "stalk-shape                 0\n",
       "stalk-root                  0\n",
       "stalk-surface-above-ring    0\n",
       "stalk-surface-below-ring    0\n",
       "stalk-color-above-ring      0\n",
       "stalk-color-below-ring      0\n",
       "veil-type                   0\n",
       "veil-color                  0\n",
       "ring-number                 0\n",
       "ring-type                   0\n",
       "spore-print-color           0\n",
       "population                  0\n",
       "habitat                     0\n",
       "dtype: int64"
      ]
     },
     "execution_count": 8,
     "metadata": {},
     "output_type": "execute_result"
    }
   ],
   "source": [
    "dataset.isnull().sum()"
   ]
  },
  {
   "cell_type": "markdown",
   "id": "967130b5",
   "metadata": {
    "papermill": {
     "duration": 0.01876,
     "end_time": "2023-01-03T09:51:27.842801",
     "exception": false,
     "start_time": "2023-01-03T09:51:27.824041",
     "status": "completed"
    },
    "tags": []
   },
   "source": [
    "# DATA VISUALISATION"
   ]
  },
  {
   "cell_type": "code",
   "execution_count": 9,
   "id": "db555716",
   "metadata": {
    "execution": {
     "iopub.execute_input": "2023-01-03T09:51:27.882712Z",
     "iopub.status.busy": "2023-01-03T09:51:27.882268Z",
     "iopub.status.idle": "2023-01-03T09:51:28.043479Z",
     "shell.execute_reply": "2023-01-03T09:51:28.041742Z"
    },
    "papermill": {
     "duration": 0.184568,
     "end_time": "2023-01-03T09:51:28.046577",
     "exception": false,
     "start_time": "2023-01-03T09:51:27.862009",
     "status": "completed"
    },
    "tags": []
   },
   "outputs": [
    {
     "data": {
      "image/png": "[encoded data removed]",
      "text/plain": [
       "<Figure size 432x432 with 1 Axes>"
      ]
     },
     "metadata": {},
     "output_type": "display_data"
    }
   ],
   "source": [
    "plt.figure(figsize = (6,6))\n",
    "plt.pie(dataset['class'].value_counts(), startangle = 90, autopct = '%.1f', labels = ['Edible', 'Poisonous'], shadow = True)\n",
    "plt.show()"
   ]
  },
  {
   "cell_type": "code",
   "execution_count": 10,
   "id": "f96284e9",
   "metadata": {
    "execution": {
     "iopub.execute_input": "2023-01-03T09:51:28.087961Z",
     "iopub.status.busy": "2023-01-03T09:51:28.087185Z",
     "iopub.status.idle": "2023-01-03T09:51:28.280941Z",
     "shell.execute_reply": "2023-01-03T09:51:28.280005Z"
    },
    "papermill": {
     "duration": 0.217296,
     "end_time": "2023-01-03T09:51:28.283590",
     "exception": false,
     "start_time": "2023-01-03T09:51:28.066294",
     "status": "completed"
    },
    "tags": []
   },
   "outputs": [
    {
     "data": {
      "text/plain": [
       "Text(0.5, 1.0, 'Number of poisonous/edible mushrooms')"
      ]
     },
     "execution_count": 10,
     "metadata": {},
     "output_type": "execute_result"
    },
    {
     "data": {
      "image/png": "[encoded data removed]",
      "text/plain": [
       "<Figure size 648x360 with 1 Axes>"
      ]
     },
     "metadata": {
      "needs_background": "light"
     },
     "output_type": "display_data"
    }
   ],
   "source": [
    "dataset['class'].value_counts().plot(kind='bar', figsize=(9,5), color='purple')\n",
    "plt.ylabel('Count', fontsize=12)\n",
    "plt.xlabel('Class', fontsize=12)\n",
    "plt.title('Number of poisonous/edible mushrooms')"
   ]
  },
  {
   "cell_type": "code",
   "execution_count": 11,
   "id": "aaf537f4",
   "metadata": {
    "execution": {
     "iopub.execute_input": "2023-01-03T09:51:28.323860Z",
     "iopub.status.busy": "2023-01-03T09:51:28.323024Z",
     "iopub.status.idle": "2023-01-03T09:51:28.502231Z",
     "shell.execute_reply": "2023-01-03T09:51:28.501007Z"
    },
    "papermill": {
     "duration": 0.202489,
     "end_time": "2023-01-03T09:51:28.504838",
     "exception": false,
     "start_time": "2023-01-03T09:51:28.302349",
     "status": "completed"
    },
    "tags": []
   },
   "outputs": [
    {
     "data": {
      "text/plain": [
       "Text(0.5, 1.0, 'Population count')"
      ]
     },
     "execution_count": 11,
     "metadata": {},
     "output_type": "execute_result"
    },
    {
     "data": {
      "image/png": "[encoded data removed]",
      "text/plain": [
       "<Figure size 648x360 with 1 Axes>"
      ]
     },
     "metadata": {
      "needs_background": "light"
     },
     "output_type": "display_data"
    }
   ],
   "source": [
    "dataset.population.value_counts().plot(kind='bar', figsize=(9,5), color='orange')\n",
    "plt.ylabel('Count', fontsize=12)\n",
    "plt.xlabel('Population', fontsize=12)\n",
    "plt.title('Population count')"
   ]
  },
  {
   "cell_type": "code",
   "execution_count": 12,
   "id": "fdc3c948",
   "metadata": {
    "execution": {
     "iopub.execute_input": "2023-01-03T09:51:28.546877Z",
     "iopub.status.busy": "2023-01-03T09:51:28.546035Z",
     "iopub.status.idle": "2023-01-03T09:51:28.687745Z",
     "shell.execute_reply": "2023-01-03T09:51:28.686420Z"
    },
    "papermill": {
     "duration": 0.166424,
     "end_time": "2023-01-03T09:51:28.690548",
     "exception": false,
     "start_time": "2023-01-03T09:51:28.524124",
     "status": "completed"
    },
    "tags": []
   },
   "outputs": [
    {
     "data": {
      "text/plain": [
       "Text(0.5, 1.0, 'Bruises count')"
      ]
     },
     "execution_count": 12,
     "metadata": {},
     "output_type": "execute_result"
    },
    {
     "data": {
      "image/png": "[encoded data removed]",
      "text/plain": [
       "<Figure size 648x360 with 1 Axes>"
      ]
     },
     "metadata": {
      "needs_background": "light"
     },
     "output_type": "display_data"
    }
   ],
   "source": [
    "dataset.bruises.value_counts().plot(kind='bar', figsize=(9,5), color='green')\n",
    "plt.ylabel('Count', fontsize=12)\n",
    "plt.xlabel('Bruises', fontsize=12)\n",
    "plt.title('Bruises count')"
   ]
  },
  {
   "cell_type": "code",
   "execution_count": 13,
   "id": "a59b1847",
   "metadata": {
    "execution": {
     "iopub.execute_input": "2023-01-03T09:51:28.733729Z",
     "iopub.status.busy": "2023-01-03T09:51:28.732943Z",
     "iopub.status.idle": "2023-01-03T09:51:33.089989Z",
     "shell.execute_reply": "2023-01-03T09:51:33.088889Z"
    },
    "papermill": {
     "duration": 4.381477,
     "end_time": "2023-01-03T09:51:33.092647",
     "exception": false,
     "start_time": "2023-01-03T09:51:28.711170",
     "status": "completed"
    },
    "tags": []
   },
   "outputs": [
    {
     "data": {
      "image/png": "[encoded data removed]",
      "text/plain": [
       "<Figure size 1800x1224 with 22 Axes>"
      ]
     },
     "metadata": {
      "needs_background": "light"
     },
     "output_type": "display_data"
    }
   ],
   "source": [
    "plt.figure(figsize=(25,17))\n",
    "for i in range(1,len(dataset.columns)):\n",
    "    plt.subplot(5,5,i)\n",
    "    sns.countplot(x=dataset[dataset.columns[i]],hue=dataset['class'])"
   ]
  },
  {
   "cell_type": "markdown",
   "id": "920ea7a5",
   "metadata": {
    "papermill": {
     "duration": 0.02057,
     "end_time": "2023-01-03T09:51:33.134564",
     "exception": false,
     "start_time": "2023-01-03T09:51:33.113994",
     "status": "completed"
    },
    "tags": []
   },
   "source": [
    "# DATA PREPROCESSING"
   ]
  },
  {
   "cell_type": "code",
   "execution_count": 14,
   "id": "631b3f93",
   "metadata": {
    "execution": {
     "iopub.execute_input": "2023-01-03T09:51:33.178413Z",
     "iopub.status.busy": "2023-01-03T09:51:33.177725Z",
     "iopub.status.idle": "2023-01-03T09:51:33.248378Z",
     "shell.execute_reply": "2023-01-03T09:51:33.247415Z"
    },
    "papermill": {
     "duration": 0.095736,
     "end_time": "2023-01-03T09:51:33.251184",
     "exception": false,
     "start_time": "2023-01-03T09:51:33.155448",
     "status": "completed"
    },
    "tags": []
   },
   "outputs": [
    {
     "data": {
      "text/html": [
       "<div>\n",
       "<style scoped>\n",
       "    .dataframe tbody tr th:only-of-type {\n",
       "        vertical-align: middle;\n",
       "    }\n",
       "\n",
       "    .dataframe tbody tr th {\n",
       "        vertical-align: top;\n",
       "    }\n",
       "\n",
       "    .dataframe thead th {\n",
       "        text-align: right;\n",
       "    }\n",
       "</style>\n",
       "<table border=\"1\" class=\"dataframe\">\n",
       "  <thead>\n",
       "    <tr style=\"text-align: right;\">\n",
       "      <th></th>\n",
       "      <th>class</th>\n",
       "      <th>cap-shape</th>\n",
       "      <th>cap-surface</th>\n",
       "      <th>cap-color</th>\n",
       "      <th>bruises</th>\n",
       "      <th>odor</th>\n",
       "      <th>gill-attachment</th>\n",
       "      <th>gill-spacing</th>\n",
       "      <th>gill-size</th>\n",
       "      <th>gill-color</th>\n",
       "      <th>...</th>\n",
       "      <th>stalk-surface-below-ring</th>\n",
       "      <th>stalk-color-above-ring</th>\n",
       "      <th>stalk-color-below-ring</th>\n",
       "      <th>veil-type</th>\n",
       "      <th>veil-color</th>\n",
       "      <th>ring-number</th>\n",
       "      <th>ring-type</th>\n",
       "      <th>spore-print-color</th>\n",
       "      <th>population</th>\n",
       "      <th>habitat</th>\n",
       "    </tr>\n",
       "  </thead>\n",
       "  <tbody>\n",
       "    <tr>\n",
       "      <th>0</th>\n",
       "      <td>1</td>\n",
       "      <td>5</td>\n",
       "      <td>2</td>\n",
       "      <td>4</td>\n",
       "      <td>1</td>\n",
       "      <td>6</td>\n",
       "      <td>1</td>\n",
       "      <td>0</td>\n",
       "      <td>1</td>\n",
       "      <td>4</td>\n",
       "      <td>...</td>\n",
       "      <td>2</td>\n",
       "      <td>7</td>\n",
       "      <td>7</td>\n",
       "      <td>0</td>\n",
       "      <td>2</td>\n",
       "      <td>1</td>\n",
       "      <td>4</td>\n",
       "      <td>2</td>\n",
       "      <td>3</td>\n",
       "      <td>5</td>\n",
       "    </tr>\n",
       "    <tr>\n",
       "      <th>1</th>\n",
       "      <td>0</td>\n",
       "      <td>5</td>\n",
       "      <td>2</td>\n",
       "      <td>9</td>\n",
       "      <td>1</td>\n",
       "      <td>0</td>\n",
       "      <td>1</td>\n",
       "      <td>0</td>\n",
       "      <td>0</td>\n",
       "      <td>4</td>\n",
       "      <td>...</td>\n",
       "      <td>2</td>\n",
       "      <td>7</td>\n",
       "      <td>7</td>\n",
       "      <td>0</td>\n",
       "      <td>2</td>\n",
       "      <td>1</td>\n",
       "      <td>4</td>\n",
       "      <td>3</td>\n",
       "      <td>2</td>\n",
       "      <td>1</td>\n",
       "    </tr>\n",
       "    <tr>\n",
       "      <th>2</th>\n",
       "      <td>0</td>\n",
       "      <td>0</td>\n",
       "      <td>2</td>\n",
       "      <td>8</td>\n",
       "      <td>1</td>\n",
       "      <td>3</td>\n",
       "      <td>1</td>\n",
       "      <td>0</td>\n",
       "      <td>0</td>\n",
       "      <td>5</td>\n",
       "      <td>...</td>\n",
       "      <td>2</td>\n",
       "      <td>7</td>\n",
       "      <td>7</td>\n",
       "      <td>0</td>\n",
       "      <td>2</td>\n",
       "      <td>1</td>\n",
       "      <td>4</td>\n",
       "      <td>3</td>\n",
       "      <td>2</td>\n",
       "      <td>3</td>\n",
       "    </tr>\n",
       "    <tr>\n",
       "      <th>3</th>\n",
       "      <td>1</td>\n",
       "      <td>5</td>\n",
       "      <td>3</td>\n",
       "      <td>8</td>\n",
       "      <td>1</td>\n",
       "      <td>6</td>\n",
       "      <td>1</td>\n",
       "      <td>0</td>\n",
       "      <td>1</td>\n",
       "      <td>5</td>\n",
       "      <td>...</td>\n",
       "      <td>2</td>\n",
       "      <td>7</td>\n",
       "      <td>7</td>\n",
       "      <td>0</td>\n",
       "      <td>2</td>\n",
       "      <td>1</td>\n",
       "      <td>4</td>\n",
       "      <td>2</td>\n",
       "      <td>3</td>\n",
       "      <td>5</td>\n",
       "    </tr>\n",
       "    <tr>\n",
       "      <th>4</th>\n",
       "      <td>0</td>\n",
       "      <td>5</td>\n",
       "      <td>2</td>\n",
       "      <td>3</td>\n",
       "      <td>0</td>\n",
       "      <td>5</td>\n",
       "      <td>1</td>\n",
       "      <td>1</td>\n",
       "      <td>0</td>\n",
       "      <td>4</td>\n",
       "      <td>...</td>\n",
       "      <td>2</td>\n",
       "      <td>7</td>\n",
       "      <td>7</td>\n",
       "      <td>0</td>\n",
       "      <td>2</td>\n",
       "      <td>1</td>\n",
       "      <td>0</td>\n",
       "      <td>3</td>\n",
       "      <td>0</td>\n",
       "      <td>1</td>\n",
       "    </tr>\n",
       "  </tbody>\n",
       "</table>\n",
       "<p>5 rows × 23 columns</p>\n",
       "</div>"
      ],
      "text/plain": [
       "   class  cap-shape  cap-surface  cap-color  bruises  odor  gill-attachment  \\\n",
       "0      1          5            2          4        1     6                1   \n",
       "1      0          5            2          9        1     0                1   \n",
       "2      0          0            2          8        1     3                1   \n",
       "3      1          5            3          8        1     6                1   \n",
       "4      0          5            2          3        0     5                1   \n",
       "\n",
       "   gill-spacing  gill-size  gill-color  ...  stalk-surface-below-ring  \\\n",
       "0             0          1           4  ...                         2   \n",
       "1             0          0           4  ...                         2   \n",
       "2             0          0           5  ...                         2   \n",
       "3             0          1           5  ...                         2   \n",
       "4             1          0           4  ...                         2   \n",
       "\n",
       "   stalk-color-above-ring  stalk-color-below-ring  veil-type  veil-color  \\\n",
       "0                       7                       7          0           2   \n",
       "1                       7                       7          0           2   \n",
       "2                       7                       7          0           2   \n",
       "3                       7                       7          0           2   \n",
       "4                       7                       7          0           2   \n",
       "\n",
       "   ring-number  ring-type  spore-print-color  population  habitat  \n",
       "0            1          4                  2           3        5  \n",
       "1            1          4                  3           2        1  \n",
       "2            1          4                  3           2        3  \n",
       "3            1          4                  2           3        5  \n",
       "4            1          0                  3           0        1  \n",
       "\n",
       "[5 rows x 23 columns]"
      ]
     },
     "execution_count": 14,
     "metadata": {},
     "output_type": "execute_result"
    }
   ],
   "source": [
    "le = LabelEncoder()\n",
    "dataset= dataset.apply(LabelEncoder().fit_transform)   \n",
    "dataset.head()"
   ]
  },
  {
   "cell_type": "code",
   "execution_count": 15,
   "id": "bc4b2c31",
   "metadata": {
    "execution": {
     "iopub.execute_input": "2023-01-03T09:51:33.296411Z",
     "iopub.status.busy": "2023-01-03T09:51:33.295929Z",
     "iopub.status.idle": "2023-01-03T09:51:36.521489Z",
     "shell.execute_reply": "2023-01-03T09:51:36.520214Z"
    },
    "papermill": {
     "duration": 3.251974,
     "end_time": "2023-01-03T09:51:36.524845",
     "exception": false,
     "start_time": "2023-01-03T09:51:33.272871",
     "status": "completed"
    },
    "tags": []
   },
   "outputs": [
    {
     "data": {
      "image/png": "[encoded data removed]",
      "text/plain": [
       "<Figure size 1080x1080 with 25 Axes>"
      ]
     },
     "metadata": {
      "needs_background": "light"
     },
     "output_type": "display_data"
    }
   ],
   "source": [
    "dataset.hist(figsize=(15,15));"
   ]
  },
  {
   "cell_type": "code",
   "execution_count": 16,
   "id": "9ebe740e",
   "metadata": {
    "execution": {
     "iopub.execute_input": "2023-01-03T09:51:36.575182Z",
     "iopub.status.busy": "2023-01-03T09:51:36.574055Z",
     "iopub.status.idle": "2023-01-03T09:51:36.586975Z",
     "shell.execute_reply": "2023-01-03T09:51:36.585618Z"
    },
    "papermill": {
     "duration": 0.041907,
     "end_time": "2023-01-03T09:51:36.590166",
     "exception": false,
     "start_time": "2023-01-03T09:51:36.548259",
     "status": "completed"
    },
    "tags": []
   },
   "outputs": [],
   "source": [
    "X = dataset.drop(['class'] , axis = 1)\n",
    "Y = dataset['class']\n",
    "X_train, X_test,Y_train,Y_test = train_test_split(X,Y, test_size = 0.25, random_state = 0)"
   ]
  },
  {
   "cell_type": "code",
   "execution_count": 17,
   "id": "6831d53a",
   "metadata": {
    "execution": {
     "iopub.execute_input": "2023-01-03T09:51:36.638519Z",
     "iopub.status.busy": "2023-01-03T09:51:36.638096Z",
     "iopub.status.idle": "2023-01-03T09:51:36.656679Z",
     "shell.execute_reply": "2023-01-03T09:51:36.655596Z"
    },
    "papermill": {
     "duration": 0.046019,
     "end_time": "2023-01-03T09:51:36.659275",
     "exception": false,
     "start_time": "2023-01-03T09:51:36.613256",
     "status": "completed"
    },
    "tags": []
   },
   "outputs": [
    {
     "data": {
      "text/html": [
       "<div>\n",
       "<style scoped>\n",
       "    .dataframe tbody tr th:only-of-type {\n",
       "        vertical-align: middle;\n",
       "    }\n",
       "\n",
       "    .dataframe tbody tr th {\n",
       "        vertical-align: top;\n",
       "    }\n",
       "\n",
       "    .dataframe thead th {\n",
       "        text-align: right;\n",
       "    }\n",
       "</style>\n",
       "<table border=\"1\" class=\"dataframe\">\n",
       "  <thead>\n",
       "    <tr style=\"text-align: right;\">\n",
       "      <th></th>\n",
       "      <th>cap-shape</th>\n",
       "      <th>cap-surface</th>\n",
       "      <th>cap-color</th>\n",
       "      <th>bruises</th>\n",
       "      <th>odor</th>\n",
       "      <th>gill-attachment</th>\n",
       "      <th>gill-spacing</th>\n",
       "      <th>gill-size</th>\n",
       "      <th>gill-color</th>\n",
       "      <th>stalk-shape</th>\n",
       "      <th>...</th>\n",
       "      <th>stalk-surface-below-ring</th>\n",
       "      <th>stalk-color-above-ring</th>\n",
       "      <th>stalk-color-below-ring</th>\n",
       "      <th>veil-type</th>\n",
       "      <th>veil-color</th>\n",
       "      <th>ring-number</th>\n",
       "      <th>ring-type</th>\n",
       "      <th>spore-print-color</th>\n",
       "      <th>population</th>\n",
       "      <th>habitat</th>\n",
       "    </tr>\n",
       "  </thead>\n",
       "  <tbody>\n",
       "    <tr>\n",
       "      <th>0</th>\n",
       "      <td>5</td>\n",
       "      <td>2</td>\n",
       "      <td>4</td>\n",
       "      <td>1</td>\n",
       "      <td>6</td>\n",
       "      <td>1</td>\n",
       "      <td>0</td>\n",
       "      <td>1</td>\n",
       "      <td>4</td>\n",
       "      <td>0</td>\n",
       "      <td>...</td>\n",
       "      <td>2</td>\n",
       "      <td>7</td>\n",
       "      <td>7</td>\n",
       "      <td>0</td>\n",
       "      <td>2</td>\n",
       "      <td>1</td>\n",
       "      <td>4</td>\n",
       "      <td>2</td>\n",
       "      <td>3</td>\n",
       "      <td>5</td>\n",
       "    </tr>\n",
       "    <tr>\n",
       "      <th>1</th>\n",
       "      <td>5</td>\n",
       "      <td>2</td>\n",
       "      <td>9</td>\n",
       "      <td>1</td>\n",
       "      <td>0</td>\n",
       "      <td>1</td>\n",
       "      <td>0</td>\n",
       "      <td>0</td>\n",
       "      <td>4</td>\n",
       "      <td>0</td>\n",
       "      <td>...</td>\n",
       "      <td>2</td>\n",
       "      <td>7</td>\n",
       "      <td>7</td>\n",
       "      <td>0</td>\n",
       "      <td>2</td>\n",
       "      <td>1</td>\n",
       "      <td>4</td>\n",
       "      <td>3</td>\n",
       "      <td>2</td>\n",
       "      <td>1</td>\n",
       "    </tr>\n",
       "    <tr>\n",
       "      <th>2</th>\n",
       "      <td>0</td>\n",
       "      <td>2</td>\n",
       "      <td>8</td>\n",
       "      <td>1</td>\n",
       "      <td>3</td>\n",
       "      <td>1</td>\n",
       "      <td>0</td>\n",
       "      <td>0</td>\n",
       "      <td>5</td>\n",
       "      <td>0</td>\n",
       "      <td>...</td>\n",
       "      <td>2</td>\n",
       "      <td>7</td>\n",
       "      <td>7</td>\n",
       "      <td>0</td>\n",
       "      <td>2</td>\n",
       "      <td>1</td>\n",
       "      <td>4</td>\n",
       "      <td>3</td>\n",
       "      <td>2</td>\n",
       "      <td>3</td>\n",
       "    </tr>\n",
       "    <tr>\n",
       "      <th>3</th>\n",
       "      <td>5</td>\n",
       "      <td>3</td>\n",
       "      <td>8</td>\n",
       "      <td>1</td>\n",
       "      <td>6</td>\n",
       "      <td>1</td>\n",
       "      <td>0</td>\n",
       "      <td>1</td>\n",
       "      <td>5</td>\n",
       "      <td>0</td>\n",
       "      <td>...</td>\n",
       "      <td>2</td>\n",
       "      <td>7</td>\n",
       "      <td>7</td>\n",
       "      <td>0</td>\n",
       "      <td>2</td>\n",
       "      <td>1</td>\n",
       "      <td>4</td>\n",
       "      <td>2</td>\n",
       "      <td>3</td>\n",
       "      <td>5</td>\n",
       "    </tr>\n",
       "    <tr>\n",
       "      <th>4</th>\n",
       "      <td>5</td>\n",
       "      <td>2</td>\n",
       "      <td>3</td>\n",
       "      <td>0</td>\n",
       "      <td>5</td>\n",
       "      <td>1</td>\n",
       "      <td>1</td>\n",
       "      <td>0</td>\n",
       "      <td>4</td>\n",
       "      <td>1</td>\n",
       "      <td>...</td>\n",
       "      <td>2</td>\n",
       "      <td>7</td>\n",
       "      <td>7</td>\n",
       "      <td>0</td>\n",
       "      <td>2</td>\n",
       "      <td>1</td>\n",
       "      <td>0</td>\n",
       "      <td>3</td>\n",
       "      <td>0</td>\n",
       "      <td>1</td>\n",
       "    </tr>\n",
       "  </tbody>\n",
       "</table>\n",
       "<p>5 rows × 22 columns</p>\n",
       "</div>"
      ],
      "text/plain": [
       "   cap-shape  cap-surface  cap-color  bruises  odor  gill-attachment  \\\n",
       "0          5            2          4        1     6                1   \n",
       "1          5            2          9        1     0                1   \n",
       "2          0            2          8        1     3                1   \n",
       "3          5            3          8        1     6                1   \n",
       "4          5            2          3        0     5                1   \n",
       "\n",
       "   gill-spacing  gill-size  gill-color  stalk-shape  ...  \\\n",
       "0             0          1           4            0  ...   \n",
       "1             0          0           4            0  ...   \n",
       "2             0          0           5            0  ...   \n",
       "3             0          1           5            0  ...   \n",
       "4             1          0           4            1  ...   \n",
       "\n",
       "   stalk-surface-below-ring  stalk-color-above-ring  stalk-color-below-ring  \\\n",
       "0                         2                       7                       7   \n",
       "1                         2                       7                       7   \n",
       "2                         2                       7                       7   \n",
       "3                         2                       7                       7   \n",
       "4                         2                       7                       7   \n",
       "\n",
       "   veil-type  veil-color  ring-number  ring-type  spore-print-color  \\\n",
       "0          0           2            1          4                  2   \n",
       "1          0           2            1          4                  3   \n",
       "2          0           2            1          4                  3   \n",
       "3          0           2            1          4                  2   \n",
       "4          0           2            1          0                  3   \n",
       "\n",
       "   population  habitat  \n",
       "0           3        5  \n",
       "1           2        1  \n",
       "2           2        3  \n",
       "3           3        5  \n",
       "4           0        1  \n",
       "\n",
       "[5 rows x 22 columns]"
      ]
     },
     "execution_count": 17,
     "metadata": {},
     "output_type": "execute_result"
    }
   ],
   "source": [
    "X.head()"
   ]
  },
  {
   "cell_type": "code",
   "execution_count": 18,
   "id": "e5c46f58",
   "metadata": {
    "execution": {
     "iopub.execute_input": "2023-01-03T09:51:36.707682Z",
     "iopub.status.busy": "2023-01-03T09:51:36.706978Z",
     "iopub.status.idle": "2023-01-03T09:51:36.715614Z",
     "shell.execute_reply": "2023-01-03T09:51:36.714230Z"
    },
    "papermill": {
     "duration": 0.036509,
     "end_time": "2023-01-03T09:51:36.718549",
     "exception": false,
     "start_time": "2023-01-03T09:51:36.682040",
     "status": "completed"
    },
    "tags": []
   },
   "outputs": [
    {
     "data": {
      "text/plain": [
       "0    1\n",
       "1    0\n",
       "2    0\n",
       "3    1\n",
       "4    0\n",
       "Name: class, dtype: int64"
      ]
     },
     "execution_count": 18,
     "metadata": {},
     "output_type": "execute_result"
    }
   ],
   "source": [
    "Y.head()"
   ]
  },
  {
   "cell_type": "code",
   "execution_count": 19,
   "id": "63241211",
   "metadata": {
    "execution": {
     "iopub.execute_input": "2023-01-03T09:51:36.767012Z",
     "iopub.status.busy": "2023-01-03T09:51:36.766452Z",
     "iopub.status.idle": "2023-01-03T09:51:36.781662Z",
     "shell.execute_reply": "2023-01-03T09:51:36.780668Z"
    },
    "papermill": {
     "duration": 0.042524,
     "end_time": "2023-01-03T09:51:36.784277",
     "exception": false,
     "start_time": "2023-01-03T09:51:36.741753",
     "status": "completed"
    },
    "tags": []
   },
   "outputs": [
    {
     "data": {
      "text/plain": [
       "cap-shape                    2.556176\n",
       "cap-surface                  1.512676\n",
       "cap-color                    6.360095\n",
       "bruises                      0.242798\n",
       "odor                         4.368448\n",
       "gill-attachment              0.023704\n",
       "gill-spacing                 0.136104\n",
       "gill-size                    0.214752\n",
       "gill-color                  12.575666\n",
       "stalk-shape                  0.245323\n",
       "stalk-root                   1.141097\n",
       "stalk-surface-above-ring     0.390107\n",
       "stalk-surface-below-ring     0.458047\n",
       "stalk-color-above-ring       3.635159\n",
       "stalk-color-below-ring       3.620530\n",
       "veil-type                    0.000000\n",
       "veil-color                   0.054315\n",
       "ring-number                  0.074654\n",
       "ring-type                    3.260806\n",
       "spore-print-color            5.676496\n",
       "population                   1.590735\n",
       "habitat                      2.979071\n",
       "dtype: float64"
      ]
     },
     "execution_count": 19,
     "metadata": {},
     "output_type": "execute_result"
    }
   ],
   "source": [
    "X_train.var()"
   ]
  },
  {
   "cell_type": "code",
   "execution_count": 20,
   "id": "0f3dbd5c",
   "metadata": {
    "execution": {
     "iopub.execute_input": "2023-01-03T09:51:36.836302Z",
     "iopub.status.busy": "2023-01-03T09:51:36.835580Z",
     "iopub.status.idle": "2023-01-03T09:51:36.846541Z",
     "shell.execute_reply": "2023-01-03T09:51:36.845243Z"
    },
    "papermill": {
     "duration": 0.04087,
     "end_time": "2023-01-03T09:51:36.849124",
     "exception": false,
     "start_time": "2023-01-03T09:51:36.808254",
     "status": "completed"
    },
    "tags": []
   },
   "outputs": [
    {
     "data": {
      "text/plain": [
       "cap-shape                    2.627914\n",
       "cap-surface                  1.512921\n",
       "cap-color                    6.828748\n",
       "bruises                      0.243318\n",
       "odor                         4.593791\n",
       "gill-attachment              0.029610\n",
       "gill-spacing                 0.133473\n",
       "gill-size                    0.210241\n",
       "gill-color                  12.415222\n",
       "stalk-shape                  0.246180\n",
       "stalk-root                   1.080406\n",
       "stalk-surface-above-ring     0.374674\n",
       "stalk-surface-below-ring     0.453846\n",
       "stalk-color-above-ring       3.562855\n",
       "stalk-color-below-ring       3.690453\n",
       "veil-type                    0.000000\n",
       "veil-color                   0.072548\n",
       "ring-number                  0.069964\n",
       "ring-type                    3.198519\n",
       "spore-print-color            5.679921\n",
       "population                   1.498985\n",
       "habitat                      2.897412\n",
       "dtype: float64"
      ]
     },
     "execution_count": 20,
     "metadata": {},
     "output_type": "execute_result"
    }
   ],
   "source": [
    "X_test.var()"
   ]
  },
  {
   "cell_type": "code",
   "execution_count": 21,
   "id": "172308f5",
   "metadata": {
    "execution": {
     "iopub.execute_input": "2023-01-03T09:51:36.899597Z",
     "iopub.status.busy": "2023-01-03T09:51:36.898847Z",
     "iopub.status.idle": "2023-01-03T09:51:36.905096Z",
     "shell.execute_reply": "2023-01-03T09:51:36.904070Z"
    },
    "papermill": {
     "duration": 0.035029,
     "end_time": "2023-01-03T09:51:36.908603",
     "exception": false,
     "start_time": "2023-01-03T09:51:36.873574",
     "status": "completed"
    },
    "tags": []
   },
   "outputs": [
    {
     "name": "stdout",
     "output_type": "stream",
     "text": [
      "X_test shape: (2031, 22)\n",
      "X_train shape: (6093, 22)\n"
     ]
    }
   ],
   "source": [
    "print(\"X_test shape:\",X_test.shape) \n",
    "print(\"X_train shape:\",X_train.shape)\n"
   ]
  },
  {
   "cell_type": "code",
   "execution_count": 22,
   "id": "9b274c00",
   "metadata": {
    "execution": {
     "iopub.execute_input": "2023-01-03T09:51:36.958675Z",
     "iopub.status.busy": "2023-01-03T09:51:36.958241Z",
     "iopub.status.idle": "2023-01-03T09:51:36.964234Z",
     "shell.execute_reply": "2023-01-03T09:51:36.962954Z"
    },
    "papermill": {
     "duration": 0.035275,
     "end_time": "2023-01-03T09:51:36.968367",
     "exception": false,
     "start_time": "2023-01-03T09:51:36.933092",
     "status": "completed"
    },
    "tags": []
   },
   "outputs": [
    {
     "name": "stdout",
     "output_type": "stream",
     "text": [
      "Y_test shape: (2031,)\n",
      "Y_train shape: (6093,)\n"
     ]
    }
   ],
   "source": [
    "print(\"Y_test shape:\",Y_test.shape)\n",
    "print(\"Y_train shape:\",Y_train.shape)"
   ]
  },
  {
   "cell_type": "markdown",
   "id": "4ff0c692",
   "metadata": {
    "papermill": {
     "duration": 0.023048,
     "end_time": "2023-01-03T09:51:37.015715",
     "exception": false,
     "start_time": "2023-01-03T09:51:36.992667",
     "status": "completed"
    },
    "tags": []
   },
   "source": [
    "# DECISION TREE CLASSIFIER"
   ]
  },
  {
   "cell_type": "code",
   "execution_count": 23,
   "id": "c6a37500",
   "metadata": {
    "execution": {
     "iopub.execute_input": "2023-01-03T09:51:37.065109Z",
     "iopub.status.busy": "2023-01-03T09:51:37.064662Z",
     "iopub.status.idle": "2023-01-03T09:51:38.329836Z",
     "shell.execute_reply": "2023-01-03T09:51:38.327922Z"
    },
    "papermill": {
     "duration": 1.293114,
     "end_time": "2023-01-03T09:51:38.332995",
     "exception": false,
     "start_time": "2023-01-03T09:51:37.039881",
     "status": "completed"
    },
    "tags": []
   },
   "outputs": [
    {
     "data": {
      "image/svg+xml": [
       "<?xml version=\"1.0\" encoding=\"UTF-8\" standalone=\"no\"?>\n",
       "<!DOCTYPE svg PUBLIC \"-//W3C//DTD SVG 1.1//EN\"\n",
       " \"http://www.w3.org/Graphics/SVG/1.1/DTD/svg11.dtd\">\n",
       "<!-- Generated by graphviz version 5.0.0 (20220707.2338)\n",
       " -->\n",
       "<!-- Title: Tree Pages: 1 -->\n",
       "<svg width=\"1695pt\" height=\"789pt\"\n",
       " viewBox=\"0.00 0.00 1694.50 789.00\" xmlns=\"http://www.w3.org/2000/svg\" xmlns:xlink=\"http://www.w3.org/1999/xlink\">\n",
       "<g id=\"graph0\" class=\"graph\" transform=\"scale(1 1) rotate(0) translate(4 785)\">\n",
       "<title>Tree</title>\n",
       "<polygon fill=\"white\" stroke=\"transparent\" points=\"-4,4 -4,-785 1690.5,-785 1690.5,4 -4,4\"/>\n",
       "<!-- 0 -->\n",
       "<g id=\"node1\" class=\"node\">\n",
       "<title>0</title>\n",
       "<path fill=\"#fdf7f2\" stroke=\"black\" d=\"M730.5,-781C730.5,-781 587.5,-781 587.5,-781 581.5,-781 575.5,-775 575.5,-769 575.5,-769 575.5,-725 575.5,-725 575.5,-719 581.5,-713 587.5,-713 587.5,-713 730.5,-713 730.5,-713 736.5,-713 742.5,-719 742.5,-725 742.5,-725 742.5,-769 742.5,-769 742.5,-775 736.5,-781 730.5,-781\"/>\n",
       "<text text-anchor=\"start\" x=\"607.5\" y=\"-765.8\" font-family=\"Helvetica,sans-Serif\" font-size=\"14.00\">gill&#45;color ≤ 3.5</text>\n",
       "<text text-anchor=\"start\" x=\"615\" y=\"-750.8\" font-family=\"Helvetica,sans-Serif\" font-size=\"14.00\">gini = 0.499</text>\n",
       "<text text-anchor=\"start\" x=\"601.5\" y=\"-735.8\" font-family=\"Helvetica,sans-Serif\" font-size=\"14.00\">samples = 6093</text>\n",
       "<text text-anchor=\"start\" x=\"583.5\" y=\"-720.8\" font-family=\"Helvetica,sans-Serif\" font-size=\"14.00\">value = [3147, 2946]</text>\n",
       "</g>\n",
       "<!-- 1 -->\n",
       "<g id=\"node2\" class=\"node\">\n",
       "<title>1</title>\n",
       "<path fill=\"#60b0ea\" stroke=\"black\" d=\"M557,-677C557,-677 423,-677 423,-677 417,-677 411,-671 411,-665 411,-665 411,-621 411,-621 411,-615 417,-609 423,-609 423,-609 557,-609 557,-609 563,-609 569,-615 569,-621 569,-621 569,-665 569,-665 569,-671 563,-677 557,-677\"/>\n",
       "<text text-anchor=\"start\" x=\"431\" y=\"-661.8\" font-family=\"Helvetica,sans-Serif\" font-size=\"14.00\">population ≤ 3.5</text>\n",
       "<text text-anchor=\"start\" x=\"446\" y=\"-646.8\" font-family=\"Helvetica,sans-Serif\" font-size=\"14.00\">gini = 0.273</text>\n",
       "<text text-anchor=\"start\" x=\"432.5\" y=\"-631.8\" font-family=\"Helvetica,sans-Serif\" font-size=\"14.00\">samples = 2480</text>\n",
       "<text text-anchor=\"start\" x=\"419\" y=\"-616.8\" font-family=\"Helvetica,sans-Serif\" font-size=\"14.00\">value = [404, 2076]</text>\n",
       "</g>\n",
       "<!-- 0&#45;&gt;1 -->\n",
       "<g id=\"edge1\" class=\"edge\">\n",
       "<title>0&#45;&gt;1</title>\n",
       "<path fill=\"none\" stroke=\"black\" d=\"M604.13,-712.88C587.96,-703.12 570.14,-692.37 553.47,-682.31\"/>\n",
       "<polygon fill=\"black\" stroke=\"black\" points=\"555.25,-679.3 544.88,-677.12 551.64,-685.29 555.25,-679.3\"/>\n",
       "<text text-anchor=\"middle\" x=\"550.88\" y=\"-697.69\" font-family=\"Helvetica,sans-Serif\" font-size=\"14.00\">True</text>\n",
       "</g>\n",
       "<!-- 14 -->\n",
       "<g id=\"node15\" class=\"node\">\n",
       "<title>14</title>\n",
       "<path fill=\"#eda978\" stroke=\"black\" d=\"M894,-677C894,-677 742,-677 742,-677 736,-677 730,-671 730,-665 730,-665 730,-621 730,-621 730,-615 736,-609 742,-609 742,-609 894,-609 894,-609 900,-609 906,-615 906,-621 906,-621 906,-665 906,-665 906,-671 900,-677 894,-677\"/>\n",
       "<text text-anchor=\"start\" x=\"738\" y=\"-661.8\" font-family=\"Helvetica,sans-Serif\" font-size=\"14.00\">spore&#45;print&#45;color ≤ 1.5</text>\n",
       "<text text-anchor=\"start\" x=\"774\" y=\"-646.8\" font-family=\"Helvetica,sans-Serif\" font-size=\"14.00\">gini = 0.366</text>\n",
       "<text text-anchor=\"start\" x=\"760.5\" y=\"-631.8\" font-family=\"Helvetica,sans-Serif\" font-size=\"14.00\">samples = 3613</text>\n",
       "<text text-anchor=\"start\" x=\"747\" y=\"-616.8\" font-family=\"Helvetica,sans-Serif\" font-size=\"14.00\">value = [2743, 870]</text>\n",
       "</g>\n",
       "<!-- 0&#45;&gt;14 -->\n",
       "<g id=\"edge14\" class=\"edge\">\n",
       "<title>0&#45;&gt;14</title>\n",
       "<path fill=\"none\" stroke=\"black\" d=\"M710.62,-712.88C725.7,-703.21 742.3,-692.56 757.85,-682.59\"/>\n",
       "<polygon fill=\"black\" stroke=\"black\" points=\"759.84,-685.47 766.36,-677.12 756.06,-679.58 759.84,-685.47\"/>\n",
       "<text text-anchor=\"middle\" x=\"761.03\" y=\"-697.85\" font-family=\"Helvetica,sans-Serif\" font-size=\"14.00\">False</text>\n",
       "</g>\n",
       "<!-- 2 -->\n",
       "<g id=\"node3\" class=\"node\">\n",
       "<title>2</title>\n",
       "<path fill=\"#e99355\" stroke=\"black\" d=\"M286,-573C286,-573 134,-573 134,-573 128,-573 122,-567 122,-561 122,-561 122,-517 122,-517 122,-511 128,-505 134,-505 134,-505 286,-505 286,-505 292,-505 298,-511 298,-517 298,-517 298,-561 298,-561 298,-567 292,-573 286,-573\"/>\n",
       "<text text-anchor=\"start\" x=\"130\" y=\"-557.8\" font-family=\"Helvetica,sans-Serif\" font-size=\"14.00\">spore&#45;print&#45;color ≤ 1.5</text>\n",
       "<text text-anchor=\"start\" x=\"166\" y=\"-542.8\" font-family=\"Helvetica,sans-Serif\" font-size=\"14.00\">gini = 0.215</text>\n",
       "<text text-anchor=\"start\" x=\"157\" y=\"-527.8\" font-family=\"Helvetica,sans-Serif\" font-size=\"14.00\">samples = 432</text>\n",
       "<text text-anchor=\"start\" x=\"148\" y=\"-512.8\" font-family=\"Helvetica,sans-Serif\" font-size=\"14.00\">value = [379, 53]</text>\n",
       "</g>\n",
       "<!-- 1&#45;&gt;2 -->\n",
       "<g id=\"edge2\" class=\"edge\">\n",
       "<title>1&#45;&gt;2</title>\n",
       "<path fill=\"none\" stroke=\"black\" d=\"M410.89,-613.18C378.81,-601.49 341.44,-587.88 307.68,-575.59\"/>\n",
       "<polygon fill=\"black\" stroke=\"black\" points=\"308.86,-572.29 298.27,-572.16 306.47,-578.87 308.86,-572.29\"/>\n",
       "</g>\n",
       "<!-- 7 -->\n",
       "<g id=\"node8\" class=\"node\">\n",
       "<title>7</title>\n",
       "<path fill=\"#3b9ee5\" stroke=\"black\" d=\"M552.5,-573C552.5,-573 427.5,-573 427.5,-573 421.5,-573 415.5,-567 415.5,-561 415.5,-561 415.5,-517 415.5,-517 415.5,-511 421.5,-505 427.5,-505 427.5,-505 552.5,-505 552.5,-505 558.5,-505 564.5,-511 564.5,-517 564.5,-517 564.5,-561 564.5,-561 564.5,-567 558.5,-573 552.5,-573\"/>\n",
       "<text text-anchor=\"start\" x=\"435.5\" y=\"-557.8\" font-family=\"Helvetica,sans-Serif\" font-size=\"14.00\">stalk&#45;root ≤ 2.0</text>\n",
       "<text text-anchor=\"start\" x=\"446\" y=\"-542.8\" font-family=\"Helvetica,sans-Serif\" font-size=\"14.00\">gini = 0.024</text>\n",
       "<text text-anchor=\"start\" x=\"432.5\" y=\"-527.8\" font-family=\"Helvetica,sans-Serif\" font-size=\"14.00\">samples = 2048</text>\n",
       "<text text-anchor=\"start\" x=\"423.5\" y=\"-512.8\" font-family=\"Helvetica,sans-Serif\" font-size=\"14.00\">value = [25, 2023]</text>\n",
       "</g>\n",
       "<!-- 1&#45;&gt;7 -->\n",
       "<g id=\"edge7\" class=\"edge\">\n",
       "<title>1&#45;&gt;7</title>\n",
       "<path fill=\"none\" stroke=\"black\" d=\"M490,-608.88C490,-600.78 490,-591.98 490,-583.47\"/>\n",
       "<polygon fill=\"black\" stroke=\"black\" points=\"493.5,-583.3 490,-573.3 486.5,-583.3 493.5,-583.3\"/>\n",
       "</g>\n",
       "<!-- 3 -->\n",
       "<g id=\"node4\" class=\"node\">\n",
       "<title>3</title>\n",
       "<path fill=\"#399de5\" stroke=\"black\" d=\"M110,-461.5C110,-461.5 12,-461.5 12,-461.5 6,-461.5 0,-455.5 0,-449.5 0,-449.5 0,-420.5 0,-420.5 0,-414.5 6,-408.5 12,-408.5 12,-408.5 110,-408.5 110,-408.5 116,-408.5 122,-414.5 122,-420.5 122,-420.5 122,-449.5 122,-449.5 122,-455.5 116,-461.5 110,-461.5\"/>\n",
       "<text text-anchor=\"start\" x=\"26\" y=\"-446.3\" font-family=\"Helvetica,sans-Serif\" font-size=\"14.00\">gini = 0.0</text>\n",
       "<text text-anchor=\"start\" x=\"12.5\" y=\"-431.3\" font-family=\"Helvetica,sans-Serif\" font-size=\"14.00\">samples = 37</text>\n",
       "<text text-anchor=\"start\" x=\"8\" y=\"-416.3\" font-family=\"Helvetica,sans-Serif\" font-size=\"14.00\">value = [0, 37]</text>\n",
       "</g>\n",
       "<!-- 2&#45;&gt;3 -->\n",
       "<g id=\"edge3\" class=\"edge\">\n",
       "<title>2&#45;&gt;3</title>\n",
       "<path fill=\"none\" stroke=\"black\" d=\"M161.62,-504.88C143.95,-492.79 124.03,-479.15 106.61,-467.22\"/>\n",
       "<polygon fill=\"black\" stroke=\"black\" points=\"108.51,-464.28 98.28,-461.52 104.55,-470.06 108.51,-464.28\"/>\n",
       "</g>\n",
       "<!-- 4 -->\n",
       "<g id=\"node5\" class=\"node\">\n",
       "<title>4</title>\n",
       "<path fill=\"#e68641\" stroke=\"black\" d=\"M268,-469C268,-469 152,-469 152,-469 146,-469 140,-463 140,-457 140,-457 140,-413 140,-413 140,-407 146,-401 152,-401 152,-401 268,-401 268,-401 274,-401 280,-407 280,-413 280,-413 280,-457 280,-457 280,-463 274,-469 268,-469\"/>\n",
       "<text text-anchor=\"start\" x=\"161.5\" y=\"-453.8\" font-family=\"Helvetica,sans-Serif\" font-size=\"14.00\">gill&#45;size ≤ 0.5</text>\n",
       "<text text-anchor=\"start\" x=\"166\" y=\"-438.8\" font-family=\"Helvetica,sans-Serif\" font-size=\"14.00\">gini = 0.078</text>\n",
       "<text text-anchor=\"start\" x=\"157\" y=\"-423.8\" font-family=\"Helvetica,sans-Serif\" font-size=\"14.00\">samples = 395</text>\n",
       "<text text-anchor=\"start\" x=\"148\" y=\"-408.8\" font-family=\"Helvetica,sans-Serif\" font-size=\"14.00\">value = [379, 16]</text>\n",
       "</g>\n",
       "<!-- 2&#45;&gt;4 -->\n",
       "<g id=\"edge4\" class=\"edge\">\n",
       "<title>2&#45;&gt;4</title>\n",
       "<path fill=\"none\" stroke=\"black\" d=\"M210,-504.88C210,-496.78 210,-487.98 210,-479.47\"/>\n",
       "<polygon fill=\"black\" stroke=\"black\" points=\"213.5,-479.3 210,-469.3 206.5,-479.3 213.5,-479.3\"/>\n",
       "</g>\n",
       "<!-- 5 -->\n",
       "<g id=\"node6\" class=\"node\">\n",
       "<title>5</title>\n",
       "<path fill=\"#e58139\" stroke=\"black\" d=\"M134.5,-357.5C134.5,-357.5 27.5,-357.5 27.5,-357.5 21.5,-357.5 15.5,-351.5 15.5,-345.5 15.5,-345.5 15.5,-316.5 15.5,-316.5 15.5,-310.5 21.5,-304.5 27.5,-304.5 27.5,-304.5 134.5,-304.5 134.5,-304.5 140.5,-304.5 146.5,-310.5 146.5,-316.5 146.5,-316.5 146.5,-345.5 146.5,-345.5 146.5,-351.5 140.5,-357.5 134.5,-357.5\"/>\n",
       "<text text-anchor=\"start\" x=\"46\" y=\"-342.3\" font-family=\"Helvetica,sans-Serif\" font-size=\"14.00\">gini = 0.0</text>\n",
       "<text text-anchor=\"start\" x=\"28\" y=\"-327.3\" font-family=\"Helvetica,sans-Serif\" font-size=\"14.00\">samples = 379</text>\n",
       "<text text-anchor=\"start\" x=\"23.5\" y=\"-312.3\" font-family=\"Helvetica,sans-Serif\" font-size=\"14.00\">value = [379, 0]</text>\n",
       "</g>\n",
       "<!-- 4&#45;&gt;5 -->\n",
       "<g id=\"edge5\" class=\"edge\">\n",
       "<title>4&#45;&gt;5</title>\n",
       "<path fill=\"none\" stroke=\"black\" d=\"M168.12,-400.88C153.1,-389.01 136.2,-375.65 121.31,-363.88\"/>\n",
       "<polygon fill=\"black\" stroke=\"black\" points=\"123.29,-360.98 113.28,-357.52 118.95,-366.47 123.29,-360.98\"/>\n",
       "</g>\n",
       "<!-- 6 -->\n",
       "<g id=\"node7\" class=\"node\">\n",
       "<title>6</title>\n",
       "<path fill=\"#399de5\" stroke=\"black\" d=\"M275,-357.5C275,-357.5 177,-357.5 177,-357.5 171,-357.5 165,-351.5 165,-345.5 165,-345.5 165,-316.5 165,-316.5 165,-310.5 171,-304.5 177,-304.5 177,-304.5 275,-304.5 275,-304.5 281,-304.5 287,-310.5 287,-316.5 287,-316.5 287,-345.5 287,-345.5 287,-351.5 281,-357.5 275,-357.5\"/>\n",
       "<text text-anchor=\"start\" x=\"191\" y=\"-342.3\" font-family=\"Helvetica,sans-Serif\" font-size=\"14.00\">gini = 0.0</text>\n",
       "<text text-anchor=\"start\" x=\"177.5\" y=\"-327.3\" font-family=\"Helvetica,sans-Serif\" font-size=\"14.00\">samples = 16</text>\n",
       "<text text-anchor=\"start\" x=\"173\" y=\"-312.3\" font-family=\"Helvetica,sans-Serif\" font-size=\"14.00\">value = [0, 16]</text>\n",
       "</g>\n",
       "<!-- 4&#45;&gt;6 -->\n",
       "<g id=\"edge6\" class=\"edge\">\n",
       "<title>4&#45;&gt;6</title>\n",
       "<path fill=\"none\" stroke=\"black\" d=\"M215.19,-400.88C216.87,-390.22 218.73,-378.35 220.43,-367.52\"/>\n",
       "<polygon fill=\"black\" stroke=\"black\" points=\"223.9,-367.94 222,-357.52 216.99,-366.86 223.9,-367.94\"/>\n",
       "</g>\n",
       "<!-- 8 -->\n",
       "<g id=\"node9\" class=\"node\">\n",
       "<title>8</title>\n",
       "<path fill=\"#3a9de5\" stroke=\"black\" d=\"M515.5,-469C515.5,-469 310.5,-469 310.5,-469 304.5,-469 298.5,-463 298.5,-457 298.5,-457 298.5,-413 298.5,-413 298.5,-407 304.5,-401 310.5,-401 310.5,-401 515.5,-401 515.5,-401 521.5,-401 527.5,-407 527.5,-413 527.5,-413 527.5,-457 527.5,-457 527.5,-463 521.5,-469 515.5,-469\"/>\n",
       "<text text-anchor=\"start\" x=\"306.5\" y=\"-453.8\" font-family=\"Helvetica,sans-Serif\" font-size=\"14.00\">stalk&#45;surface&#45;below&#45;ring ≤ 0.5</text>\n",
       "<text text-anchor=\"start\" x=\"369\" y=\"-438.8\" font-family=\"Helvetica,sans-Serif\" font-size=\"14.00\">gini = 0.009</text>\n",
       "<text text-anchor=\"start\" x=\"355.5\" y=\"-423.8\" font-family=\"Helvetica,sans-Serif\" font-size=\"14.00\">samples = 2032</text>\n",
       "<text text-anchor=\"start\" x=\"351\" y=\"-408.8\" font-family=\"Helvetica,sans-Serif\" font-size=\"14.00\">value = [9, 2023]</text>\n",
       "</g>\n",
       "<!-- 7&#45;&gt;8 -->\n",
       "<g id=\"edge8\" class=\"edge\">\n",
       "<title>7&#45;&gt;8</title>\n",
       "<path fill=\"none\" stroke=\"black\" d=\"M465,-504.88C458.41,-496.15 451.22,-486.62 444.34,-477.51\"/>\n",
       "<polygon fill=\"black\" stroke=\"black\" points=\"446.96,-475.17 438.14,-469.3 441.37,-479.39 446.96,-475.17\"/>\n",
       "</g>\n",
       "<!-- 13 -->\n",
       "<g id=\"node14\" class=\"node\">\n",
       "<title>13</title>\n",
       "<path fill=\"#e58139\" stroke=\"black\" d=\"M656,-461.5C656,-461.5 558,-461.5 558,-461.5 552,-461.5 546,-455.5 546,-449.5 546,-449.5 546,-420.5 546,-420.5 546,-414.5 552,-408.5 558,-408.5 558,-408.5 656,-408.5 656,-408.5 662,-408.5 668,-414.5 668,-420.5 668,-420.5 668,-449.5 668,-449.5 668,-455.5 662,-461.5 656,-461.5\"/>\n",
       "<text text-anchor=\"start\" x=\"572\" y=\"-446.3\" font-family=\"Helvetica,sans-Serif\" font-size=\"14.00\">gini = 0.0</text>\n",
       "<text text-anchor=\"start\" x=\"558.5\" y=\"-431.3\" font-family=\"Helvetica,sans-Serif\" font-size=\"14.00\">samples = 16</text>\n",
       "<text text-anchor=\"start\" x=\"554\" y=\"-416.3\" font-family=\"Helvetica,sans-Serif\" font-size=\"14.00\">value = [16, 0]</text>\n",
       "</g>\n",
       "<!-- 7&#45;&gt;13 -->\n",
       "<g id=\"edge13\" class=\"edge\">\n",
       "<title>7&#45;&gt;13</title>\n",
       "<path fill=\"none\" stroke=\"black\" d=\"M527.99,-504.88C541.48,-493.12 556.65,-479.89 570.06,-468.2\"/>\n",
       "<polygon fill=\"black\" stroke=\"black\" points=\"572.49,-470.73 577.73,-461.52 567.89,-465.45 572.49,-470.73\"/>\n",
       "</g>\n",
       "<!-- 9 -->\n",
       "<g id=\"node10\" class=\"node\">\n",
       "<title>9</title>\n",
       "<path fill=\"#9ccef2\" stroke=\"black\" d=\"M446,-365C446,-365 348,-365 348,-365 342,-365 336,-359 336,-353 336,-353 336,-309 336,-309 336,-303 342,-297 348,-297 348,-297 446,-297 446,-297 452,-297 458,-303 458,-309 458,-309 458,-353 458,-353 458,-359 452,-365 446,-365\"/>\n",
       "<text text-anchor=\"start\" x=\"349.5\" y=\"-349.8\" font-family=\"Helvetica,sans-Serif\" font-size=\"14.00\">bruises ≤ 0.5</text>\n",
       "<text text-anchor=\"start\" x=\"353\" y=\"-334.8\" font-family=\"Helvetica,sans-Serif\" font-size=\"14.00\">gini = 0.444</text>\n",
       "<text text-anchor=\"start\" x=\"348.5\" y=\"-319.8\" font-family=\"Helvetica,sans-Serif\" font-size=\"14.00\">samples = 27</text>\n",
       "<text text-anchor=\"start\" x=\"344\" y=\"-304.8\" font-family=\"Helvetica,sans-Serif\" font-size=\"14.00\">value = [9, 18]</text>\n",
       "</g>\n",
       "<!-- 8&#45;&gt;9 -->\n",
       "<g id=\"edge9\" class=\"edge\">\n",
       "<title>8&#45;&gt;9</title>\n",
       "<path fill=\"none\" stroke=\"black\" d=\"M407.81,-400.88C406.52,-392.69 405.12,-383.79 403.78,-375.19\"/>\n",
       "<polygon fill=\"black\" stroke=\"black\" points=\"407.23,-374.64 402.22,-365.3 400.32,-375.72 407.23,-374.64\"/>\n",
       "</g>\n",
       "<!-- 12 -->\n",
       "<g id=\"node13\" class=\"node\">\n",
       "<title>12</title>\n",
       "<path fill=\"#399de5\" stroke=\"black\" d=\"M604,-357.5C604,-357.5 488,-357.5 488,-357.5 482,-357.5 476,-351.5 476,-345.5 476,-345.5 476,-316.5 476,-316.5 476,-310.5 482,-304.5 488,-304.5 488,-304.5 604,-304.5 604,-304.5 610,-304.5 616,-310.5 616,-316.5 616,-316.5 616,-345.5 616,-345.5 616,-351.5 610,-357.5 604,-357.5\"/>\n",
       "<text text-anchor=\"start\" x=\"511\" y=\"-342.3\" font-family=\"Helvetica,sans-Serif\" font-size=\"14.00\">gini = 0.0</text>\n",
       "<text text-anchor=\"start\" x=\"488.5\" y=\"-327.3\" font-family=\"Helvetica,sans-Serif\" font-size=\"14.00\">samples = 2005</text>\n",
       "<text text-anchor=\"start\" x=\"484\" y=\"-312.3\" font-family=\"Helvetica,sans-Serif\" font-size=\"14.00\">value = [0, 2005]</text>\n",
       "</g>\n",
       "<!-- 8&#45;&gt;12 -->\n",
       "<g id=\"edge12\" class=\"edge\">\n",
       "<title>8&#45;&gt;12</title>\n",
       "<path fill=\"none\" stroke=\"black\" d=\"M456.18,-400.88C471.67,-389.01 489.09,-375.65 504.44,-363.88\"/>\n",
       "<polygon fill=\"black\" stroke=\"black\" points=\"506.92,-366.38 512.72,-357.52 502.66,-360.83 506.92,-366.38\"/>\n",
       "</g>\n",
       "<!-- 10 -->\n",
       "<g id=\"node11\" class=\"node\">\n",
       "<title>10</title>\n",
       "<path fill=\"#e58139\" stroke=\"black\" d=\"M373.5,-253.5C373.5,-253.5 284.5,-253.5 284.5,-253.5 278.5,-253.5 272.5,-247.5 272.5,-241.5 272.5,-241.5 272.5,-212.5 272.5,-212.5 272.5,-206.5 278.5,-200.5 284.5,-200.5 284.5,-200.5 373.5,-200.5 373.5,-200.5 379.5,-200.5 385.5,-206.5 385.5,-212.5 385.5,-212.5 385.5,-241.5 385.5,-241.5 385.5,-247.5 379.5,-253.5 373.5,-253.5\"/>\n",
       "<text text-anchor=\"start\" x=\"294\" y=\"-238.3\" font-family=\"Helvetica,sans-Serif\" font-size=\"14.00\">gini = 0.0</text>\n",
       "<text text-anchor=\"start\" x=\"285\" y=\"-223.3\" font-family=\"Helvetica,sans-Serif\" font-size=\"14.00\">samples = 9</text>\n",
       "<text text-anchor=\"start\" x=\"280.5\" y=\"-208.3\" font-family=\"Helvetica,sans-Serif\" font-size=\"14.00\">value = [9, 0]</text>\n",
       "</g>\n",
       "<!-- 9&#45;&gt;10 -->\n",
       "<g id=\"edge10\" class=\"edge\">\n",
       "<title>9&#45;&gt;10</title>\n",
       "<path fill=\"none\" stroke=\"black\" d=\"M374.92,-296.88C367.44,-285.67 359.08,-273.13 351.57,-261.85\"/>\n",
       "<polygon fill=\"black\" stroke=\"black\" points=\"354.47,-259.9 346.01,-253.52 348.65,-263.78 354.47,-259.9\"/>\n",
       "</g>\n",
       "<!-- 11 -->\n",
       "<g id=\"node12\" class=\"node\">\n",
       "<title>11</title>\n",
       "<path fill=\"#399de5\" stroke=\"black\" d=\"M514,-253.5C514,-253.5 416,-253.5 416,-253.5 410,-253.5 404,-247.5 404,-241.5 404,-241.5 404,-212.5 404,-212.5 404,-206.5 410,-200.5 416,-200.5 416,-200.5 514,-200.5 514,-200.5 520,-200.5 526,-206.5 526,-212.5 526,-212.5 526,-241.5 526,-241.5 526,-247.5 520,-253.5 514,-253.5\"/>\n",
       "<text text-anchor=\"start\" x=\"430\" y=\"-238.3\" font-family=\"Helvetica,sans-Serif\" font-size=\"14.00\">gini = 0.0</text>\n",
       "<text text-anchor=\"start\" x=\"416.5\" y=\"-223.3\" font-family=\"Helvetica,sans-Serif\" font-size=\"14.00\">samples = 18</text>\n",
       "<text text-anchor=\"start\" x=\"412\" y=\"-208.3\" font-family=\"Helvetica,sans-Serif\" font-size=\"14.00\">value = [0, 18]</text>\n",
       "</g>\n",
       "<!-- 9&#45;&gt;11 -->\n",
       "<g id=\"edge11\" class=\"edge\">\n",
       "<title>9&#45;&gt;11</title>\n",
       "<path fill=\"none\" stroke=\"black\" d=\"M419.08,-296.88C426.56,-285.67 434.92,-273.13 442.43,-261.85\"/>\n",
       "<polygon fill=\"black\" stroke=\"black\" points=\"445.35,-263.78 447.99,-253.52 439.53,-259.9 445.35,-263.78\"/>\n",
       "</g>\n",
       "<!-- 15 -->\n",
       "<g id=\"node16\" class=\"node\">\n",
       "<title>15</title>\n",
       "<path fill=\"#55abe9\" stroke=\"black\" d=\"M876,-573C876,-573 760,-573 760,-573 754,-573 748,-567 748,-561 748,-561 748,-517 748,-517 748,-511 754,-505 760,-505 760,-505 876,-505 876,-505 882,-505 888,-511 888,-517 888,-517 888,-561 888,-561 888,-567 882,-573 876,-573\"/>\n",
       "<text text-anchor=\"start\" x=\"780\" y=\"-557.8\" font-family=\"Helvetica,sans-Serif\" font-size=\"14.00\">odor ≤ 3.5</text>\n",
       "<text text-anchor=\"start\" x=\"774\" y=\"-542.8\" font-family=\"Helvetica,sans-Serif\" font-size=\"14.00\">gini = 0.217</text>\n",
       "<text text-anchor=\"start\" x=\"765\" y=\"-527.8\" font-family=\"Helvetica,sans-Serif\" font-size=\"14.00\">samples = 517</text>\n",
       "<text text-anchor=\"start\" x=\"756\" y=\"-512.8\" font-family=\"Helvetica,sans-Serif\" font-size=\"14.00\">value = [64, 453]</text>\n",
       "</g>\n",
       "<!-- 14&#45;&gt;15 -->\n",
       "<g id=\"edge15\" class=\"edge\">\n",
       "<title>14&#45;&gt;15</title>\n",
       "<path fill=\"none\" stroke=\"black\" d=\"M818,-608.88C818,-600.78 818,-591.98 818,-583.47\"/>\n",
       "<polygon fill=\"black\" stroke=\"black\" points=\"821.5,-583.3 818,-573.3 814.5,-583.3 821.5,-583.3\"/>\n",
       "</g>\n",
       "<!-- 18 -->\n",
       "<g id=\"node19\" class=\"node\">\n",
       "<title>18</title>\n",
       "<path fill=\"#e99558\" stroke=\"black\" d=\"M1118,-573C1118,-573 984,-573 984,-573 978,-573 972,-567 972,-561 972,-561 972,-517 972,-517 972,-511 978,-505 984,-505 984,-505 1118,-505 1118,-505 1124,-505 1130,-511 1130,-517 1130,-517 1130,-561 1130,-561 1130,-567 1124,-573 1118,-573\"/>\n",
       "<text text-anchor=\"start\" x=\"1002.5\" y=\"-557.8\" font-family=\"Helvetica,sans-Serif\" font-size=\"14.00\">gill&#45;size ≤ 0.5</text>\n",
       "<text text-anchor=\"start\" x=\"1007\" y=\"-542.8\" font-family=\"Helvetica,sans-Serif\" font-size=\"14.00\">gini = 0.233</text>\n",
       "<text text-anchor=\"start\" x=\"993.5\" y=\"-527.8\" font-family=\"Helvetica,sans-Serif\" font-size=\"14.00\">samples = 3096</text>\n",
       "<text text-anchor=\"start\" x=\"980\" y=\"-512.8\" font-family=\"Helvetica,sans-Serif\" font-size=\"14.00\">value = [2679, 417]</text>\n",
       "</g>\n",
       "<!-- 14&#45;&gt;18 -->\n",
       "<g id=\"edge18\" class=\"edge\">\n",
       "<title>14&#45;&gt;18</title>\n",
       "<path fill=\"none\" stroke=\"black\" d=\"M893.65,-608.88C916.76,-598.77 942.32,-587.58 966.01,-577.21\"/>\n",
       "<polygon fill=\"black\" stroke=\"black\" points=\"967.58,-580.34 975.33,-573.12 964.77,-573.93 967.58,-580.34\"/>\n",
       "</g>\n",
       "<!-- 16 -->\n",
       "<g id=\"node17\" class=\"node\">\n",
       "<title>16</title>\n",
       "<path fill=\"#399de5\" stroke=\"black\" d=\"M805.5,-461.5C805.5,-461.5 698.5,-461.5 698.5,-461.5 692.5,-461.5 686.5,-455.5 686.5,-449.5 686.5,-449.5 686.5,-420.5 686.5,-420.5 686.5,-414.5 692.5,-408.5 698.5,-408.5 698.5,-408.5 805.5,-408.5 805.5,-408.5 811.5,-408.5 817.5,-414.5 817.5,-420.5 817.5,-420.5 817.5,-449.5 817.5,-449.5 817.5,-455.5 811.5,-461.5 805.5,-461.5\"/>\n",
       "<text text-anchor=\"start\" x=\"717\" y=\"-446.3\" font-family=\"Helvetica,sans-Serif\" font-size=\"14.00\">gini = 0.0</text>\n",
       "<text text-anchor=\"start\" x=\"699\" y=\"-431.3\" font-family=\"Helvetica,sans-Serif\" font-size=\"14.00\">samples = 453</text>\n",
       "<text text-anchor=\"start\" x=\"694.5\" y=\"-416.3\" font-family=\"Helvetica,sans-Serif\" font-size=\"14.00\">value = [0, 453]</text>\n",
       "</g>\n",
       "<!-- 15&#45;&gt;16 -->\n",
       "<g id=\"edge16\" class=\"edge\">\n",
       "<title>15&#45;&gt;16</title>\n",
       "<path fill=\"none\" stroke=\"black\" d=\"M796.57,-504.88C789.38,-493.78 781.36,-481.37 774.12,-470.18\"/>\n",
       "<polygon fill=\"black\" stroke=\"black\" points=\"776.88,-468.01 768.51,-461.52 771.01,-471.82 776.88,-468.01\"/>\n",
       "</g>\n",
       "<!-- 17 -->\n",
       "<g id=\"node18\" class=\"node\">\n",
       "<title>17</title>\n",
       "<path fill=\"#e58139\" stroke=\"black\" d=\"M946,-461.5C946,-461.5 848,-461.5 848,-461.5 842,-461.5 836,-455.5 836,-449.5 836,-449.5 836,-420.5 836,-420.5 836,-414.5 842,-408.5 848,-408.5 848,-408.5 946,-408.5 946,-408.5 952,-408.5 958,-414.5 958,-420.5 958,-420.5 958,-449.5 958,-449.5 958,-455.5 952,-461.5 946,-461.5\"/>\n",
       "<text text-anchor=\"start\" x=\"862\" y=\"-446.3\" font-family=\"Helvetica,sans-Serif\" font-size=\"14.00\">gini = 0.0</text>\n",
       "<text text-anchor=\"start\" x=\"848.5\" y=\"-431.3\" font-family=\"Helvetica,sans-Serif\" font-size=\"14.00\">samples = 64</text>\n",
       "<text text-anchor=\"start\" x=\"844\" y=\"-416.3\" font-family=\"Helvetica,sans-Serif\" font-size=\"14.00\">value = [64, 0]</text>\n",
       "</g>\n",
       "<!-- 15&#45;&gt;17 -->\n",
       "<g id=\"edge17\" class=\"edge\">\n",
       "<title>15&#45;&gt;17</title>\n",
       "<path fill=\"none\" stroke=\"black\" d=\"M843.65,-504.88C852.42,-493.56 862.24,-480.88 871.04,-469.52\"/>\n",
       "<polygon fill=\"black\" stroke=\"black\" points=\"873.88,-471.57 877.23,-461.52 868.34,-467.28 873.88,-471.57\"/>\n",
       "</g>\n",
       "<!-- 19 -->\n",
       "<g id=\"node20\" class=\"node\">\n",
       "<title>19</title>\n",
       "<path fill=\"#e6843e\" stroke=\"black\" d=\"M1113.5,-469C1113.5,-469 988.5,-469 988.5,-469 982.5,-469 976.5,-463 976.5,-457 976.5,-457 976.5,-413 976.5,-413 976.5,-407 982.5,-401 988.5,-401 988.5,-401 1113.5,-401 1113.5,-401 1119.5,-401 1125.5,-407 1125.5,-413 1125.5,-413 1125.5,-457 1125.5,-457 1125.5,-463 1119.5,-469 1113.5,-469\"/>\n",
       "<text text-anchor=\"start\" x=\"985\" y=\"-453.8\" font-family=\"Helvetica,sans-Serif\" font-size=\"14.00\">ring&#45;number ≤ 0.5</text>\n",
       "<text text-anchor=\"start\" x=\"1007\" y=\"-438.8\" font-family=\"Helvetica,sans-Serif\" font-size=\"14.00\">gini = 0.049</text>\n",
       "<text text-anchor=\"start\" x=\"993.5\" y=\"-423.8\" font-family=\"Helvetica,sans-Serif\" font-size=\"14.00\">samples = 2582</text>\n",
       "<text text-anchor=\"start\" x=\"984.5\" y=\"-408.8\" font-family=\"Helvetica,sans-Serif\" font-size=\"14.00\">value = [2517, 65]</text>\n",
       "</g>\n",
       "<!-- 18&#45;&gt;19 -->\n",
       "<g id=\"edge19\" class=\"edge\">\n",
       "<title>18&#45;&gt;19</title>\n",
       "<path fill=\"none\" stroke=\"black\" d=\"M1051,-504.88C1051,-496.78 1051,-487.98 1051,-479.47\"/>\n",
       "<polygon fill=\"black\" stroke=\"black\" points=\"1054.5,-479.3 1051,-469.3 1047.5,-479.3 1054.5,-479.3\"/>\n",
       "</g>\n",
       "<!-- 30 -->\n",
       "<g id=\"node31\" class=\"node\">\n",
       "<title>30</title>\n",
       "<path fill=\"#94caf1\" stroke=\"black\" d=\"M1297.5,-469C1297.5,-469 1172.5,-469 1172.5,-469 1166.5,-469 1160.5,-463 1160.5,-457 1160.5,-457 1160.5,-413 1160.5,-413 1160.5,-407 1166.5,-401 1172.5,-401 1172.5,-401 1297.5,-401 1297.5,-401 1303.5,-401 1309.5,-407 1309.5,-413 1309.5,-413 1309.5,-457 1309.5,-457 1309.5,-463 1303.5,-469 1297.5,-469\"/>\n",
       "<text text-anchor=\"start\" x=\"1173\" y=\"-453.8\" font-family=\"Helvetica,sans-Serif\" font-size=\"14.00\">stalk&#45;shape ≤ 0.5</text>\n",
       "<text text-anchor=\"start\" x=\"1191\" y=\"-438.8\" font-family=\"Helvetica,sans-Serif\" font-size=\"14.00\">gini = 0.432</text>\n",
       "<text text-anchor=\"start\" x=\"1182\" y=\"-423.8\" font-family=\"Helvetica,sans-Serif\" font-size=\"14.00\">samples = 514</text>\n",
       "<text text-anchor=\"start\" x=\"1168.5\" y=\"-408.8\" font-family=\"Helvetica,sans-Serif\" font-size=\"14.00\">value = [162, 352]</text>\n",
       "</g>\n",
       "<!-- 18&#45;&gt;30 -->\n",
       "<g id=\"edge30\" class=\"edge\">\n",
       "<title>18&#45;&gt;30</title>\n",
       "<path fill=\"none\" stroke=\"black\" d=\"M1110.74,-504.88C1128.5,-495.04 1148.11,-484.17 1166.39,-474.03\"/>\n",
       "<polygon fill=\"black\" stroke=\"black\" points=\"1168.2,-477.03 1175.25,-469.12 1164.8,-470.91 1168.2,-477.03\"/>\n",
       "</g>\n",
       "<!-- 20 -->\n",
       "<g id=\"node21\" class=\"node\">\n",
       "<title>20</title>\n",
       "<path fill=\"#399de5\" stroke=\"black\" d=\"M946,-357.5C946,-357.5 848,-357.5 848,-357.5 842,-357.5 836,-351.5 836,-345.5 836,-345.5 836,-316.5 836,-316.5 836,-310.5 842,-304.5 848,-304.5 848,-304.5 946,-304.5 946,-304.5 952,-304.5 958,-310.5 958,-316.5 958,-316.5 958,-345.5 958,-345.5 958,-351.5 952,-357.5 946,-357.5\"/>\n",
       "<text text-anchor=\"start\" x=\"862\" y=\"-342.3\" font-family=\"Helvetica,sans-Serif\" font-size=\"14.00\">gini = 0.0</text>\n",
       "<text text-anchor=\"start\" x=\"848.5\" y=\"-327.3\" font-family=\"Helvetica,sans-Serif\" font-size=\"14.00\">samples = 28</text>\n",
       "<text text-anchor=\"start\" x=\"844\" y=\"-312.3\" font-family=\"Helvetica,sans-Serif\" font-size=\"14.00\">value = [0, 28]</text>\n",
       "</g>\n",
       "<!-- 19&#45;&gt;20 -->\n",
       "<g id=\"edge20\" class=\"edge\">\n",
       "<title>19&#45;&gt;20</title>\n",
       "<path fill=\"none\" stroke=\"black\" d=\"M1001,-400.88C982.74,-388.79 962.15,-375.15 944.14,-363.22\"/>\n",
       "<polygon fill=\"black\" stroke=\"black\" points=\"945.8,-360.12 935.53,-357.52 941.93,-365.96 945.8,-360.12\"/>\n",
       "</g>\n",
       "<!-- 21 -->\n",
       "<g id=\"node22\" class=\"node\">\n",
       "<title>21</title>\n",
       "<path fill=\"#e5833c\" stroke=\"black\" d=\"M1113.5,-365C1113.5,-365 988.5,-365 988.5,-365 982.5,-365 976.5,-359 976.5,-353 976.5,-353 976.5,-309 976.5,-309 976.5,-303 982.5,-297 988.5,-297 988.5,-297 1113.5,-297 1113.5,-297 1119.5,-297 1125.5,-303 1125.5,-309 1125.5,-309 1125.5,-353 1125.5,-353 1125.5,-359 1119.5,-365 1113.5,-365\"/>\n",
       "<text text-anchor=\"start\" x=\"997\" y=\"-349.8\" font-family=\"Helvetica,sans-Serif\" font-size=\"14.00\">cap&#45;color ≤ 0.5</text>\n",
       "<text text-anchor=\"start\" x=\"1007\" y=\"-334.8\" font-family=\"Helvetica,sans-Serif\" font-size=\"14.00\">gini = 0.029</text>\n",
       "<text text-anchor=\"start\" x=\"993.5\" y=\"-319.8\" font-family=\"Helvetica,sans-Serif\" font-size=\"14.00\">samples = 2554</text>\n",
       "<text text-anchor=\"start\" x=\"984.5\" y=\"-304.8\" font-family=\"Helvetica,sans-Serif\" font-size=\"14.00\">value = [2517, 37]</text>\n",
       "</g>\n",
       "<!-- 19&#45;&gt;21 -->\n",
       "<g id=\"edge21\" class=\"edge\">\n",
       "<title>19&#45;&gt;21</title>\n",
       "<path fill=\"none\" stroke=\"black\" d=\"M1051,-400.88C1051,-392.78 1051,-383.98 1051,-375.47\"/>\n",
       "<polygon fill=\"black\" stroke=\"black\" points=\"1054.5,-375.3 1051,-365.3 1047.5,-375.3 1054.5,-375.3\"/>\n",
       "</g>\n",
       "<!-- 22 -->\n",
       "<g id=\"node23\" class=\"node\">\n",
       "<title>22</title>\n",
       "<path fill=\"#f5d1b6\" stroke=\"black\" d=\"M929.5,-261C929.5,-261 822.5,-261 822.5,-261 816.5,-261 810.5,-255 810.5,-249 810.5,-249 810.5,-205 810.5,-205 810.5,-199 816.5,-193 822.5,-193 822.5,-193 929.5,-193 929.5,-193 935.5,-193 941.5,-199 941.5,-205 941.5,-205 941.5,-249 941.5,-249 941.5,-255 935.5,-261 929.5,-261\"/>\n",
       "<text text-anchor=\"start\" x=\"829.5\" y=\"-245.8\" font-family=\"Helvetica,sans-Serif\" font-size=\"14.00\">habitat ≤ 4.5</text>\n",
       "<text text-anchor=\"start\" x=\"832\" y=\"-230.8\" font-family=\"Helvetica,sans-Serif\" font-size=\"14.00\">gini = 0.475</text>\n",
       "<text text-anchor=\"start\" x=\"827.5\" y=\"-215.8\" font-family=\"Helvetica,sans-Serif\" font-size=\"14.00\">samples = 31</text>\n",
       "<text text-anchor=\"start\" x=\"818.5\" y=\"-200.8\" font-family=\"Helvetica,sans-Serif\" font-size=\"14.00\">value = [19, 12]</text>\n",
       "</g>\n",
       "<!-- 21&#45;&gt;22 -->\n",
       "<g id=\"edge22\" class=\"edge\">\n",
       "<title>21&#45;&gt;22</title>\n",
       "<path fill=\"none\" stroke=\"black\" d=\"M994.18,-296.88C977.44,-287.12 958.98,-276.37 941.73,-266.31\"/>\n",
       "<polygon fill=\"black\" stroke=\"black\" points=\"943.23,-263.14 932.83,-261.12 939.71,-269.18 943.23,-263.14\"/>\n",
       "</g>\n",
       "<!-- 25 -->\n",
       "<g id=\"node26\" class=\"node\">\n",
       "<title>25</title>\n",
       "<path fill=\"#e5823b\" stroke=\"black\" d=\"M1113.5,-261C1113.5,-261 988.5,-261 988.5,-261 982.5,-261 976.5,-255 976.5,-249 976.5,-249 976.5,-205 976.5,-205 976.5,-199 982.5,-193 988.5,-193 988.5,-193 1113.5,-193 1113.5,-193 1119.5,-193 1125.5,-199 1125.5,-205 1125.5,-205 1125.5,-249 1125.5,-249 1125.5,-255 1119.5,-261 1113.5,-261\"/>\n",
       "<text text-anchor=\"start\" x=\"985\" y=\"-245.8\" font-family=\"Helvetica,sans-Serif\" font-size=\"14.00\">ring&#45;number ≤ 1.5</text>\n",
       "<text text-anchor=\"start\" x=\"1011.5\" y=\"-230.8\" font-family=\"Helvetica,sans-Serif\" font-size=\"14.00\">gini = 0.02</text>\n",
       "<text text-anchor=\"start\" x=\"993.5\" y=\"-215.8\" font-family=\"Helvetica,sans-Serif\" font-size=\"14.00\">samples = 2523</text>\n",
       "<text text-anchor=\"start\" x=\"984.5\" y=\"-200.8\" font-family=\"Helvetica,sans-Serif\" font-size=\"14.00\">value = [2498, 25]</text>\n",
       "</g>\n",
       "<!-- 21&#45;&gt;25 -->\n",
       "<g id=\"edge25\" class=\"edge\">\n",
       "<title>21&#45;&gt;25</title>\n",
       "<path fill=\"none\" stroke=\"black\" d=\"M1051,-296.88C1051,-288.78 1051,-279.98 1051,-271.47\"/>\n",
       "<polygon fill=\"black\" stroke=\"black\" points=\"1054.5,-271.3 1051,-261.3 1047.5,-271.3 1054.5,-271.3\"/>\n",
       "</g>\n",
       "<!-- 23 -->\n",
       "<g id=\"node24\" class=\"node\">\n",
       "<title>23</title>\n",
       "<path fill=\"#399de5\" stroke=\"black\" d=\"M785,-149.5C785,-149.5 687,-149.5 687,-149.5 681,-149.5 675,-143.5 675,-137.5 675,-137.5 675,-108.5 675,-108.5 675,-102.5 681,-96.5 687,-96.5 687,-96.5 785,-96.5 785,-96.5 791,-96.5 797,-102.5 797,-108.5 797,-108.5 797,-137.5 797,-137.5 797,-143.5 791,-149.5 785,-149.5\"/>\n",
       "<text text-anchor=\"start\" x=\"701\" y=\"-134.3\" font-family=\"Helvetica,sans-Serif\" font-size=\"14.00\">gini = 0.0</text>\n",
       "<text text-anchor=\"start\" x=\"687.5\" y=\"-119.3\" font-family=\"Helvetica,sans-Serif\" font-size=\"14.00\">samples = 12</text>\n",
       "<text text-anchor=\"start\" x=\"683\" y=\"-104.3\" font-family=\"Helvetica,sans-Serif\" font-size=\"14.00\">value = [0, 12]</text>\n",
       "</g>\n",
       "<!-- 22&#45;&gt;23 -->\n",
       "<g id=\"edge23\" class=\"edge\">\n",
       "<title>22&#45;&gt;23</title>\n",
       "<path fill=\"none\" stroke=\"black\" d=\"M830.55,-192.88C814.09,-180.9 795.57,-167.4 779.3,-155.55\"/>\n",
       "<polygon fill=\"black\" stroke=\"black\" points=\"781.17,-152.58 771.03,-149.52 777.05,-158.24 781.17,-152.58\"/>\n",
       "</g>\n",
       "<!-- 24 -->\n",
       "<g id=\"node25\" class=\"node\">\n",
       "<title>24</title>\n",
       "<path fill=\"#e58139\" stroke=\"black\" d=\"M925,-149.5C925,-149.5 827,-149.5 827,-149.5 821,-149.5 815,-143.5 815,-137.5 815,-137.5 815,-108.5 815,-108.5 815,-102.5 821,-96.5 827,-96.5 827,-96.5 925,-96.5 925,-96.5 931,-96.5 937,-102.5 937,-108.5 937,-108.5 937,-137.5 937,-137.5 937,-143.5 931,-149.5 925,-149.5\"/>\n",
       "<text text-anchor=\"start\" x=\"841\" y=\"-134.3\" font-family=\"Helvetica,sans-Serif\" font-size=\"14.00\">gini = 0.0</text>\n",
       "<text text-anchor=\"start\" x=\"827.5\" y=\"-119.3\" font-family=\"Helvetica,sans-Serif\" font-size=\"14.00\">samples = 19</text>\n",
       "<text text-anchor=\"start\" x=\"823\" y=\"-104.3\" font-family=\"Helvetica,sans-Serif\" font-size=\"14.00\">value = [19, 0]</text>\n",
       "</g>\n",
       "<!-- 22&#45;&gt;24 -->\n",
       "<g id=\"edge24\" class=\"edge\">\n",
       "<title>22&#45;&gt;24</title>\n",
       "<path fill=\"none\" stroke=\"black\" d=\"M876,-192.88C876,-182.33 876,-170.6 876,-159.85\"/>\n",
       "<polygon fill=\"black\" stroke=\"black\" points=\"879.5,-159.52 876,-149.52 872.5,-159.52 879.5,-159.52\"/>\n",
       "</g>\n",
       "<!-- 26 -->\n",
       "<g id=\"node27\" class=\"node\">\n",
       "<title>26</title>\n",
       "<path fill=\"#e58139\" stroke=\"black\" d=\"M1083,-149.5C1083,-149.5 967,-149.5 967,-149.5 961,-149.5 955,-143.5 955,-137.5 955,-137.5 955,-108.5 955,-108.5 955,-102.5 961,-96.5 967,-96.5 967,-96.5 1083,-96.5 1083,-96.5 1089,-96.5 1095,-102.5 1095,-108.5 1095,-108.5 1095,-137.5 1095,-137.5 1095,-143.5 1089,-149.5 1083,-149.5\"/>\n",
       "<text text-anchor=\"start\" x=\"990\" y=\"-134.3\" font-family=\"Helvetica,sans-Serif\" font-size=\"14.00\">gini = 0.0</text>\n",
       "<text text-anchor=\"start\" x=\"967.5\" y=\"-119.3\" font-family=\"Helvetica,sans-Serif\" font-size=\"14.00\">samples = 2255</text>\n",
       "<text text-anchor=\"start\" x=\"963\" y=\"-104.3\" font-family=\"Helvetica,sans-Serif\" font-size=\"14.00\">value = [2255, 0]</text>\n",
       "</g>\n",
       "<!-- 25&#45;&gt;26 -->\n",
       "<g id=\"edge26\" class=\"edge\">\n",
       "<title>25&#45;&gt;26</title>\n",
       "<path fill=\"none\" stroke=\"black\" d=\"M1042.56,-192.88C1039.84,-182.22 1036.82,-170.35 1034.05,-159.52\"/>\n",
       "<polygon fill=\"black\" stroke=\"black\" points=\"1037.37,-158.35 1031.51,-149.52 1030.58,-160.07 1037.37,-158.35\"/>\n",
       "</g>\n",
       "<!-- 27 -->\n",
       "<g id=\"node28\" class=\"node\">\n",
       "<title>27</title>\n",
       "<path fill=\"#e88e4d\" stroke=\"black\" d=\"M1277,-157C1277,-157 1125,-157 1125,-157 1119,-157 1113,-151 1113,-145 1113,-145 1113,-101 1113,-101 1113,-95 1119,-89 1125,-89 1125,-89 1277,-89 1277,-89 1283,-89 1289,-95 1289,-101 1289,-101 1289,-145 1289,-145 1289,-151 1283,-157 1277,-157\"/>\n",
       "<text text-anchor=\"start\" x=\"1121\" y=\"-141.8\" font-family=\"Helvetica,sans-Serif\" font-size=\"14.00\">spore&#45;print&#45;color ≤ 6.0</text>\n",
       "<text text-anchor=\"start\" x=\"1157\" y=\"-126.8\" font-family=\"Helvetica,sans-Serif\" font-size=\"14.00\">gini = 0.169</text>\n",
       "<text text-anchor=\"start\" x=\"1148\" y=\"-111.8\" font-family=\"Helvetica,sans-Serif\" font-size=\"14.00\">samples = 268</text>\n",
       "<text text-anchor=\"start\" x=\"1139\" y=\"-96.8\" font-family=\"Helvetica,sans-Serif\" font-size=\"14.00\">value = [243, 25]</text>\n",
       "</g>\n",
       "<!-- 25&#45;&gt;27 -->\n",
       "<g id=\"edge27\" class=\"edge\">\n",
       "<title>25&#45;&gt;27</title>\n",
       "<path fill=\"none\" stroke=\"black\" d=\"M1099.7,-192.88C1113.79,-183.3 1129.29,-172.76 1143.85,-162.86\"/>\n",
       "<polygon fill=\"black\" stroke=\"black\" points=\"1145.99,-165.64 1152.29,-157.12 1142.05,-159.85 1145.99,-165.64\"/>\n",
       "</g>\n",
       "<!-- 28 -->\n",
       "<g id=\"node29\" class=\"node\">\n",
       "<title>28</title>\n",
       "<path fill=\"#399de5\" stroke=\"black\" d=\"M1124,-53C1124,-53 1026,-53 1026,-53 1020,-53 1014,-47 1014,-41 1014,-41 1014,-12 1014,-12 1014,-6 1020,0 1026,0 1026,0 1124,0 1124,0 1130,0 1136,-6 1136,-12 1136,-12 1136,-41 1136,-41 1136,-47 1130,-53 1124,-53\"/>\n",
       "<text text-anchor=\"start\" x=\"1040\" y=\"-37.8\" font-family=\"Helvetica,sans-Serif\" font-size=\"14.00\">gini = 0.0</text>\n",
       "<text text-anchor=\"start\" x=\"1026.5\" y=\"-22.8\" font-family=\"Helvetica,sans-Serif\" font-size=\"14.00\">samples = 25</text>\n",
       "<text text-anchor=\"start\" x=\"1022\" y=\"-7.8\" font-family=\"Helvetica,sans-Serif\" font-size=\"14.00\">value = [0, 25]</text>\n",
       "</g>\n",
       "<!-- 27&#45;&gt;28 -->\n",
       "<g id=\"edge28\" class=\"edge\">\n",
       "<title>27&#45;&gt;28</title>\n",
       "<path fill=\"none\" stroke=\"black\" d=\"M1156.93,-88.95C1144.12,-79.34 1130.17,-68.87 1117.46,-59.34\"/>\n",
       "<polygon fill=\"black\" stroke=\"black\" points=\"1119.42,-56.44 1109.32,-53.24 1115.22,-62.04 1119.42,-56.44\"/>\n",
       "</g>\n",
       "<!-- 29 -->\n",
       "<g id=\"node30\" class=\"node\">\n",
       "<title>29</title>\n",
       "<path fill=\"#e58139\" stroke=\"black\" d=\"M1273.5,-53C1273.5,-53 1166.5,-53 1166.5,-53 1160.5,-53 1154.5,-47 1154.5,-41 1154.5,-41 1154.5,-12 1154.5,-12 1154.5,-6 1160.5,0 1166.5,0 1166.5,0 1273.5,0 1273.5,0 1279.5,0 1285.5,-6 1285.5,-12 1285.5,-12 1285.5,-41 1285.5,-41 1285.5,-47 1279.5,-53 1273.5,-53\"/>\n",
       "<text text-anchor=\"start\" x=\"1185\" y=\"-37.8\" font-family=\"Helvetica,sans-Serif\" font-size=\"14.00\">gini = 0.0</text>\n",
       "<text text-anchor=\"start\" x=\"1167\" y=\"-22.8\" font-family=\"Helvetica,sans-Serif\" font-size=\"14.00\">samples = 243</text>\n",
       "<text text-anchor=\"start\" x=\"1162.5\" y=\"-7.8\" font-family=\"Helvetica,sans-Serif\" font-size=\"14.00\">value = [243, 0]</text>\n",
       "</g>\n",
       "<!-- 27&#45;&gt;29 -->\n",
       "<g id=\"edge29\" class=\"edge\">\n",
       "<title>27&#45;&gt;29</title>\n",
       "<path fill=\"none\" stroke=\"black\" d=\"M1207.65,-88.95C1209.32,-80.62 1211.12,-71.65 1212.82,-63.2\"/>\n",
       "<polygon fill=\"black\" stroke=\"black\" points=\"1216.29,-63.73 1214.83,-53.24 1209.42,-62.35 1216.29,-63.73\"/>\n",
       "</g>\n",
       "<!-- 31 -->\n",
       "<g id=\"node32\" class=\"node\">\n",
       "<title>31</title>\n",
       "<path fill=\"#6eb7ec\" stroke=\"black\" d=\"M1293,-365C1293,-365 1177,-365 1177,-365 1171,-365 1165,-359 1165,-353 1165,-353 1165,-309 1165,-309 1165,-303 1171,-297 1177,-297 1177,-297 1293,-297 1293,-297 1299,-297 1305,-303 1305,-309 1305,-309 1305,-353 1305,-353 1305,-359 1299,-365 1293,-365\"/>\n",
       "<text text-anchor=\"start\" x=\"1188.5\" y=\"-349.8\" font-family=\"Helvetica,sans-Serif\" font-size=\"14.00\">habitat ≤ 1.5</text>\n",
       "<text text-anchor=\"start\" x=\"1191\" y=\"-334.8\" font-family=\"Helvetica,sans-Serif\" font-size=\"14.00\">gini = 0.335</text>\n",
       "<text text-anchor=\"start\" x=\"1182\" y=\"-319.8\" font-family=\"Helvetica,sans-Serif\" font-size=\"14.00\">samples = 447</text>\n",
       "<text text-anchor=\"start\" x=\"1173\" y=\"-304.8\" font-family=\"Helvetica,sans-Serif\" font-size=\"14.00\">value = [95, 352]</text>\n",
       "</g>\n",
       "<!-- 30&#45;&gt;31 -->\n",
       "<g id=\"edge31\" class=\"edge\">\n",
       "<title>30&#45;&gt;31</title>\n",
       "<path fill=\"none\" stroke=\"black\" d=\"M1235,-400.88C1235,-392.78 1235,-383.98 1235,-375.47\"/>\n",
       "<polygon fill=\"black\" stroke=\"black\" points=\"1238.5,-375.3 1235,-365.3 1231.5,-375.3 1238.5,-375.3\"/>\n",
       "</g>\n",
       "<!-- 38 -->\n",
       "<g id=\"node39\" class=\"node\">\n",
       "<title>38</title>\n",
       "<path fill=\"#e58139\" stroke=\"black\" d=\"M1433,-357.5C1433,-357.5 1335,-357.5 1335,-357.5 1329,-357.5 1323,-351.5 1323,-345.5 1323,-345.5 1323,-316.5 1323,-316.5 1323,-310.5 1329,-304.5 1335,-304.5 1335,-304.5 1433,-304.5 1433,-304.5 1439,-304.5 1445,-310.5 1445,-316.5 1445,-316.5 1445,-345.5 1445,-345.5 1445,-351.5 1439,-357.5 1433,-357.5\"/>\n",
       "<text text-anchor=\"start\" x=\"1349\" y=\"-342.3\" font-family=\"Helvetica,sans-Serif\" font-size=\"14.00\">gini = 0.0</text>\n",
       "<text text-anchor=\"start\" x=\"1335.5\" y=\"-327.3\" font-family=\"Helvetica,sans-Serif\" font-size=\"14.00\">samples = 67</text>\n",
       "<text text-anchor=\"start\" x=\"1331\" y=\"-312.3\" font-family=\"Helvetica,sans-Serif\" font-size=\"14.00\">value = [67, 0]</text>\n",
       "</g>\n",
       "<!-- 30&#45;&gt;38 -->\n",
       "<g id=\"edge38\" class=\"edge\">\n",
       "<title>30&#45;&gt;38</title>\n",
       "<path fill=\"none\" stroke=\"black\" d=\"M1283.38,-400.88C1301.05,-388.79 1320.97,-375.15 1338.39,-363.22\"/>\n",
       "<polygon fill=\"black\" stroke=\"black\" points=\"1340.45,-366.06 1346.72,-357.52 1336.49,-360.28 1340.45,-366.06\"/>\n",
       "</g>\n",
       "<!-- 32 -->\n",
       "<g id=\"node33\" class=\"node\">\n",
       "<title>32</title>\n",
       "<path fill=\"#399de5\" stroke=\"black\" d=\"M1288.5,-253.5C1288.5,-253.5 1181.5,-253.5 1181.5,-253.5 1175.5,-253.5 1169.5,-247.5 1169.5,-241.5 1169.5,-241.5 1169.5,-212.5 1169.5,-212.5 1169.5,-206.5 1175.5,-200.5 1181.5,-200.5 1181.5,-200.5 1288.5,-200.5 1288.5,-200.5 1294.5,-200.5 1300.5,-206.5 1300.5,-212.5 1300.5,-212.5 1300.5,-241.5 1300.5,-241.5 1300.5,-247.5 1294.5,-253.5 1288.5,-253.5\"/>\n",
       "<text text-anchor=\"start\" x=\"1200\" y=\"-238.3\" font-family=\"Helvetica,sans-Serif\" font-size=\"14.00\">gini = 0.0</text>\n",
       "<text text-anchor=\"start\" x=\"1182\" y=\"-223.3\" font-family=\"Helvetica,sans-Serif\" font-size=\"14.00\">samples = 233</text>\n",
       "<text text-anchor=\"start\" x=\"1177.5\" y=\"-208.3\" font-family=\"Helvetica,sans-Serif\" font-size=\"14.00\">value = [0, 233]</text>\n",
       "</g>\n",
       "<!-- 31&#45;&gt;32 -->\n",
       "<g id=\"edge32\" class=\"edge\">\n",
       "<title>31&#45;&gt;32</title>\n",
       "<path fill=\"none\" stroke=\"black\" d=\"M1235,-296.88C1235,-286.33 1235,-274.6 1235,-263.85\"/>\n",
       "<polygon fill=\"black\" stroke=\"black\" points=\"1238.5,-263.52 1235,-253.52 1231.5,-263.52 1238.5,-263.52\"/>\n",
       "</g>\n",
       "<!-- 33 -->\n",
       "<g id=\"node34\" class=\"node\">\n",
       "<title>33</title>\n",
       "<path fill=\"#d7ebfa\" stroke=\"black\" d=\"M1480,-261C1480,-261 1364,-261 1364,-261 1358,-261 1352,-255 1352,-249 1352,-249 1352,-205 1352,-205 1352,-199 1358,-193 1364,-193 1364,-193 1480,-193 1480,-193 1486,-193 1492,-199 1492,-205 1492,-205 1492,-249 1492,-249 1492,-255 1486,-261 1480,-261\"/>\n",
       "<text text-anchor=\"start\" x=\"1374.5\" y=\"-245.8\" font-family=\"Helvetica,sans-Serif\" font-size=\"14.00\">bruises ≤ 0.5</text>\n",
       "<text text-anchor=\"start\" x=\"1378\" y=\"-230.8\" font-family=\"Helvetica,sans-Serif\" font-size=\"14.00\">gini = 0.494</text>\n",
       "<text text-anchor=\"start\" x=\"1369\" y=\"-215.8\" font-family=\"Helvetica,sans-Serif\" font-size=\"14.00\">samples = 214</text>\n",
       "<text text-anchor=\"start\" x=\"1360\" y=\"-200.8\" font-family=\"Helvetica,sans-Serif\" font-size=\"14.00\">value = [95, 119]</text>\n",
       "</g>\n",
       "<!-- 31&#45;&gt;33 -->\n",
       "<g id=\"edge33\" class=\"edge\">\n",
       "<title>31&#45;&gt;33</title>\n",
       "<path fill=\"none\" stroke=\"black\" d=\"M1295.71,-296.88C1313.77,-287.04 1333.69,-276.17 1352.27,-266.03\"/>\n",
       "<polygon fill=\"black\" stroke=\"black\" points=\"1354.17,-268.99 1361.27,-261.12 1350.82,-262.84 1354.17,-268.99\"/>\n",
       "</g>\n",
       "<!-- 34 -->\n",
       "<g id=\"node35\" class=\"node\">\n",
       "<title>34</title>\n",
       "<path fill=\"#e78946\" stroke=\"black\" d=\"M1525,-157C1525,-157 1319,-157 1319,-157 1313,-157 1307,-151 1307,-145 1307,-145 1307,-101 1307,-101 1307,-95 1313,-89 1319,-89 1319,-89 1525,-89 1525,-89 1531,-89 1537,-95 1537,-101 1537,-101 1537,-145 1537,-145 1537,-151 1531,-157 1525,-157\"/>\n",
       "<text text-anchor=\"start\" x=\"1315\" y=\"-141.8\" font-family=\"Helvetica,sans-Serif\" font-size=\"14.00\">stalk&#45;surface&#45;above&#45;ring ≤ 2.5</text>\n",
       "<text text-anchor=\"start\" x=\"1378\" y=\"-126.8\" font-family=\"Helvetica,sans-Serif\" font-size=\"14.00\">gini = 0.112</text>\n",
       "<text text-anchor=\"start\" x=\"1369\" y=\"-111.8\" font-family=\"Helvetica,sans-Serif\" font-size=\"14.00\">samples = 101</text>\n",
       "<text text-anchor=\"start\" x=\"1369\" y=\"-96.8\" font-family=\"Helvetica,sans-Serif\" font-size=\"14.00\">value = [95, 6]</text>\n",
       "</g>\n",
       "<!-- 33&#45;&gt;34 -->\n",
       "<g id=\"edge34\" class=\"edge\">\n",
       "<title>33&#45;&gt;34</title>\n",
       "<path fill=\"none\" stroke=\"black\" d=\"M1422,-192.88C1422,-184.78 1422,-175.98 1422,-167.47\"/>\n",
       "<polygon fill=\"black\" stroke=\"black\" points=\"1425.5,-167.3 1422,-157.3 1418.5,-167.3 1425.5,-167.3\"/>\n",
       "</g>\n",
       "<!-- 37 -->\n",
       "<g id=\"node38\" class=\"node\">\n",
       "<title>37</title>\n",
       "<path fill=\"#399de5\" stroke=\"black\" d=\"M1674.5,-149.5C1674.5,-149.5 1567.5,-149.5 1567.5,-149.5 1561.5,-149.5 1555.5,-143.5 1555.5,-137.5 1555.5,-137.5 1555.5,-108.5 1555.5,-108.5 1555.5,-102.5 1561.5,-96.5 1567.5,-96.5 1567.5,-96.5 1674.5,-96.5 1674.5,-96.5 1680.5,-96.5 1686.5,-102.5 1686.5,-108.5 1686.5,-108.5 1686.5,-137.5 1686.5,-137.5 1686.5,-143.5 1680.5,-149.5 1674.5,-149.5\"/>\n",
       "<text text-anchor=\"start\" x=\"1586\" y=\"-134.3\" font-family=\"Helvetica,sans-Serif\" font-size=\"14.00\">gini = 0.0</text>\n",
       "<text text-anchor=\"start\" x=\"1568\" y=\"-119.3\" font-family=\"Helvetica,sans-Serif\" font-size=\"14.00\">samples = 113</text>\n",
       "<text text-anchor=\"start\" x=\"1563.5\" y=\"-104.3\" font-family=\"Helvetica,sans-Serif\" font-size=\"14.00\">value = [0, 113]</text>\n",
       "</g>\n",
       "<!-- 33&#45;&gt;37 -->\n",
       "<g id=\"edge37\" class=\"edge\">\n",
       "<title>33&#45;&gt;37</title>\n",
       "<path fill=\"none\" stroke=\"black\" d=\"M1486.61,-192.88C1510.96,-180.4 1538.51,-166.28 1562.29,-154.09\"/>\n",
       "<polygon fill=\"black\" stroke=\"black\" points=\"1563.91,-157.2 1571.21,-149.52 1560.72,-150.97 1563.91,-157.2\"/>\n",
       "</g>\n",
       "<!-- 35 -->\n",
       "<g id=\"node36\" class=\"node\">\n",
       "<title>35</title>\n",
       "<path fill=\"#e58139\" stroke=\"black\" d=\"M1452,-53C1452,-53 1354,-53 1354,-53 1348,-53 1342,-47 1342,-41 1342,-41 1342,-12 1342,-12 1342,-6 1348,0 1354,0 1354,0 1452,0 1452,0 1458,0 1464,-6 1464,-12 1464,-12 1464,-41 1464,-41 1464,-47 1458,-53 1452,-53\"/>\n",
       "<text text-anchor=\"start\" x=\"1368\" y=\"-37.8\" font-family=\"Helvetica,sans-Serif\" font-size=\"14.00\">gini = 0.0</text>\n",
       "<text text-anchor=\"start\" x=\"1354.5\" y=\"-22.8\" font-family=\"Helvetica,sans-Serif\" font-size=\"14.00\">samples = 95</text>\n",
       "<text text-anchor=\"start\" x=\"1350\" y=\"-7.8\" font-family=\"Helvetica,sans-Serif\" font-size=\"14.00\">value = [95, 0]</text>\n",
       "</g>\n",
       "<!-- 34&#45;&gt;35 -->\n",
       "<g id=\"edge35\" class=\"edge\">\n",
       "<title>34&#45;&gt;35</title>\n",
       "<path fill=\"none\" stroke=\"black\" d=\"M1415.35,-88.95C1413.68,-80.62 1411.88,-71.65 1410.18,-63.2\"/>\n",
       "<polygon fill=\"black\" stroke=\"black\" points=\"1413.58,-62.35 1408.17,-53.24 1406.71,-63.73 1413.58,-62.35\"/>\n",
       "</g>\n",
       "<!-- 36 -->\n",
       "<g id=\"node37\" class=\"node\">\n",
       "<title>36</title>\n",
       "<path fill=\"#399de5\" stroke=\"black\" d=\"M1583.5,-53C1583.5,-53 1494.5,-53 1494.5,-53 1488.5,-53 1482.5,-47 1482.5,-41 1482.5,-41 1482.5,-12 1482.5,-12 1482.5,-6 1488.5,0 1494.5,0 1494.5,0 1583.5,0 1583.5,0 1589.5,0 1595.5,-6 1595.5,-12 1595.5,-12 1595.5,-41 1595.5,-41 1595.5,-47 1589.5,-53 1583.5,-53\"/>\n",
       "<text text-anchor=\"start\" x=\"1504\" y=\"-37.8\" font-family=\"Helvetica,sans-Serif\" font-size=\"14.00\">gini = 0.0</text>\n",
       "<text text-anchor=\"start\" x=\"1495\" y=\"-22.8\" font-family=\"Helvetica,sans-Serif\" font-size=\"14.00\">samples = 6</text>\n",
       "<text text-anchor=\"start\" x=\"1490.5\" y=\"-7.8\" font-family=\"Helvetica,sans-Serif\" font-size=\"14.00\">value = [0, 6]</text>\n",
       "</g>\n",
       "<!-- 34&#45;&gt;36 -->\n",
       "<g id=\"edge36\" class=\"edge\">\n",
       "<title>34&#45;&gt;36</title>\n",
       "<path fill=\"none\" stroke=\"black\" d=\"M1462.92,-88.95C1474.7,-79.43 1487.53,-69.07 1499.24,-59.62\"/>\n",
       "<polygon fill=\"black\" stroke=\"black\" points=\"1501.56,-62.24 1507.14,-53.24 1497.16,-56.8 1501.56,-62.24\"/>\n",
       "</g>\n",
       "</g>\n",
       "</svg>\n"
      ],
      "text/plain": [
       "<graphviz.files.Source at 0x7f8aab8c2210>"
      ]
     },
     "execution_count": 23,
     "metadata": {},
     "output_type": "execute_result"
    }
   ],
   "source": [
    "from sklearn.tree import DecisionTreeClassifier \n",
    "\n",
    "clf = DecisionTreeClassifier()\n",
    "clf = clf.fit(X_train, Y_train)\n",
    "Y_pred = clf.predict(X_test) \n",
    "\n",
    "dataset = export_graphviz(clf, out_file=None, \n",
    "                         feature_names=X.columns,  \n",
    "                         filled=True, rounded=True,  \n",
    "                         special_characters=True)  \n",
    "graph = graphviz.Source(dataset)  \n",
    "graph "
   ]
  },
  {
   "cell_type": "code",
   "execution_count": 24,
   "id": "7f573137",
   "metadata": {
    "execution": {
     "iopub.execute_input": "2023-01-03T09:51:38.387847Z",
     "iopub.status.busy": "2023-01-03T09:51:38.386968Z",
     "iopub.status.idle": "2023-01-03T09:51:38.669844Z",
     "shell.execute_reply": "2023-01-03T09:51:38.668049Z"
    },
    "papermill": {
     "duration": 0.313738,
     "end_time": "2023-01-03T09:51:38.673428",
     "exception": false,
     "start_time": "2023-01-03T09:51:38.359690",
     "status": "completed"
    },
    "tags": []
   },
   "outputs": [
    {
     "data": {
      "image/png": "[encoded data removed]",
      "text/plain": [
       "<Figure size 504x504 with 2 Axes>"
      ]
     },
     "metadata": {
      "needs_background": "light"
     },
     "output_type": "display_data"
    }
   ],
   "source": [
    "cm = confusion_matrix(Y_test, Y_pred)\n",
    "x_axis_labels = [\"Edible\", \"Poisonous\"]\n",
    "y_axis_labels = [\"Edible\", \"Poisonous\"]\n",
    "f, ax = plt.subplots(figsize =(7,7))\n",
    "sns.heatmap(cm, annot = True, linewidths=0.2, linecolor=\"black\",\n",
    "fmt = \".0f\", ax=ax, cmap=\"Blues\", xticklabels=x_axis_labels, yticklabels=y_axis_labels)\n",
    "plt.xlabel(\"PREDICTED LABEL\")\n",
    "plt.ylabel(\"TRUE LABEL\")\n",
    "plt.title('Confusion Matrix for Decision Tree Classifier')\n",
    "plt.show()"
   ]
  },
  {
   "cell_type": "code",
   "execution_count": 25,
   "id": "f762f527",
   "metadata": {
    "execution": {
     "iopub.execute_input": "2023-01-03T09:51:38.727450Z",
     "iopub.status.busy": "2023-01-03T09:51:38.727014Z",
     "iopub.status.idle": "2023-01-03T09:51:38.743748Z",
     "shell.execute_reply": "2023-01-03T09:51:38.741949Z"
    },
    "papermill": {
     "duration": 0.047727,
     "end_time": "2023-01-03T09:51:38.747555",
     "exception": false,
     "start_time": "2023-01-03T09:51:38.699828",
     "status": "completed"
    },
    "tags": []
   },
   "outputs": [
    {
     "name": "stdout",
     "output_type": "stream",
     "text": [
      "Accuracy: 1.0\n",
      "Precision: 1.0\n",
      "Recall: 1.0\n",
      "F1_score: 1.0\n"
     ]
    }
   ],
   "source": [
    "\n",
    "accuracy_tree=accuracy_score(Y_test, Y_pred)\n",
    "print(\"Accuracy:\", accuracy_tree)\n",
    "precision_agac=precision_score(Y_test, Y_pred)\n",
    "print(\"Precision:\", precision_agac)\n",
    "recall_agac=recall_score(Y_test, Y_pred)\n",
    "print(\"Recall:\", recall_agac)\n",
    "f1_score_agac=f1_score(Y_test, Y_pred)\n",
    "print(\"F1_score:\", f1_score_agac)\n"
   ]
  },
  {
   "cell_type": "markdown",
   "id": "1f455d9a",
   "metadata": {
    "papermill": {
     "duration": 0.025767,
     "end_time": "2023-01-03T09:51:38.799617",
     "exception": false,
     "start_time": "2023-01-03T09:51:38.773850",
     "status": "completed"
    },
    "tags": []
   },
   "source": [
    "# EUCLIDEAN "
   ]
  },
  {
   "cell_type": "code",
   "execution_count": 26,
   "id": "2a076947",
   "metadata": {
    "execution": {
     "iopub.execute_input": "2023-01-03T09:51:38.853907Z",
     "iopub.status.busy": "2023-01-03T09:51:38.853179Z",
     "iopub.status.idle": "2023-01-03T09:51:39.121822Z",
     "shell.execute_reply": "2023-01-03T09:51:39.120401Z"
    },
    "papermill": {
     "duration": 0.298598,
     "end_time": "2023-01-03T09:51:39.124997",
     "exception": false,
     "start_time": "2023-01-03T09:51:38.826399",
     "status": "completed"
    },
    "tags": []
   },
   "outputs": [],
   "source": [
    "enyakin_komsu1 = KNeighborsClassifier(algorithm='auto', leaf_size=30, metric='euclidean',\n",
    "metric_params=None, n_jobs=1,n_neighbors=1, p=2, weights='uniform')\n",
    "enyakin_komsu1.fit(X_train,Y_train)\n",
    "Y_pred = enyakin_komsu1.predict(X_test)"
   ]
  },
  {
   "cell_type": "code",
   "execution_count": 27,
   "id": "2987e361",
   "metadata": {
    "execution": {
     "iopub.execute_input": "2023-01-03T09:51:39.178323Z",
     "iopub.status.busy": "2023-01-03T09:51:39.177838Z",
     "iopub.status.idle": "2023-01-03T09:51:39.434911Z",
     "shell.execute_reply": "2023-01-03T09:51:39.433985Z"
    },
    "papermill": {
     "duration": 0.286766,
     "end_time": "2023-01-03T09:51:39.437245",
     "exception": false,
     "start_time": "2023-01-03T09:51:39.150479",
     "status": "completed"
    },
    "tags": []
   },
   "outputs": [
    {
     "data": {
      "image/png": "[encoded data removed]",
      "text/plain": [
       "<Figure size 504x504 with 2 Axes>"
      ]
     },
     "metadata": {
      "needs_background": "light"
     },
     "output_type": "display_data"
    }
   ],
   "source": [
    "#EUCLIDEAN CONFUSION MATRIX\n",
    "cm = confusion_matrix(Y_test, Y_pred)\n",
    "x_axis_labels = [\"Edible\", \"Poisonous\"]\n",
    "y_axis_labels = [\"Edible\", \"Poisonous\"]\n",
    "f, ax = plt.subplots(figsize =(7,7))\n",
    "sns.heatmap(cm, annot = True, linewidths=0.2, linecolor=\"black\", fmt = \".0f\", ax=ax, \n",
    "            cmap=\"Blues\", xticklabels=x_axis_labels, yticklabels=y_axis_labels)\n",
    "plt.xlabel(\"PREDICTED LABEL\")\n",
    "plt.ylabel(\"TRUE LABEL\")\n",
    "plt.title('Confusion Matrix for Euclidean')\n",
    "plt.show()"
   ]
  },
  {
   "cell_type": "code",
   "execution_count": 28,
   "id": "5d7da566",
   "metadata": {
    "execution": {
     "iopub.execute_input": "2023-01-03T09:51:39.491657Z",
     "iopub.status.busy": "2023-01-03T09:51:39.490679Z",
     "iopub.status.idle": "2023-01-03T09:51:39.505339Z",
     "shell.execute_reply": "2023-01-03T09:51:39.503684Z"
    },
    "papermill": {
     "duration": 0.045333,
     "end_time": "2023-01-03T09:51:39.508167",
     "exception": false,
     "start_time": "2023-01-03T09:51:39.462834",
     "status": "completed"
    },
    "tags": []
   },
   "outputs": [
    {
     "name": "stdout",
     "output_type": "stream",
     "text": [
      "Accuracy: 0.999015263417036\n",
      "Precision: 0.9979423868312757\n",
      "Recall: 1.0\n",
      "F1_score: 0.9989701338825953\n"
     ]
    }
   ],
   "source": [
    "accuracy_euclidean=accuracy_score(Y_test, Y_pred)\n",
    "print(\"Accuracy:\", accuracy_euclidean)\n",
    "precision_oklid=precision_score(Y_test, Y_pred)\n",
    "print(\"Precision:\", precision_oklid)\n",
    "recall_oklid=recall_score(Y_test, Y_pred)\n",
    "print(\"Recall:\", recall_oklid)\n",
    "f1_score_oklid=f1_score(Y_test, Y_pred)\n",
    "print(\"F1_score:\", f1_score_oklid)"
   ]
  },
  {
   "cell_type": "markdown",
   "id": "11bb9cb5",
   "metadata": {
    "papermill": {
     "duration": 0.025338,
     "end_time": "2023-01-03T09:51:39.559718",
     "exception": false,
     "start_time": "2023-01-03T09:51:39.534380",
     "status": "completed"
    },
    "tags": []
   },
   "source": [
    "# MANHATTAN"
   ]
  },
  {
   "cell_type": "code",
   "execution_count": 29,
   "id": "57ad8e29",
   "metadata": {
    "execution": {
     "iopub.execute_input": "2023-01-03T09:51:39.612990Z",
     "iopub.status.busy": "2023-01-03T09:51:39.612560Z",
     "iopub.status.idle": "2023-01-03T09:51:40.194098Z",
     "shell.execute_reply": "2023-01-03T09:51:40.192863Z"
    },
    "papermill": {
     "duration": 0.611616,
     "end_time": "2023-01-03T09:51:40.197057",
     "exception": false,
     "start_time": "2023-01-03T09:51:39.585441",
     "status": "completed"
    },
    "tags": []
   },
   "outputs": [],
   "source": [
    "enyakin_komsu2 = KNeighborsClassifier(algorithm='auto', leaf_size=30, \n",
    "metric='manhattan',metric_params=None, n_jobs=1, n_neighbors=6, p=1, weights='uniform')\n",
    "enyakin_komsu2.fit(X_train,Y_train)\n",
    "Y_pred = enyakin_komsu2.predict(X_test)\n",
    "\n"
   ]
  },
  {
   "cell_type": "code",
   "execution_count": 30,
   "id": "ae8e3c56",
   "metadata": {
    "execution": {
     "iopub.execute_input": "2023-01-03T09:51:40.250067Z",
     "iopub.status.busy": "2023-01-03T09:51:40.249621Z",
     "iopub.status.idle": "2023-01-03T09:51:40.513141Z",
     "shell.execute_reply": "2023-01-03T09:51:40.511643Z"
    },
    "papermill": {
     "duration": 0.293391,
     "end_time": "2023-01-03T09:51:40.516039",
     "exception": false,
     "start_time": "2023-01-03T09:51:40.222648",
     "status": "completed"
    },
    "tags": []
   },
   "outputs": [
    {
     "data": {
      "image/png": "[encoded data removed]",
      "text/plain": [
       "<Figure size 504x504 with 2 Axes>"
      ]
     },
     "metadata": {
      "needs_background": "light"
     },
     "output_type": "display_data"
    }
   ],
   "source": [
    "cm = confusion_matrix(Y_test, Y_pred)\n",
    "x_axis_labels = [\"Edible\", \"Poisonous\"]\n",
    "y_axis_labels = [\"Edible\", \"Poisonous\"]\n",
    "f, ax = plt.subplots(figsize =(7,7))\n",
    "sns.heatmap(cm, annot = True, linewidths=0.2, linecolor=\"black\", fmt = \".0f\", ax=ax, \n",
    "            cmap=\"Blues\", xticklabels=x_axis_labels, yticklabels=y_axis_labels)\n",
    "plt.xlabel(\"PREDICTED LABEL\")\n",
    "plt.ylabel(\"TRUE LABEL\")\n",
    "plt.title('Confusion Matrix for Manhattan')\n",
    "plt.show()"
   ]
  },
  {
   "cell_type": "code",
   "execution_count": 31,
   "id": "e8d9c898",
   "metadata": {
    "execution": {
     "iopub.execute_input": "2023-01-03T09:51:40.573933Z",
     "iopub.status.busy": "2023-01-03T09:51:40.572609Z",
     "iopub.status.idle": "2023-01-03T09:51:40.587488Z",
     "shell.execute_reply": "2023-01-03T09:51:40.585925Z"
    },
    "papermill": {
     "duration": 0.046948,
     "end_time": "2023-01-03T09:51:40.590365",
     "exception": false,
     "start_time": "2023-01-03T09:51:40.543417",
     "status": "completed"
    },
    "tags": []
   },
   "outputs": [
    {
     "name": "stdout",
     "output_type": "stream",
     "text": [
      "Accuracy: 1.0\n",
      "Precision: 1.0\n",
      "Recall: 1.0\n",
      "F1_score: 1.0\n"
     ]
    }
   ],
   "source": [
    "accuracy_manhattan=accuracy_score(Y_test, Y_pred)\n",
    "print(\"Accuracy:\", accuracy_manhattan)\n",
    "precision_manhattan=precision_score(Y_test, Y_pred)\n",
    "print(\"Precision:\", precision_manhattan)\n",
    "recall_manhattan=recall_score(Y_test, Y_pred)\n",
    "print(\"Recall:\", recall_manhattan)\n",
    "f1_score_manhattan=f1_score(Y_test, Y_pred)\n",
    "print(\"F1_score:\", f1_score_manhattan)"
   ]
  },
  {
   "cell_type": "markdown",
   "id": "551ddcb4",
   "metadata": {
    "papermill": {
     "duration": 0.02631,
     "end_time": "2023-01-03T09:51:40.642663",
     "exception": false,
     "start_time": "2023-01-03T09:51:40.616353",
     "status": "completed"
    },
    "tags": []
   },
   "source": [
    "# MINKOWSI"
   ]
  },
  {
   "cell_type": "code",
   "execution_count": 32,
   "id": "8ac18a68",
   "metadata": {
    "execution": {
     "iopub.execute_input": "2023-01-03T09:51:40.699706Z",
     "iopub.status.busy": "2023-01-03T09:51:40.699210Z",
     "iopub.status.idle": "2023-01-03T09:51:41.077564Z",
     "shell.execute_reply": "2023-01-03T09:51:41.076213Z"
    },
    "papermill": {
     "duration": 0.410202,
     "end_time": "2023-01-03T09:51:41.080518",
     "exception": false,
     "start_time": "2023-01-03T09:51:40.670316",
     "status": "completed"
    },
    "tags": []
   },
   "outputs": [],
   "source": [
    "enyakin_komsu3 = KNeighborsClassifier(algorithm='auto', leaf_size=30, metric='minkowski',\n",
    "metric_params=None, n_jobs=1, n_neighbors=4, p=2, weights='uniform')\n",
    "enyakin_komsu3.fit(X_train,Y_train)\n",
    "Y_pred = enyakin_komsu3.predict(X_test)"
   ]
  },
  {
   "cell_type": "code",
   "execution_count": 33,
   "id": "34473228",
   "metadata": {
    "execution": {
     "iopub.execute_input": "2023-01-03T09:51:41.136413Z",
     "iopub.status.busy": "2023-01-03T09:51:41.136008Z",
     "iopub.status.idle": "2023-01-03T09:51:41.396556Z",
     "shell.execute_reply": "2023-01-03T09:51:41.395165Z"
    },
    "papermill": {
     "duration": 0.291567,
     "end_time": "2023-01-03T09:51:41.399393",
     "exception": false,
     "start_time": "2023-01-03T09:51:41.107826",
     "status": "completed"
    },
    "tags": []
   },
   "outputs": [
    {
     "data": {
      "image/png": "[encoded data removed]",
      "text/plain": [
       "<Figure size 504x504 with 2 Axes>"
      ]
     },
     "metadata": {
      "needs_background": "light"
     },
     "output_type": "display_data"
    }
   ],
   "source": [
    "cm = confusion_matrix(Y_test, Y_pred)\n",
    "\n",
    "x_axis_labels = [\"Edible\", \"Poisonous\"]\n",
    "y_axis_labels = [\"Edible\", \"Poisonous\"]\n",
    "\n",
    "f, ax = plt.subplots(figsize =(7,7))\n",
    "sns.heatmap(cm, annot = True, linewidths=0.2, linecolor=\"black\", fmt = \".0f\", ax=ax,\n",
    "            cmap=\"Blues\", xticklabels=x_axis_labels, yticklabels=y_axis_labels)\n",
    "plt.xlabel(\"PREDICTED LABEL\")\n",
    "plt.ylabel(\"TRUE LABEL\")\n",
    "plt.title('Confusion Matrix for Minkowsi')\n",
    "plt.show()"
   ]
  },
  {
   "cell_type": "code",
   "execution_count": 34,
   "id": "d2291790",
   "metadata": {
    "execution": {
     "iopub.execute_input": "2023-01-03T09:51:41.454570Z",
     "iopub.status.busy": "2023-01-03T09:51:41.454164Z",
     "iopub.status.idle": "2023-01-03T09:51:41.469403Z",
     "shell.execute_reply": "2023-01-03T09:51:41.467846Z"
    },
    "papermill": {
     "duration": 0.046095,
     "end_time": "2023-01-03T09:51:41.472109",
     "exception": false,
     "start_time": "2023-01-03T09:51:41.426014",
     "status": "completed"
    },
    "tags": []
   },
   "outputs": [
    {
     "name": "stdout",
     "output_type": "stream",
     "text": [
      "Accuracy: 0.9980305268340719\n",
      "Precision: 0.9969135802469136\n",
      "Recall: 0.9989690721649485\n",
      "F1_score: 0.9979402677651905\n"
     ]
    }
   ],
   "source": [
    "accuracy_minkowski=accuracy_score(Y_test, Y_pred)\n",
    "print(\"Accuracy:\", accuracy_minkowski)\n",
    "precision_minkowski=precision_score(Y_test, Y_pred)\n",
    "print(\"Precision:\", precision_minkowski)\n",
    "recall_minkowski=recall_score(Y_test, Y_pred)\n",
    "print(\"Recall:\", recall_minkowski)\n",
    "f1_score_minkowski=f1_score(Y_test, Y_pred)\n",
    "print(\"F1_score:\", f1_score_minkowski)"
   ]
  },
  {
   "cell_type": "markdown",
   "id": "5fa41289",
   "metadata": {
    "papermill": {
     "duration": 0.025858,
     "end_time": "2023-01-03T09:51:41.524052",
     "exception": false,
     "start_time": "2023-01-03T09:51:41.498194",
     "status": "completed"
    },
    "tags": []
   },
   "source": [
    "# NAVIE BAYES"
   ]
  },
  {
   "cell_type": "code",
   "execution_count": 35,
   "id": "8ec26472",
   "metadata": {
    "execution": {
     "iopub.execute_input": "2023-01-03T09:51:41.579197Z",
     "iopub.status.busy": "2023-01-03T09:51:41.578755Z",
     "iopub.status.idle": "2023-01-03T09:51:41.595980Z",
     "shell.execute_reply": "2023-01-03T09:51:41.594345Z"
    },
    "papermill": {
     "duration": 0.048163,
     "end_time": "2023-01-03T09:51:41.599094",
     "exception": false,
     "start_time": "2023-01-03T09:51:41.550931",
     "status": "completed"
    },
    "tags": []
   },
   "outputs": [],
   "source": [
    "from sklearn.naive_bayes import GaussianNB  \n",
    "nb = GaussianNB()\n",
    "nb.fit(X_train,Y_train)\n",
    "Y_pred = nb.predict(X_test)"
   ]
  },
  {
   "cell_type": "code",
   "execution_count": 36,
   "id": "82a7570b",
   "metadata": {
    "execution": {
     "iopub.execute_input": "2023-01-03T09:51:41.654784Z",
     "iopub.status.busy": "2023-01-03T09:51:41.654345Z",
     "iopub.status.idle": "2023-01-03T09:51:41.932772Z",
     "shell.execute_reply": "2023-01-03T09:51:41.931453Z"
    },
    "papermill": {
     "duration": 0.309847,
     "end_time": "2023-01-03T09:51:41.935854",
     "exception": false,
     "start_time": "2023-01-03T09:51:41.626007",
     "status": "completed"
    },
    "tags": []
   },
   "outputs": [
    {
     "data": {
      "image/png": "[encoded data removed]",
      "text/plain": [
       "<Figure size 504x504 with 2 Axes>"
      ]
     },
     "metadata": {
      "needs_background": "light"
     },
     "output_type": "display_data"
    }
   ],
   "source": [
    "cm = confusion_matrix(Y_test, Y_pred)\n",
    "\n",
    "x_axis_labels = [\"Edible\", \"Poisonous\"]\n",
    "y_axis_labels = [\"Edible\", \"Poisonous\"]\n",
    "\n",
    "f, ax = plt.subplots(figsize =(7,7))\n",
    "sns.heatmap(cm, annot = True, linewidths=0.2, linecolor=\"black\", fmt = \".0f\", ax=ax,\n",
    "            cmap=\"Blues\", xticklabels=x_axis_labels, yticklabels=y_axis_labels)\n",
    "plt.xlabel(\"PREDICTED LABEL\")\n",
    "plt.ylabel(\"TRUE LABEL\")\n",
    "plt.title('Confusion Matrix for Naive Bayes ')\n",
    "plt.show()\n"
   ]
  },
  {
   "cell_type": "code",
   "execution_count": 37,
   "id": "20cc42f5",
   "metadata": {
    "execution": {
     "iopub.execute_input": "2023-01-03T09:51:41.994530Z",
     "iopub.status.busy": "2023-01-03T09:51:41.994054Z",
     "iopub.status.idle": "2023-01-03T09:51:42.010790Z",
     "shell.execute_reply": "2023-01-03T09:51:42.009216Z"
    },
    "papermill": {
     "duration": 0.050336,
     "end_time": "2023-01-03T09:51:42.013697",
     "exception": false,
     "start_time": "2023-01-03T09:51:41.963361",
     "status": "completed"
    },
    "tags": []
   },
   "outputs": [
    {
     "name": "stdout",
     "output_type": "stream",
     "text": [
      "Accuracy: 0.914327917282127\n",
      "Precision: 0.9036511156186613\n",
      "Recall: 1.0\n",
      "F1_score: 0.9110429447852761\n"
     ]
    }
   ],
   "source": [
    "\n",
    "accuracy_bayes=accuracy_score(Y_test, Y_pred)\n",
    "print(\"Accuracy:\", accuracy_bayes)\n",
    "precision_bayes=precision_score(Y_test, Y_pred)\n",
    "print(\"Precision:\", precision_bayes)\n",
    "recall_bayes=recall_score(Y_test, Y_pred)\n",
    "print(\"Recall:\", recall_manhattan)\n",
    "f1_score_bayes=f1_score(Y_test, Y_pred)\n",
    "print(\"F1_score:\", f1_score_bayes)"
   ]
  },
  {
   "cell_type": "markdown",
   "id": "a89d3d9f",
   "metadata": {
    "papermill": {
     "duration": 0.027283,
     "end_time": "2023-01-03T09:51:42.068503",
     "exception": false,
     "start_time": "2023-01-03T09:51:42.041220",
     "status": "completed"
    },
    "tags": []
   },
   "source": [
    "# PCA"
   ]
  },
  {
   "cell_type": "code",
   "execution_count": 38,
   "id": "5ca960be",
   "metadata": {
    "execution": {
     "iopub.execute_input": "2023-01-03T09:51:42.126873Z",
     "iopub.status.busy": "2023-01-03T09:51:42.126402Z",
     "iopub.status.idle": "2023-01-03T09:51:42.138584Z",
     "shell.execute_reply": "2023-01-03T09:51:42.137519Z"
    },
    "papermill": {
     "duration": 0.044578,
     "end_time": "2023-01-03T09:51:42.141306",
     "exception": false,
     "start_time": "2023-01-03T09:51:42.096728",
     "status": "completed"
    },
    "tags": []
   },
   "outputs": [],
   "source": [
    "X_dummy = pd.get_dummies(X, drop_first=True) "
   ]
  },
  {
   "cell_type": "code",
   "execution_count": 39,
   "id": "1365ff76",
   "metadata": {
    "execution": {
     "iopub.execute_input": "2023-01-03T09:51:42.197458Z",
     "iopub.status.busy": "2023-01-03T09:51:42.196741Z",
     "iopub.status.idle": "2023-01-03T09:51:42.201609Z",
     "shell.execute_reply": "2023-01-03T09:51:42.200607Z"
    },
    "papermill": {
     "duration": 0.035859,
     "end_time": "2023-01-03T09:51:42.204022",
     "exception": false,
     "start_time": "2023-01-03T09:51:42.168163",
     "status": "completed"
    },
    "tags": []
   },
   "outputs": [],
   "source": [
    "from sklearn.preprocessing import StandardScaler\n",
    "from sklearn.decomposition import PCA"
   ]
  },
  {
   "cell_type": "code",
   "execution_count": 40,
   "id": "7172eaba",
   "metadata": {
    "execution": {
     "iopub.execute_input": "2023-01-03T09:51:42.260130Z",
     "iopub.status.busy": "2023-01-03T09:51:42.259621Z",
     "iopub.status.idle": "2023-01-03T09:51:42.276292Z",
     "shell.execute_reply": "2023-01-03T09:51:42.275137Z"
    },
    "papermill": {
     "duration": 0.048776,
     "end_time": "2023-01-03T09:51:42.279309",
     "exception": false,
     "start_time": "2023-01-03T09:51:42.230533",
     "status": "completed"
    },
    "tags": []
   },
   "outputs": [
    {
     "data": {
      "text/plain": [
       "array([[ 1.02971224,  0.14012794, -0.19824983, ..., -0.67019486,\n",
       "        -0.5143892 ,  2.03002809],\n",
       "       [ 1.02971224,  0.14012794,  1.76587407, ..., -0.2504706 ,\n",
       "        -1.31310821, -0.29572966],\n",
       "       [-2.08704716,  0.14012794,  1.37304929, ..., -0.2504706 ,\n",
       "        -1.31310821,  0.86714922],\n",
       "       ...,\n",
       "       [-0.8403434 ,  0.14012794, -0.19824983, ..., -1.50964337,\n",
       "        -2.11182722,  0.28570978],\n",
       "       [-0.21699152,  0.95327039, -0.19824983, ...,  1.42842641,\n",
       "         0.28432981,  0.28570978],\n",
       "       [ 1.02971224,  0.14012794, -0.19824983, ...,  0.16925365,\n",
       "        -2.11182722,  0.28570978]])"
      ]
     },
     "execution_count": 40,
     "metadata": {},
     "output_type": "execute_result"
    }
   ],
   "source": [
    "X_std = StandardScaler().fit_transform(X_dummy)\n",
    "X_std"
   ]
  },
  {
   "cell_type": "code",
   "execution_count": 41,
   "id": "1a15f3d8",
   "metadata": {
    "execution": {
     "iopub.execute_input": "2023-01-03T09:51:42.335032Z",
     "iopub.status.busy": "2023-01-03T09:51:42.334588Z",
     "iopub.status.idle": "2023-01-03T09:51:42.444000Z",
     "shell.execute_reply": "2023-01-03T09:51:42.442376Z"
    },
    "papermill": {
     "duration": 0.143086,
     "end_time": "2023-01-03T09:51:42.449328",
     "exception": false,
     "start_time": "2023-01-03T09:51:42.306242",
     "status": "completed"
    },
    "tags": []
   },
   "outputs": [
    {
     "name": "stdout",
     "output_type": "stream",
     "text": [
      "Original Number of features = 22 columns\n",
      "Reduced Number of features = 2 columns\n"
     ]
    }
   ],
   "source": [
    "# Reduce 22 features to 2 features to visualize it.\n",
    "X_pca = PCA(n_components=2).fit_transform(X_std)\n",
    "\n",
    "print('Original Number of features =',  X_dummy.shape[1] ,'columns')\n",
    "print('Reduced Number of features =', X_pca.shape[1], 'columns')"
   ]
  },
  {
   "cell_type": "code",
   "execution_count": 42,
   "id": "45b09195",
   "metadata": {
    "execution": {
     "iopub.execute_input": "2023-01-03T09:51:42.589025Z",
     "iopub.status.busy": "2023-01-03T09:51:42.588578Z",
     "iopub.status.idle": "2023-01-03T09:51:42.596603Z",
     "shell.execute_reply": "2023-01-03T09:51:42.595220Z"
    },
    "papermill": {
     "duration": 0.038787,
     "end_time": "2023-01-03T09:51:42.599105",
     "exception": false,
     "start_time": "2023-01-03T09:51:42.560318",
     "status": "completed"
    },
    "tags": []
   },
   "outputs": [
    {
     "data": {
      "text/plain": [
       "(8124, 2)"
      ]
     },
     "execution_count": 42,
     "metadata": {},
     "output_type": "execute_result"
    }
   ],
   "source": [
    "X_pca.shape"
   ]
  },
  {
   "cell_type": "code",
   "execution_count": 43,
   "id": "3f99e9d2",
   "metadata": {
    "execution": {
     "iopub.execute_input": "2023-01-03T09:51:42.655418Z",
     "iopub.status.busy": "2023-01-03T09:51:42.655005Z",
     "iopub.status.idle": "2023-01-03T09:51:43.248678Z",
     "shell.execute_reply": "2023-01-03T09:51:43.247644Z"
    },
    "papermill": {
     "duration": 0.625387,
     "end_time": "2023-01-03T09:51:43.251448",
     "exception": false,
     "start_time": "2023-01-03T09:51:42.626061",
     "status": "completed"
    },
    "tags": []
   },
   "outputs": [
    {
     "name": "stderr",
     "output_type": "stream",
     "text": [
      "/opt/conda/lib/python3.7/site-packages/seaborn/axisgrid.py:337: UserWarning: The `size` parameter has been renamed to `height`; please update your code.\n",
      "  warnings.warn(msg, UserWarning)\n"
     ]
    },
    {
     "data": {
      "image/png": "[encoded data removed]",
      "text/plain": [
       "<Figure size 483.875x432 with 1 Axes>"
      ]
     },
     "metadata": {
      "needs_background": "light"
     },
     "output_type": "display_data"
    }
   ],
   "source": [
    "X_pca = np.vstack((X_pca.T, Y)).T\n",
    "\n",
    "df_pca = pd.DataFrame(X_pca, columns=['First_Component',\n",
    "                                      'Second_Component',\n",
    "                                      'class'])\n",
    "sns.FacetGrid(data=df_pca, hue='class', size=6)\\\n",
    "   .map(plt.scatter, 'First_Component', 'Second_Component')\\\n",
    "   .add_legend();"
   ]
  },
  {
   "cell_type": "code",
   "execution_count": 44,
   "id": "2ad3894f",
   "metadata": {
    "execution": {
     "iopub.execute_input": "2023-01-03T09:51:43.312051Z",
     "iopub.status.busy": "2023-01-03T09:51:43.311349Z",
     "iopub.status.idle": "2023-01-03T09:51:43.650739Z",
     "shell.execute_reply": "2023-01-03T09:51:43.649057Z"
    },
    "papermill": {
     "duration": 0.372625,
     "end_time": "2023-01-03T09:51:43.653504",
     "exception": false,
     "start_time": "2023-01-03T09:51:43.280879",
     "status": "completed"
    },
    "tags": []
   },
   "outputs": [
    {
     "data": {
      "image/png": "[encoded data removed]",
      "text/plain": [
       "<Figure size 864x432 with 1 Axes>"
      ]
     },
     "metadata": {
      "needs_background": "light"
     },
     "output_type": "display_data"
    }
   ],
   "source": [
    "pca = PCA(n_components=22)\n",
    "X_pca = pca.fit_transform(X_std)\n",
    "\n",
    "percent_var_explained = pca.explained_variance_ / np.sum(pca.explained_variance_)\n",
    "\n",
    "cum_var_explained = np.cumsum(percent_var_explained)\n",
    "\n",
    "# Plot the PCA Spectrum\n",
    "plt.figure(1, figsize=(12, 6))\n",
    "plt.clf()\n",
    "plt.plot(cum_var_explained, linewidth=2)\n",
    "plt.axis('tight')\n",
    "plt.grid()\n",
    "plt.xlabel('n_components')\n",
    "plt.ylabel('Cumulative Explained Variance');"
   ]
  },
  {
   "cell_type": "code",
   "execution_count": 45,
   "id": "02e27d5b",
   "metadata": {
    "execution": {
     "iopub.execute_input": "2023-01-03T09:51:43.720475Z",
     "iopub.status.busy": "2023-01-03T09:51:43.719827Z",
     "iopub.status.idle": "2023-01-03T09:51:43.748751Z",
     "shell.execute_reply": "2023-01-03T09:51:43.746935Z"
    },
    "papermill": {
     "duration": 0.065872,
     "end_time": "2023-01-03T09:51:43.753588",
     "exception": false,
     "start_time": "2023-01-03T09:51:43.687716",
     "status": "completed"
    },
    "tags": []
   },
   "outputs": [
    {
     "name": "stdout",
     "output_type": "stream",
     "text": [
      "Original number of features: 22\n",
      "Reduced number of features: 11\n"
     ]
    }
   ],
   "source": [
    "pca = PCA(n_components=0.85, whiten=True)\n",
    "\n",
    "X_pca = pca.fit_transform(X_std)\n",
    "# Show the result\n",
    "print('Original number of features:', X_dummy.shape[1])\n",
    "print('Reduced number of features:', X_pca.shape[1])"
   ]
  },
  {
   "cell_type": "code",
   "execution_count": 46,
   "id": "7c9adada",
   "metadata": {
    "execution": {
     "iopub.execute_input": "2023-01-03T09:51:43.896091Z",
     "iopub.status.busy": "2023-01-03T09:51:43.895604Z",
     "iopub.status.idle": "2023-01-03T09:51:43.903304Z",
     "shell.execute_reply": "2023-01-03T09:51:43.902058Z"
    },
    "papermill": {
     "duration": 0.048003,
     "end_time": "2023-01-03T09:51:43.906432",
     "exception": false,
     "start_time": "2023-01-03T09:51:43.858429",
     "status": "completed"
    },
    "tags": []
   },
   "outputs": [
    {
     "data": {
      "text/plain": [
       "(8124, 11)"
      ]
     },
     "execution_count": 46,
     "metadata": {},
     "output_type": "execute_result"
    }
   ],
   "source": [
    "X_pca.shape"
   ]
  },
  {
   "cell_type": "code",
   "execution_count": 47,
   "id": "91660b93",
   "metadata": {
    "execution": {
     "iopub.execute_input": "2023-01-03T09:51:43.967577Z",
     "iopub.status.busy": "2023-01-03T09:51:43.966741Z",
     "iopub.status.idle": "2023-01-03T09:51:43.974783Z",
     "shell.execute_reply": "2023-01-03T09:51:43.973757Z"
    },
    "papermill": {
     "duration": 0.04156,
     "end_time": "2023-01-03T09:51:43.977328",
     "exception": false,
     "start_time": "2023-01-03T09:51:43.935768",
     "status": "completed"
    },
    "tags": []
   },
   "outputs": [
    {
     "data": {
      "text/plain": [
       "array([[-0.29178936, -0.60475927, -0.7885224 , ...,  1.82900571,\n",
       "         0.48119687, -0.90871567],\n",
       "       [-1.1594424 ,  0.17295673, -0.77479811, ..., -0.75416743,\n",
       "        -0.18790193,  0.25572795],\n",
       "       [-0.94399155, -0.16794034, -0.88572524, ...,  0.76892068,\n",
       "         0.4022008 , -0.38628528],\n",
       "       ...,\n",
       "       [-0.82382581, -0.46949796,  1.76424691, ...,  0.23399949,\n",
       "        -0.22184634, -0.34831348],\n",
       "       [ 1.86488387, -0.64008187,  0.10872342, ..., -0.22164305,\n",
       "        -0.18808342, -1.84812831],\n",
       "       [-0.80029577, -0.76143697,  1.57943588, ..., -0.55097417,\n",
       "        -0.22674082, -0.03816132]])"
      ]
     },
     "execution_count": 47,
     "metadata": {},
     "output_type": "execute_result"
    }
   ],
   "source": [
    "X_pca"
   ]
  },
  {
   "cell_type": "code",
   "execution_count": 48,
   "id": "a5e7a051",
   "metadata": {
    "execution": {
     "iopub.execute_input": "2023-01-03T09:51:44.039796Z",
     "iopub.status.busy": "2023-01-03T09:51:44.038947Z",
     "iopub.status.idle": "2023-01-03T09:51:44.057383Z",
     "shell.execute_reply": "2023-01-03T09:51:44.054610Z"
    },
    "papermill": {
     "duration": 0.053344,
     "end_time": "2023-01-03T09:51:44.060946",
     "exception": false,
     "start_time": "2023-01-03T09:51:44.007602",
     "status": "completed"
    },
    "tags": []
   },
   "outputs": [
    {
     "name": "stdout",
     "output_type": "stream",
     "text": [
      "            0         1         2         3         4         5         6   \\\n",
      "0    -0.291789 -0.604759 -0.788522  0.126024 -1.112580 -1.302411  1.219292   \n",
      "1    -1.159442  0.172957 -0.774798  0.184822 -1.150596 -1.259003  1.094439   \n",
      "2    -0.943992 -0.167940 -0.885725  0.717372 -1.387212 -0.740158 -1.787236   \n",
      "3    -0.449521 -0.468836 -0.866168  0.251471 -1.617804 -1.786672  1.101691   \n",
      "4     0.350364  0.768057 -2.009277  0.553484  1.181365 -0.470685  0.591921   \n",
      "...        ...       ...       ...       ...       ...       ...       ...   \n",
      "8119 -1.140514 -0.569289  1.632041  4.384853  2.135991 -1.127218  0.282888   \n",
      "8120 -1.289840 -1.036081  2.791022  5.112761  3.045799 -1.846332  1.690130   \n",
      "8121 -0.823826 -0.469498  1.764247  4.384294  1.899007 -1.332615 -0.327454   \n",
      "8122  1.864884 -0.640082  0.108723 -0.099549 -0.117985 -0.386913 -0.338891   \n",
      "8123 -0.800296 -0.761437  1.579436  4.442717  2.086095 -0.998894  1.521930   \n",
      "\n",
      "            7         8         9         10  \n",
      "0     1.583864  1.829006  0.481197 -0.908716  \n",
      "1    -0.349179 -0.754167 -0.187902  0.255728  \n",
      "2    -0.293484  0.768921  0.402201 -0.386285  \n",
      "3     1.274794  0.808006  0.566839 -1.691009  \n",
      "4     1.638627 -0.970297  1.702963 -0.020210  \n",
      "...        ...       ...       ...       ...  \n",
      "8119  0.623485 -0.052045 -0.363564 -0.286366  \n",
      "8120  0.215005  0.273616 -1.818958 -0.518630  \n",
      "8121  0.306792  0.233999 -0.221846 -0.348313  \n",
      "8122 -0.195271 -0.221643 -0.188083 -1.848128  \n",
      "8123  0.817336 -0.550974 -0.226741 -0.038161  \n",
      "\n",
      "[8124 rows x 11 columns]\n"
     ]
    },
    {
     "data": {
      "text/plain": [
       "pandas.core.frame.DataFrame"
      ]
     },
     "execution_count": 48,
     "metadata": {},
     "output_type": "execute_result"
    }
   ],
   "source": [
    "newdata = pd.DataFrame(X_pca)\n",
    "print(newdata)\n",
    "type(newdata)"
   ]
  },
  {
   "cell_type": "code",
   "execution_count": 49,
   "id": "8f6ebd94",
   "metadata": {
    "execution": {
     "iopub.execute_input": "2023-01-03T09:51:44.122194Z",
     "iopub.status.busy": "2023-01-03T09:51:44.121359Z",
     "iopub.status.idle": "2023-01-03T09:51:44.147283Z",
     "shell.execute_reply": "2023-01-03T09:51:44.146071Z"
    },
    "papermill": {
     "duration": 0.059493,
     "end_time": "2023-01-03T09:51:44.149883",
     "exception": false,
     "start_time": "2023-01-03T09:51:44.090390",
     "status": "completed"
    },
    "tags": []
   },
   "outputs": [
    {
     "data": {
      "text/html": [
       "<div>\n",
       "<style scoped>\n",
       "    .dataframe tbody tr th:only-of-type {\n",
       "        vertical-align: middle;\n",
       "    }\n",
       "\n",
       "    .dataframe tbody tr th {\n",
       "        vertical-align: top;\n",
       "    }\n",
       "\n",
       "    .dataframe thead th {\n",
       "        text-align: right;\n",
       "    }\n",
       "</style>\n",
       "<table border=\"1\" class=\"dataframe\">\n",
       "  <thead>\n",
       "    <tr style=\"text-align: right;\">\n",
       "      <th></th>\n",
       "      <th>0</th>\n",
       "      <th>1</th>\n",
       "      <th>2</th>\n",
       "      <th>3</th>\n",
       "      <th>4</th>\n",
       "      <th>5</th>\n",
       "      <th>6</th>\n",
       "      <th>7</th>\n",
       "      <th>8</th>\n",
       "      <th>9</th>\n",
       "      <th>10</th>\n",
       "    </tr>\n",
       "  </thead>\n",
       "  <tbody>\n",
       "    <tr>\n",
       "      <th>0</th>\n",
       "      <td>4500</td>\n",
       "      <td>2867</td>\n",
       "      <td>1756</td>\n",
       "      <td>6059</td>\n",
       "      <td>1069</td>\n",
       "      <td>526</td>\n",
       "      <td>7447</td>\n",
       "      <td>7663</td>\n",
       "      <td>7865</td>\n",
       "      <td>5732</td>\n",
       "      <td>997</td>\n",
       "    </tr>\n",
       "    <tr>\n",
       "      <th>1</th>\n",
       "      <td>401</td>\n",
       "      <td>5394</td>\n",
       "      <td>1801</td>\n",
       "      <td>6248</td>\n",
       "      <td>1025</td>\n",
       "      <td>586</td>\n",
       "      <td>7050</td>\n",
       "      <td>2755</td>\n",
       "      <td>2104</td>\n",
       "      <td>3330</td>\n",
       "      <td>5507</td>\n",
       "    </tr>\n",
       "    <tr>\n",
       "      <th>2</th>\n",
       "      <td>847</td>\n",
       "      <td>4342</td>\n",
       "      <td>1485</td>\n",
       "      <td>7249</td>\n",
       "      <td>751</td>\n",
       "      <td>1643</td>\n",
       "      <td>195</td>\n",
       "      <td>2956</td>\n",
       "      <td>6323</td>\n",
       "      <td>5497</td>\n",
       "      <td>2556</td>\n",
       "    </tr>\n",
       "    <tr>\n",
       "      <th>3</th>\n",
       "      <td>3840</td>\n",
       "      <td>3425</td>\n",
       "      <td>1530</td>\n",
       "      <td>6405</td>\n",
       "      <td>449</td>\n",
       "      <td>108</td>\n",
       "      <td>7076</td>\n",
       "      <td>7430</td>\n",
       "      <td>6438</td>\n",
       "      <td>6006</td>\n",
       "      <td>369</td>\n",
       "    </tr>\n",
       "    <tr>\n",
       "      <th>4</th>\n",
       "      <td>5755</td>\n",
       "      <td>6032</td>\n",
       "      <td>136</td>\n",
       "      <td>7033</td>\n",
       "      <td>7198</td>\n",
       "      <td>2458</td>\n",
       "      <td>5312</td>\n",
       "      <td>7701</td>\n",
       "      <td>1563</td>\n",
       "      <td>7859</td>\n",
       "      <td>4376</td>\n",
       "    </tr>\n",
       "  </tbody>\n",
       "</table>\n",
       "</div>"
      ],
      "text/plain": [
       "     0     1     2     3     4     5     6     7     8     9     10\n",
       "0  4500  2867  1756  6059  1069   526  7447  7663  7865  5732   997\n",
       "1   401  5394  1801  6248  1025   586  7050  2755  2104  3330  5507\n",
       "2   847  4342  1485  7249   751  1643   195  2956  6323  5497  2556\n",
       "3  3840  3425  1530  6405   449   108  7076  7430  6438  6006   369\n",
       "4  5755  6032   136  7033  7198  2458  5312  7701  1563  7859  4376"
      ]
     },
     "execution_count": 49,
     "metadata": {},
     "output_type": "execute_result"
    }
   ],
   "source": [
    "le = LabelEncoder()\n",
    "newdata = newdata.apply(LabelEncoder().fit_transform)   \n",
    "newdata.head()"
   ]
  },
  {
   "cell_type": "code",
   "execution_count": 50,
   "id": "f0880dc2",
   "metadata": {
    "execution": {
     "iopub.execute_input": "2023-01-03T09:51:44.213106Z",
     "iopub.status.busy": "2023-01-03T09:51:44.212060Z",
     "iopub.status.idle": "2023-01-03T09:51:44.228293Z",
     "shell.execute_reply": "2023-01-03T09:51:44.226508Z"
    },
    "papermill": {
     "duration": 0.0516,
     "end_time": "2023-01-03T09:51:44.231120",
     "exception": false,
     "start_time": "2023-01-03T09:51:44.179520",
     "status": "completed"
    },
    "tags": []
   },
   "outputs": [],
   "source": [
    "scaler = StandardScaler()\n",
    "X_train = scaler.fit_transform(X_train)\n",
    "X_test = scaler.transform(X_test)"
   ]
  },
  {
   "cell_type": "code",
   "execution_count": 51,
   "id": "4e89f0f7",
   "metadata": {
    "execution": {
     "iopub.execute_input": "2023-01-03T09:51:44.292961Z",
     "iopub.status.busy": "2023-01-03T09:51:44.292151Z",
     "iopub.status.idle": "2023-01-03T09:51:44.330302Z",
     "shell.execute_reply": "2023-01-03T09:51:44.328116Z"
    },
    "papermill": {
     "duration": 0.074282,
     "end_time": "2023-01-03T09:51:44.335217",
     "exception": false,
     "start_time": "2023-01-03T09:51:44.260935",
     "status": "completed"
    },
    "tags": []
   },
   "outputs": [],
   "source": [
    "X_train = pca.fit_transform(X_train)\n",
    "X_test = pca.transform(X_test)"
   ]
  },
  {
   "cell_type": "markdown",
   "id": "63db3379",
   "metadata": {
    "papermill": {
     "duration": 0.029202,
     "end_time": "2023-01-03T09:51:44.476862",
     "exception": false,
     "start_time": "2023-01-03T09:51:44.447660",
     "status": "completed"
    },
    "tags": []
   },
   "source": [
    "# PCA-Decision Tree\n"
   ]
  },
  {
   "cell_type": "code",
   "execution_count": 52,
   "id": "1ca3692d",
   "metadata": {
    "execution": {
     "iopub.execute_input": "2023-01-03T09:51:44.541865Z",
     "iopub.status.busy": "2023-01-03T09:51:44.540992Z",
     "iopub.status.idle": "2023-01-03T09:51:44.861187Z",
     "shell.execute_reply": "2023-01-03T09:51:44.859787Z"
    },
    "papermill": {
     "duration": 0.353811,
     "end_time": "2023-01-03T09:51:44.863915",
     "exception": false,
     "start_time": "2023-01-03T09:51:44.510104",
     "status": "completed"
    },
    "tags": []
   },
   "outputs": [
    {
     "data": {
      "image/png": "[encoded data removed]",
      "text/plain": [
       "<Figure size 504x504 with 2 Axes>"
      ]
     },
     "metadata": {
      "needs_background": "light"
     },
     "output_type": "display_data"
    }
   ],
   "source": [
    "clf2 = DecisionTreeClassifier()\n",
    "clf2 = clf2.fit(X_train, Y_train)\n",
    "Y_pred = clf2.predict(X_test) \n",
    "\n",
    "cm = confusion_matrix(Y_test, Y_pred)\n",
    "x_axis_labels = [\"Edible\", \"Poisonous\"]\n",
    "y_axis_labels = [\"Edible\", \"Poisonous\"]\n",
    "f, ax = plt.subplots(figsize =(7,7))\n",
    "sns.heatmap(cm, annot = True, linewidths=0.2, linecolor=\"black\",\n",
    "fmt = \".0f\", ax=ax, cmap=\"Blues\", xticklabels=x_axis_labels, yticklabels=y_axis_labels)\n",
    "plt.xlabel(\"PREDICTED LABEL\")\n",
    "plt.ylabel(\"TRUE LABEL\")\n",
    "plt.title('Confusion Matrix for Decision Tree Classifier')\n",
    "plt.show()"
   ]
  },
  {
   "cell_type": "code",
   "execution_count": 53,
   "id": "6e9ecc94",
   "metadata": {
    "execution": {
     "iopub.execute_input": "2023-01-03T09:51:44.926322Z",
     "iopub.status.busy": "2023-01-03T09:51:44.925859Z",
     "iopub.status.idle": "2023-01-03T09:51:44.941151Z",
     "shell.execute_reply": "2023-01-03T09:51:44.939612Z"
    },
    "papermill": {
     "duration": 0.049475,
     "end_time": "2023-01-03T09:51:44.943789",
     "exception": false,
     "start_time": "2023-01-03T09:51:44.894314",
     "status": "completed"
    },
    "tags": []
   },
   "outputs": [
    {
     "name": "stdout",
     "output_type": "stream",
     "text": [
      "Accuracy: 0.9931068439192516\n",
      "Precision: 0.9897540983606558\n",
      "Recall: 0.9958762886597938\n",
      "F1_score: 0.9928057553956835\n"
     ]
    }
   ],
   "source": [
    "\n",
    "Accuracy_tree1=accuracy_score(Y_test, Y_pred)\n",
    "print(\"Accuracy:\", Accuracy_tree1)\n",
    "precision_agac1=precision_score(Y_test, Y_pred)\n",
    "print(\"Precision:\", precision_agac1)\n",
    "recall_agac1=recall_score(Y_test, Y_pred)\n",
    "print(\"Recall:\", recall_agac1)\n",
    "f1_score_agac1=f1_score(Y_test, Y_pred)\n",
    "print(\"F1_score:\", f1_score_agac1)\n"
   ]
  },
  {
   "cell_type": "markdown",
   "id": "4b3e7ff3",
   "metadata": {
    "papermill": {
     "duration": 0.029741,
     "end_time": "2023-01-03T09:51:45.003372",
     "exception": false,
     "start_time": "2023-01-03T09:51:44.973631",
     "status": "completed"
    },
    "tags": []
   },
   "source": [
    "# PCA-Euclidean"
   ]
  },
  {
   "cell_type": "code",
   "execution_count": 54,
   "id": "12f0ead0",
   "metadata": {
    "execution": {
     "iopub.execute_input": "2023-01-03T09:51:45.066818Z",
     "iopub.status.busy": "2023-01-03T09:51:45.065584Z",
     "iopub.status.idle": "2023-01-03T09:51:45.071134Z",
     "shell.execute_reply": "2023-01-03T09:51:45.070094Z"
    },
    "papermill": {
     "duration": 0.039775,
     "end_time": "2023-01-03T09:51:45.073887",
     "exception": false,
     "start_time": "2023-01-03T09:51:45.034112",
     "status": "completed"
    },
    "tags": []
   },
   "outputs": [],
   "source": [
    "from sklearn.linear_model import LogisticRegression as LR\n",
    "from sklearn.neighbors import KNeighborsClassifier as KNN"
   ]
  },
  {
   "cell_type": "code",
   "execution_count": 55,
   "id": "1e6ab8f5",
   "metadata": {
    "execution": {
     "iopub.execute_input": "2023-01-03T09:51:45.137194Z",
     "iopub.status.busy": "2023-01-03T09:51:45.135820Z",
     "iopub.status.idle": "2023-01-03T09:51:45.571910Z",
     "shell.execute_reply": "2023-01-03T09:51:45.570121Z"
    },
    "papermill": {
     "duration": 0.471626,
     "end_time": "2023-01-03T09:51:45.575465",
     "exception": false,
     "start_time": "2023-01-03T09:51:45.103839",
     "status": "completed"
    },
    "tags": []
   },
   "outputs": [
    {
     "data": {
      "image/png": "[encoded data removed]",
      "text/plain": [
       "<Figure size 504x504 with 2 Axes>"
      ]
     },
     "metadata": {
      "needs_background": "light"
     },
     "output_type": "display_data"
    },
    {
     "name": "stdout",
     "output_type": "stream",
     "text": [
      "\n",
      "\n",
      "KNeighborsClassifier\n",
      "---------------------------------\n",
      "Accuracy:  1.0\n",
      "F1 score:  1.0\n",
      "Precision: 1.0\n",
      "Recall: 1.0\n"
     ]
    }
   ],
   "source": [
    "# list of models to train\n",
    "#euclidean\n",
    "KNNModel = KNN(n_neighbors=1, n_jobs=-1)\n",
    "models = [KNNModel]\n",
    "#matrix\n",
    "cm = confusion_matrix(Y_test, Y_pred)\n",
    "x_axis_labels = [\"Edible\", \"Poisonous\"]\n",
    "y_axis_labels = [\"Edible\", \"Poisonous\"]\n",
    "f, ax = plt.subplots(figsize =(7,7))\n",
    "sns.heatmap(cm, annot = True, linewidths=0.2, linecolor=\"black\", fmt = \".0f\", ax=ax, \n",
    "            cmap=\"Blues\", xticklabels=x_axis_labels, yticklabels=y_axis_labels)\n",
    "plt.xlabel(\"PREDICTED LABEL\")\n",
    "plt.ylabel(\"TRUE LABEL\")\n",
    "plt.title('Confusion Matrix for Euclidean')\n",
    "plt.show()\n",
    "\n",
    "for model in models:\n",
    "  print('\\n')\n",
    "  print(type(model).__name__)\n",
    "  print('---------------------------------')\n",
    "  model.fit(X_train, Y_train)\n",
    "  Y_pred = model.predict(X_test)\n",
    "  accuracy = accuracy_score(Y_test,Y_pred)\n",
    "  f1 = f1_score(Y_test, Y_pred)\n",
    "  print('Accuracy: ',accuracy)\n",
    "  print('F1 score: ',f1)  \n",
    "  precision_oklid=precision_score(Y_test, Y_pred)\n",
    "  print(\"Precision:\", precision_oklid)\n",
    "  recall_oklid=recall_score(Y_test, Y_pred)\n",
    "  print(\"Recall:\", recall_oklid)"
   ]
  },
  {
   "cell_type": "markdown",
   "id": "b4e7b5d9",
   "metadata": {
    "papermill": {
     "duration": 0.030177,
     "end_time": "2023-01-03T09:51:45.636664",
     "exception": false,
     "start_time": "2023-01-03T09:51:45.606487",
     "status": "completed"
    },
    "tags": []
   },
   "source": [
    "# PCA-Manhattan"
   ]
  },
  {
   "cell_type": "code",
   "execution_count": 56,
   "id": "f2e626c7",
   "metadata": {
    "execution": {
     "iopub.execute_input": "2023-01-03T09:51:45.700575Z",
     "iopub.status.busy": "2023-01-03T09:51:45.699745Z",
     "iopub.status.idle": "2023-01-03T09:51:46.398675Z",
     "shell.execute_reply": "2023-01-03T09:51:46.397291Z"
    },
    "papermill": {
     "duration": 0.734571,
     "end_time": "2023-01-03T09:51:46.401671",
     "exception": false,
     "start_time": "2023-01-03T09:51:45.667100",
     "status": "completed"
    },
    "tags": []
   },
   "outputs": [
    {
     "data": {
      "image/png": "[encoded data removed]",
      "text/plain": [
       "<Figure size 504x504 with 2 Axes>"
      ]
     },
     "metadata": {
      "needs_background": "light"
     },
     "output_type": "display_data"
    },
    {
     "name": "stdout",
     "output_type": "stream",
     "text": [
      "\n",
      "\n",
      "KNeighborsClassifier\n",
      "---------------------------------\n",
      "Accuracy:  0.9980305268340719\n",
      "F1 score:  0.9979338842975207\n",
      "Precision: 1.0\n",
      "Recall: 0.9958762886597938\n"
     ]
    }
   ],
   "source": [
    "# list of models to train\n",
    "#manhattan\n",
    "KNNModel = KNN(n_neighbors=2, n_jobs=-1)\n",
    "models = [KNNModel]\n",
    "#matrix\n",
    "cm = confusion_matrix(Y_test, Y_pred)\n",
    "x_axis_labels = [\"Edible\", \"Poisonous\"]\n",
    "y_axis_labels = [\"Edible\", \"Poisonous\"]\n",
    "f, ax = plt.subplots(figsize =(7,7))\n",
    "sns.heatmap(cm, annot = True, linewidths=0.2, linecolor=\"black\", fmt = \".0f\", ax=ax, \n",
    "            cmap=\"Blues\", xticklabels=x_axis_labels, yticklabels=y_axis_labels)\n",
    "plt.xlabel(\"PREDICTED LABEL\")\n",
    "plt.ylabel(\"TRUE LABEL\")\n",
    "plt.title('Confusion Matrix for Manhattan')\n",
    "plt.show()\n",
    "\n",
    "for model in models:\n",
    "  print('\\n')\n",
    "  print(type(model).__name__)\n",
    "  print('---------------------------------')\n",
    "  model.fit(X_train, Y_train)\n",
    "  Y_pred = model.predict(X_test)\n",
    "  accuracy = accuracy_score(Y_test,Y_pred)\n",
    "  f1 = f1_score(Y_test, Y_pred)\n",
    "  print('Accuracy: ',accuracy)\n",
    "  print('F1 score: ',f1)  \n",
    "  precision_oklid=precision_score(Y_test, Y_pred)\n",
    "  print(\"Precision:\", precision_oklid)\n",
    "  recall_oklid=recall_score(Y_test, Y_pred)\n",
    "  print(\"Recall:\", recall_oklid)"
   ]
  },
  {
   "cell_type": "markdown",
   "id": "abcbb2c1",
   "metadata": {
    "papermill": {
     "duration": 0.031174,
     "end_time": "2023-01-03T09:51:46.464524",
     "exception": false,
     "start_time": "2023-01-03T09:51:46.433350",
     "status": "completed"
    },
    "tags": []
   },
   "source": [
    "# PCA-Minkowski"
   ]
  },
  {
   "cell_type": "code",
   "execution_count": 57,
   "id": "a441f1ae",
   "metadata": {
    "execution": {
     "iopub.execute_input": "2023-01-03T09:51:46.528993Z",
     "iopub.status.busy": "2023-01-03T09:51:46.527670Z",
     "iopub.status.idle": "2023-01-03T09:51:46.957676Z",
     "shell.execute_reply": "2023-01-03T09:51:46.956184Z"
    },
    "papermill": {
     "duration": 0.465398,
     "end_time": "2023-01-03T09:51:46.960629",
     "exception": false,
     "start_time": "2023-01-03T09:51:46.495231",
     "status": "completed"
    },
    "tags": []
   },
   "outputs": [
    {
     "data": {
      "image/png": "[encoded data removed]",
      "text/plain": [
       "<Figure size 504x504 with 2 Axes>"
      ]
     },
     "metadata": {
      "needs_background": "light"
     },
     "output_type": "display_data"
    },
    {
     "name": "stdout",
     "output_type": "stream",
     "text": [
      "\n",
      "\n",
      "KNeighborsClassifier\n",
      "---------------------------------\n",
      "Accuracy:  0.9985228951255539\n",
      "F1 score:  0.9984512132163139\n",
      "Precision: 1.0\n",
      "Recall: 0.9969072164948454\n"
     ]
    }
   ],
   "source": [
    "# list of models to train\n",
    "#minkowski\n",
    "KNNModel = KNN(n_neighbors=3, n_jobs=-1)\n",
    "models = [KNNModel]\n",
    "#matrix\n",
    "cm = confusion_matrix(Y_test, Y_pred)\n",
    "x_axis_labels = [\"Edible\", \"Poisonous\"]\n",
    "y_axis_labels = [\"Edible\", \"Poisonous\"]\n",
    "f, ax = plt.subplots(figsize =(7,7))\n",
    "sns.heatmap(cm, annot = True, linewidths=0.2, linecolor=\"black\", fmt = \".0f\", ax=ax,\n",
    "            cmap=\"Blues\", xticklabels=x_axis_labels, yticklabels=y_axis_labels)\n",
    "plt.xlabel(\"PREDICTED LABEL\")\n",
    "plt.ylabel(\"TRUE LABEL\")\n",
    "plt.title('Confusion Matrix for Minkowsi')\n",
    "plt.show()\n",
    "\n",
    "for model in models:\n",
    "  print('\\n')\n",
    "  print(type(model).__name__)\n",
    "  print('---------------------------------')\n",
    "  model.fit(X_train, Y_train)\n",
    "  Y_pred = model.predict(X_test)\n",
    "  accuracy = accuracy_score(Y_test,Y_pred)\n",
    "  f1 = f1_score(Y_test, Y_pred)\n",
    "  print('Accuracy: ',accuracy)\n",
    "  print('F1 score: ',f1)  \n",
    "  precision_oklid=precision_score(Y_test, Y_pred)\n",
    "  print(\"Precision:\", precision_oklid)\n",
    "  recall_oklid=recall_score(Y_test, Y_pred)\n",
    "  print(\"Recall:\", recall_oklid)"
   ]
  },
  {
   "cell_type": "markdown",
   "id": "f0231930",
   "metadata": {
    "papermill": {
     "duration": 0.031705,
     "end_time": "2023-01-03T09:51:47.024283",
     "exception": false,
     "start_time": "2023-01-03T09:51:46.992578",
     "status": "completed"
    },
    "tags": []
   },
   "source": [
    "# PCA-Bayes"
   ]
  },
  {
   "cell_type": "code",
   "execution_count": 58,
   "id": "cd1cdf8e",
   "metadata": {
    "execution": {
     "iopub.execute_input": "2023-01-03T09:51:47.091024Z",
     "iopub.status.busy": "2023-01-03T09:51:47.090364Z",
     "iopub.status.idle": "2023-01-03T09:51:47.099095Z",
     "shell.execute_reply": "2023-01-03T09:51:47.098088Z"
    },
    "papermill": {
     "duration": 0.045756,
     "end_time": "2023-01-03T09:51:47.101690",
     "exception": false,
     "start_time": "2023-01-03T09:51:47.055934",
     "status": "completed"
    },
    "tags": []
   },
   "outputs": [],
   "source": [
    "nb = GaussianNB()\n",
    "nb.fit(X_train,Y_train)\n",
    "Y_pred = nb.predict(X_test)"
   ]
  },
  {
   "cell_type": "code",
   "execution_count": 59,
   "id": "b034c11d",
   "metadata": {
    "execution": {
     "iopub.execute_input": "2023-01-03T09:51:47.167924Z",
     "iopub.status.busy": "2023-01-03T09:51:47.167269Z",
     "iopub.status.idle": "2023-01-03T09:51:47.430004Z",
     "shell.execute_reply": "2023-01-03T09:51:47.429010Z"
    },
    "papermill": {
     "duration": 0.299015,
     "end_time": "2023-01-03T09:51:47.432783",
     "exception": false,
     "start_time": "2023-01-03T09:51:47.133768",
     "status": "completed"
    },
    "tags": []
   },
   "outputs": [
    {
     "data": {
      "image/png": "[encoded data removed]",
      "text/plain": [
       "<Figure size 504x504 with 2 Axes>"
      ]
     },
     "metadata": {
      "needs_background": "light"
     },
     "output_type": "display_data"
    }
   ],
   "source": [
    "cm = confusion_matrix(Y_test, Y_pred)\n",
    "\n",
    "x_axis_labels = [\"Edible\", \"Poisonous\"]\n",
    "y_axis_labels = [\"Edible\", \"Poisonous\"]\n",
    "\n",
    "f, ax = plt.subplots(figsize =(7,7))\n",
    "sns.heatmap(cm, annot = True, linewidths=0.2, linecolor=\"black\", fmt = \".0f\", ax=ax,\n",
    "            cmap=\"Blues\", xticklabels=x_axis_labels, yticklabels=y_axis_labels)\n",
    "plt.xlabel(\"PREDICTED LABEL\")\n",
    "plt.ylabel(\"TRUE LABEL\")\n",
    "plt.title('Confusion Matrix for Naive Bayes ')\n",
    "plt.show()\n"
   ]
  },
  {
   "cell_type": "code",
   "execution_count": 60,
   "id": "c389083b",
   "metadata": {
    "execution": {
     "iopub.execute_input": "2023-01-03T09:51:47.499417Z",
     "iopub.status.busy": "2023-01-03T09:51:47.497910Z",
     "iopub.status.idle": "2023-01-03T09:51:47.514101Z",
     "shell.execute_reply": "2023-01-03T09:51:47.512986Z"
    },
    "papermill": {
     "duration": 0.052625,
     "end_time": "2023-01-03T09:51:47.517134",
     "exception": false,
     "start_time": "2023-01-03T09:51:47.464509",
     "status": "completed"
    },
    "tags": []
   },
   "outputs": [
    {
     "name": "stdout",
     "output_type": "stream",
     "text": [
      "Accuracy: 0.9286065977351059\n",
      "Precision: 0.9310344827586207\n",
      "Recall: 1.0\n",
      "F1_score: 0.9247535028541775\n"
     ]
    }
   ],
   "source": [
    "accuracy_bayes=accuracy_score(Y_test, Y_pred)\n",
    "print(\"Accuracy:\", accuracy_bayes)\n",
    "precision_bayes=precision_score(Y_test, Y_pred)\n",
    "print(\"Precision:\", precision_bayes)\n",
    "recall_bayes=recall_score(Y_test, Y_pred)\n",
    "print(\"Recall:\", recall_manhattan)\n",
    "f1_score_bayes=f1_score(Y_test, Y_pred)\n",
    "print(\"F1_score:\", f1_score_bayes)"
   ]
  },
  {
   "cell_type": "markdown",
   "id": "b799f9ff",
   "metadata": {
    "papermill": {
     "duration": 0.032771,
     "end_time": "2023-01-03T09:51:47.582190",
     "exception": false,
     "start_time": "2023-01-03T09:51:47.549419",
     "status": "completed"
    },
    "tags": []
   },
   "source": [
    "# COMPARISONS"
   ]
  },
  {
   "cell_type": "code",
   "execution_count": 61,
   "id": "5b154b17",
   "metadata": {
    "execution": {
     "iopub.execute_input": "2023-01-03T09:51:47.648616Z",
     "iopub.status.busy": "2023-01-03T09:51:47.648217Z",
     "iopub.status.idle": "2023-01-03T09:51:47.662048Z",
     "shell.execute_reply": "2023-01-03T09:51:47.660598Z"
    },
    "papermill": {
     "duration": 0.050954,
     "end_time": "2023-01-03T09:51:47.664913",
     "exception": false,
     "start_time": "2023-01-03T09:51:47.613959",
     "status": "completed"
    },
    "tags": []
   },
   "outputs": [
    {
     "name": "stdout",
     "output_type": "stream",
     "text": [
      "\n",
      "\n",
      "DECISION TREE CLASSIFIER\n"
     ]
    },
    {
     "data": {
      "text/html": [
       "<div>\n",
       "<style scoped>\n",
       "    .dataframe tbody tr th:only-of-type {\n",
       "        vertical-align: middle;\n",
       "    }\n",
       "\n",
       "    .dataframe tbody tr th {\n",
       "        vertical-align: top;\n",
       "    }\n",
       "\n",
       "    .dataframe thead th {\n",
       "        text-align: right;\n",
       "    }\n",
       "</style>\n",
       "<table border=\"1\" class=\"dataframe\">\n",
       "  <thead>\n",
       "    <tr style=\"text-align: right;\">\n",
       "      <th></th>\n",
       "      <th>NORMAL</th>\n",
       "      <th>PCA</th>\n",
       "    </tr>\n",
       "  </thead>\n",
       "  <tbody>\n",
       "    <tr>\n",
       "      <th>Accuracy</th>\n",
       "      <td>1.0</td>\n",
       "      <td>0.9940915805022157</td>\n",
       "    </tr>\n",
       "    <tr>\n",
       "      <th>Precision</th>\n",
       "      <td>1.0</td>\n",
       "      <td>0.9897750511247444</td>\n",
       "    </tr>\n",
       "    <tr>\n",
       "      <th>Recall</th>\n",
       "      <td>1.0</td>\n",
       "      <td>0.9979381443298969</td>\n",
       "    </tr>\n",
       "    <tr>\n",
       "      <th>F1-Score</th>\n",
       "      <td>1.0</td>\n",
       "      <td>0.9938398357289528</td>\n",
       "    </tr>\n",
       "  </tbody>\n",
       "</table>\n",
       "</div>"
      ],
      "text/plain": [
       "          NORMAL                 PCA\n",
       "Accuracy     1.0  0.9940915805022157\n",
       "Precision    1.0  0.9897750511247444\n",
       "Recall       1.0  0.9979381443298969\n",
       "F1-Score     1.0  0.9938398357289528"
      ]
     },
     "execution_count": 61,
     "metadata": {},
     "output_type": "execute_result"
    }
   ],
   "source": [
    "print('\\n')\n",
    "print(\"DECISION TREE CLASSIFIER\")\n",
    "normal = {'Accuracy' : '1.0', 'Precision' : '1.0', 'Recall' : '1.0', 'F1-Score' : '1.0'}\n",
    "pca = {'Accuracy' : '0.9940915805022157', 'Precision' : '0.9897750511247444' , \n",
    "       'Recall' : '0.9979381443298969', 'F1-Score' : '0.9938398357289528'}\n",
    "x = pd.DataFrame({'NORMAL' : normal, 'PCA' : pca})\n",
    "x"
   ]
  },
  {
   "cell_type": "code",
   "execution_count": 62,
   "id": "33535165",
   "metadata": {
    "execution": {
     "iopub.execute_input": "2023-01-03T09:51:47.732601Z",
     "iopub.status.busy": "2023-01-03T09:51:47.732156Z",
     "iopub.status.idle": "2023-01-03T09:51:47.747214Z",
     "shell.execute_reply": "2023-01-03T09:51:47.745385Z"
    },
    "papermill": {
     "duration": 0.051532,
     "end_time": "2023-01-03T09:51:47.749885",
     "exception": false,
     "start_time": "2023-01-03T09:51:47.698353",
     "status": "completed"
    },
    "tags": []
   },
   "outputs": [
    {
     "name": "stdout",
     "output_type": "stream",
     "text": [
      "\n",
      "\n",
      "KNN-EUCLIDEAN\n"
     ]
    },
    {
     "data": {
      "text/html": [
       "<div>\n",
       "<style scoped>\n",
       "    .dataframe tbody tr th:only-of-type {\n",
       "        vertical-align: middle;\n",
       "    }\n",
       "\n",
       "    .dataframe tbody tr th {\n",
       "        vertical-align: top;\n",
       "    }\n",
       "\n",
       "    .dataframe thead th {\n",
       "        text-align: right;\n",
       "    }\n",
       "</style>\n",
       "<table border=\"1\" class=\"dataframe\">\n",
       "  <thead>\n",
       "    <tr style=\"text-align: right;\">\n",
       "      <th></th>\n",
       "      <th>NORMAL</th>\n",
       "      <th>PCA</th>\n",
       "    </tr>\n",
       "  </thead>\n",
       "  <tbody>\n",
       "    <tr>\n",
       "      <th>Accuracy</th>\n",
       "      <td>0.999015263417036</td>\n",
       "      <td>1.0</td>\n",
       "    </tr>\n",
       "    <tr>\n",
       "      <th>Precision</th>\n",
       "      <td>0.9979423868312757</td>\n",
       "      <td>1.0</td>\n",
       "    </tr>\n",
       "    <tr>\n",
       "      <th>Recall</th>\n",
       "      <td>1.0</td>\n",
       "      <td>1.0</td>\n",
       "    </tr>\n",
       "    <tr>\n",
       "      <th>F1-Score</th>\n",
       "      <td>0.9989701338825953</td>\n",
       "      <td>1.0</td>\n",
       "    </tr>\n",
       "  </tbody>\n",
       "</table>\n",
       "</div>"
      ],
      "text/plain": [
       "                       NORMAL  PCA\n",
       "Accuracy    0.999015263417036  1.0\n",
       "Precision  0.9979423868312757  1.0\n",
       "Recall                    1.0  1.0\n",
       "F1-Score   0.9989701338825953  1.0"
      ]
     },
     "execution_count": 62,
     "metadata": {},
     "output_type": "execute_result"
    }
   ],
   "source": [
    "print('\\n')\n",
    "print(\"KNN-EUCLIDEAN\")\n",
    "nor = {'Accuracy' : '0.999015263417036', 'Precision' : '0.9979423868312757', \n",
    "       'Recall' : '1.0', 'F1-Score' : '0.9989701338825953'}\n",
    "pca = {'Accuracy' : '1.0', 'Precision' : '1.0' , 'Recall' : '1.0', 'F1-Score' : '1.0'}\n",
    "x = pd.DataFrame({'NORMAL' : nor, 'PCA' : pca})\n",
    "x"
   ]
  },
  {
   "cell_type": "code",
   "execution_count": 63,
   "id": "69eb34ea",
   "metadata": {
    "execution": {
     "iopub.execute_input": "2023-01-03T09:51:47.815424Z",
     "iopub.status.busy": "2023-01-03T09:51:47.814961Z",
     "iopub.status.idle": "2023-01-03T09:51:47.829823Z",
     "shell.execute_reply": "2023-01-03T09:51:47.827981Z"
    },
    "papermill": {
     "duration": 0.050869,
     "end_time": "2023-01-03T09:51:47.832667",
     "exception": false,
     "start_time": "2023-01-03T09:51:47.781798",
     "status": "completed"
    },
    "tags": []
   },
   "outputs": [
    {
     "name": "stdout",
     "output_type": "stream",
     "text": [
      "\n",
      "\n",
      "KNN-MANHATTAN\n"
     ]
    },
    {
     "data": {
      "text/html": [
       "<div>\n",
       "<style scoped>\n",
       "    .dataframe tbody tr th:only-of-type {\n",
       "        vertical-align: middle;\n",
       "    }\n",
       "\n",
       "    .dataframe tbody tr th {\n",
       "        vertical-align: top;\n",
       "    }\n",
       "\n",
       "    .dataframe thead th {\n",
       "        text-align: right;\n",
       "    }\n",
       "</style>\n",
       "<table border=\"1\" class=\"dataframe\">\n",
       "  <thead>\n",
       "    <tr style=\"text-align: right;\">\n",
       "      <th></th>\n",
       "      <th>NORMAL</th>\n",
       "      <th>PCA</th>\n",
       "    </tr>\n",
       "  </thead>\n",
       "  <tbody>\n",
       "    <tr>\n",
       "      <th>Accuracy</th>\n",
       "      <td>1.0</td>\n",
       "      <td>0.9980305268340719</td>\n",
       "    </tr>\n",
       "    <tr>\n",
       "      <th>Precision</th>\n",
       "      <td>1.0</td>\n",
       "      <td>0.9979338842975207</td>\n",
       "    </tr>\n",
       "    <tr>\n",
       "      <th>Recall</th>\n",
       "      <td>1.0</td>\n",
       "      <td>1.0</td>\n",
       "    </tr>\n",
       "    <tr>\n",
       "      <th>F1-Score</th>\n",
       "      <td>1.0</td>\n",
       "      <td>0.9958762886597938</td>\n",
       "    </tr>\n",
       "  </tbody>\n",
       "</table>\n",
       "</div>"
      ],
      "text/plain": [
       "          NORMAL                 PCA\n",
       "Accuracy     1.0  0.9980305268340719\n",
       "Precision    1.0  0.9979338842975207\n",
       "Recall       1.0                 1.0\n",
       "F1-Score     1.0  0.9958762886597938"
      ]
     },
     "execution_count": 63,
     "metadata": {},
     "output_type": "execute_result"
    }
   ],
   "source": [
    "print('\\n')\n",
    "print(\"KNN-MANHATTAN\")\n",
    "nor = {'Accuracy' : '1.0', 'Precision' : '1.0', 'Recall' : '1.0', 'F1-Score' : '1.0'}\n",
    "pca = {'Accuracy' : '0.9980305268340719', 'Precision' : '0.9979338842975207' , \n",
    "       'Recall' : '1.0', 'F1-Score' : '0.9958762886597938'}\n",
    "x = pd.DataFrame({'NORMAL' : nor, 'PCA' : pca})\n",
    "x"
   ]
  },
  {
   "cell_type": "code",
   "execution_count": 64,
   "id": "a83ca463",
   "metadata": {
    "execution": {
     "iopub.execute_input": "2023-01-03T09:51:47.899239Z",
     "iopub.status.busy": "2023-01-03T09:51:47.898760Z",
     "iopub.status.idle": "2023-01-03T09:51:47.915121Z",
     "shell.execute_reply": "2023-01-03T09:51:47.913260Z"
    },
    "papermill": {
     "duration": 0.05333,
     "end_time": "2023-01-03T09:51:47.918110",
     "exception": false,
     "start_time": "2023-01-03T09:51:47.864780",
     "status": "completed"
    },
    "tags": []
   },
   "outputs": [
    {
     "name": "stdout",
     "output_type": "stream",
     "text": [
      "\n",
      "\n",
      "KNN-MINKOWSI\n"
     ]
    },
    {
     "data": {
      "text/html": [
       "<div>\n",
       "<style scoped>\n",
       "    .dataframe tbody tr th:only-of-type {\n",
       "        vertical-align: middle;\n",
       "    }\n",
       "\n",
       "    .dataframe tbody tr th {\n",
       "        vertical-align: top;\n",
       "    }\n",
       "\n",
       "    .dataframe thead th {\n",
       "        text-align: right;\n",
       "    }\n",
       "</style>\n",
       "<table border=\"1\" class=\"dataframe\">\n",
       "  <thead>\n",
       "    <tr style=\"text-align: right;\">\n",
       "      <th></th>\n",
       "      <th>NORMAL</th>\n",
       "      <th>PCA</th>\n",
       "    </tr>\n",
       "  </thead>\n",
       "  <tbody>\n",
       "    <tr>\n",
       "      <th>Accuracy</th>\n",
       "      <td>0.9980305268340719</td>\n",
       "      <td>0.9985228951255539</td>\n",
       "    </tr>\n",
       "    <tr>\n",
       "      <th>Precision</th>\n",
       "      <td>0.9969135802469136</td>\n",
       "      <td>0.9984512132163139</td>\n",
       "    </tr>\n",
       "    <tr>\n",
       "      <th>Recall</th>\n",
       "      <td>0.9989690721649485</td>\n",
       "      <td>1.0</td>\n",
       "    </tr>\n",
       "    <tr>\n",
       "      <th>F1-Score</th>\n",
       "      <td>0.9979402677651905</td>\n",
       "      <td>0.9969072164948454</td>\n",
       "    </tr>\n",
       "  </tbody>\n",
       "</table>\n",
       "</div>"
      ],
      "text/plain": [
       "                       NORMAL                 PCA\n",
       "Accuracy   0.9980305268340719  0.9985228951255539\n",
       "Precision  0.9969135802469136  0.9984512132163139\n",
       "Recall     0.9989690721649485                 1.0\n",
       "F1-Score   0.9979402677651905  0.9969072164948454"
      ]
     },
     "execution_count": 64,
     "metadata": {},
     "output_type": "execute_result"
    }
   ],
   "source": [
    "print('\\n')\n",
    "print(\"KNN-MINKOWSI\")\n",
    "nor = {'Accuracy' : '0.9980305268340719', 'Precision' : '0.9969135802469136', \n",
    "       'Recall' : '0.9989690721649485', 'F1-Score' : '0.9979402677651905'}\n",
    "pca = {'Accuracy' : '0.9985228951255539', 'Precision' : '0.9984512132163139' , \n",
    "       'Recall' : '1.0', 'F1-Score' : '0.9969072164948454'}\n",
    "x = pd.DataFrame({'NORMAL' : nor, 'PCA' : pca})\n",
    "x"
   ]
  },
  {
   "cell_type": "code",
   "execution_count": 65,
   "id": "5755a0e4",
   "metadata": {
    "execution": {
     "iopub.execute_input": "2023-01-03T09:51:47.984558Z",
     "iopub.status.busy": "2023-01-03T09:51:47.984145Z",
     "iopub.status.idle": "2023-01-03T09:51:47.999267Z",
     "shell.execute_reply": "2023-01-03T09:51:47.997784Z"
    },
    "papermill": {
     "duration": 0.051787,
     "end_time": "2023-01-03T09:51:48.002286",
     "exception": false,
     "start_time": "2023-01-03T09:51:47.950499",
     "status": "completed"
    },
    "tags": []
   },
   "outputs": [
    {
     "name": "stdout",
     "output_type": "stream",
     "text": [
      "\n",
      "\n",
      "NAVIE BAYES\n"
     ]
    },
    {
     "data": {
      "text/html": [
       "<div>\n",
       "<style scoped>\n",
       "    .dataframe tbody tr th:only-of-type {\n",
       "        vertical-align: middle;\n",
       "    }\n",
       "\n",
       "    .dataframe tbody tr th {\n",
       "        vertical-align: top;\n",
       "    }\n",
       "\n",
       "    .dataframe thead th {\n",
       "        text-align: right;\n",
       "    }\n",
       "</style>\n",
       "<table border=\"1\" class=\"dataframe\">\n",
       "  <thead>\n",
       "    <tr style=\"text-align: right;\">\n",
       "      <th></th>\n",
       "      <th>NORMAL</th>\n",
       "      <th>PCA</th>\n",
       "    </tr>\n",
       "  </thead>\n",
       "  <tbody>\n",
       "    <tr>\n",
       "      <th>Accuracy</th>\n",
       "      <td>0.9980305268340719</td>\n",
       "      <td>0.9286065977351059</td>\n",
       "    </tr>\n",
       "    <tr>\n",
       "      <th>Precision</th>\n",
       "      <td>0.9969135802469136</td>\n",
       "      <td>0.9310344827586207</td>\n",
       "    </tr>\n",
       "    <tr>\n",
       "      <th>Recall</th>\n",
       "      <td>0.9989690721649485</td>\n",
       "      <td>1.0</td>\n",
       "    </tr>\n",
       "    <tr>\n",
       "      <th>F1-Score</th>\n",
       "      <td>0.9979402677651905</td>\n",
       "      <td>0.9247535028541775</td>\n",
       "    </tr>\n",
       "  </tbody>\n",
       "</table>\n",
       "</div>"
      ],
      "text/plain": [
       "                       NORMAL                 PCA\n",
       "Accuracy   0.9980305268340719  0.9286065977351059\n",
       "Precision  0.9969135802469136  0.9310344827586207\n",
       "Recall     0.9989690721649485                 1.0\n",
       "F1-Score   0.9979402677651905  0.9247535028541775"
      ]
     },
     "execution_count": 65,
     "metadata": {},
     "output_type": "execute_result"
    }
   ],
   "source": [
    "print('\\n')\n",
    "print(\"NAVIE BAYES\")\n",
    "nor = {'Accuracy' : '0.9980305268340719', 'Precision' : '0.9969135802469136', \n",
    "       'Recall' : '0.9989690721649485', 'F1-Score' : '0.9979402677651905'}\n",
    "pca = {'Accuracy' : '0.9286065977351059', 'Precision' : '0.9310344827586207' , \n",
    "       'Recall' : '1.0', 'F1-Score' : '0.9247535028541775'}\n",
    "x = pd.DataFrame({'NORMAL' : nor, 'PCA' : pca})\n",
    "x"
   ]
  },
  {
   "cell_type": "markdown",
   "id": "81146e36",
   "metadata": {
    "papermill": {
     "duration": 0.032178,
     "end_time": "2023-01-03T09:51:48.067321",
     "exception": false,
     "start_time": "2023-01-03T09:51:48.035143",
     "status": "completed"
    },
    "tags": []
   },
   "source": [
    "# ANN"
   ]
  },
  {
   "cell_type": "code",
   "execution_count": 66,
   "id": "75293adb",
   "metadata": {
    "execution": {
     "iopub.execute_input": "2023-01-03T09:51:48.137600Z",
     "iopub.status.busy": "2023-01-03T09:51:48.137159Z",
     "iopub.status.idle": "2023-01-03T09:54:38.825489Z",
     "shell.execute_reply": "2023-01-03T09:54:38.823633Z"
    },
    "papermill": {
     "duration": 170.726732,
     "end_time": "2023-01-03T09:54:38.828728",
     "exception": false,
     "start_time": "2023-01-03T09:51:48.101996",
     "status": "completed"
    },
    "tags": []
   },
   "outputs": [
    {
     "name": "stderr",
     "output_type": "stream",
     "text": [
      "2023-01-03 09:51:54.786511: I tensorflow/core/common_runtime/process_util.cc:146] Creating new thread pool with default inter op setting: 2. Tune using inter_op_parallelism_threads for best performance.\n",
      "2023-01-03 09:51:54.978229: I tensorflow/compiler/mlir/mlir_graph_optimization_pass.cc:185] None of the MLIR Optimization Passes are enabled (registered 2)\n"
     ]
    },
    {
     "name": "stdout",
     "output_type": "stream",
     "text": [
      "Epoch 1/70\n",
      "407/407 [==============================] - 1s 2ms/step - loss: 0.4563 - accuracy: 0.8678\n",
      "Epoch 2/70\n",
      "407/407 [==============================] - 1s 2ms/step - loss: 0.1694 - accuracy: 0.9333\n",
      "Epoch 3/70\n",
      "407/407 [==============================] - 1s 2ms/step - loss: 0.1266 - accuracy: 0.9493\n",
      "Epoch 4/70\n",
      "407/407 [==============================] - 1s 2ms/step - loss: 0.0985 - accuracy: 0.9589\n",
      "Epoch 5/70\n",
      "407/407 [==============================] - 1s 2ms/step - loss: 0.0745 - accuracy: 0.9724\n",
      "Epoch 6/70\n",
      "407/407 [==============================] - 1s 2ms/step - loss: 0.0577 - accuracy: 0.9825\n",
      "Epoch 7/70\n",
      "407/407 [==============================] - 1s 2ms/step - loss: 0.0458 - accuracy: 0.9850\n",
      "Epoch 8/70\n",
      "407/407 [==============================] - 1s 2ms/step - loss: 0.0378 - accuracy: 0.9872\n",
      "Epoch 9/70\n",
      "407/407 [==============================] - 1s 2ms/step - loss: 0.0323 - accuracy: 0.9894\n",
      "Epoch 10/70\n",
      "407/407 [==============================] - 1s 2ms/step - loss: 0.0286 - accuracy: 0.9897\n",
      "Epoch 11/70\n",
      "407/407 [==============================] - 1s 2ms/step - loss: 0.0253 - accuracy: 0.9919\n",
      "Epoch 12/70\n",
      "407/407 [==============================] - 1s 2ms/step - loss: 0.0227 - accuracy: 0.9921\n",
      "Epoch 13/70\n",
      "407/407 [==============================] - 1s 2ms/step - loss: 0.0208 - accuracy: 0.9921\n",
      "Epoch 14/70\n",
      "407/407 [==============================] - 1s 2ms/step - loss: 0.0189 - accuracy: 0.9931\n",
      "Epoch 15/70\n",
      "407/407 [==============================] - 1s 2ms/step - loss: 0.0175 - accuracy: 0.9948\n",
      "Epoch 16/70\n",
      "407/407 [==============================] - 1s 2ms/step - loss: 0.0142 - accuracy: 0.9951\n",
      "Epoch 17/70\n",
      "407/407 [==============================] - 1s 2ms/step - loss: 0.0117 - accuracy: 0.9968\n",
      "Epoch 18/70\n",
      "407/407 [==============================] - 1s 2ms/step - loss: 0.0097 - accuracy: 0.9968\n",
      "Epoch 19/70\n",
      "407/407 [==============================] - 1s 2ms/step - loss: 0.0086 - accuracy: 0.9973\n",
      "Epoch 20/70\n",
      "407/407 [==============================] - 1s 2ms/step - loss: 0.0075 - accuracy: 0.9975\n",
      "Epoch 21/70\n",
      "407/407 [==============================] - 1s 2ms/step - loss: 0.0068 - accuracy: 0.9983\n",
      "Epoch 22/70\n",
      "407/407 [==============================] - 1s 2ms/step - loss: 0.0058 - accuracy: 0.9980\n",
      "Epoch 23/70\n",
      "407/407 [==============================] - 1s 2ms/step - loss: 0.0055 - accuracy: 0.9980\n",
      "Epoch 24/70\n",
      "407/407 [==============================] - 1s 2ms/step - loss: 0.0049 - accuracy: 0.9990\n",
      "Epoch 25/70\n",
      "407/407 [==============================] - 1s 2ms/step - loss: 0.0046 - accuracy: 0.9990\n",
      "Epoch 26/70\n",
      "407/407 [==============================] - 1s 2ms/step - loss: 0.0041 - accuracy: 0.9988\n",
      "Epoch 27/70\n",
      "407/407 [==============================] - 1s 2ms/step - loss: 0.0039 - accuracy: 0.9988\n",
      "Epoch 28/70\n",
      "407/407 [==============================] - 1s 2ms/step - loss: 0.0035 - accuracy: 0.9985\n",
      "Epoch 29/70\n",
      "407/407 [==============================] - 1s 2ms/step - loss: 0.0032 - accuracy: 0.9988\n",
      "Epoch 30/70\n",
      "407/407 [==============================] - 1s 2ms/step - loss: 0.0029 - accuracy: 0.9990\n",
      "Epoch 31/70\n",
      "407/407 [==============================] - 1s 2ms/step - loss: 0.0033 - accuracy: 0.9990\n",
      "Epoch 32/70\n",
      "407/407 [==============================] - 1s 2ms/step - loss: 0.0028 - accuracy: 0.9990\n",
      "Epoch 33/70\n",
      "407/407 [==============================] - 1s 2ms/step - loss: 0.0029 - accuracy: 0.9988\n",
      "Epoch 34/70\n",
      "407/407 [==============================] - 1s 2ms/step - loss: 0.0029 - accuracy: 0.9985\n",
      "Epoch 35/70\n",
      "407/407 [==============================] - 1s 2ms/step - loss: 0.0026 - accuracy: 0.9990\n",
      "Epoch 36/70\n",
      "407/407 [==============================] - 1s 2ms/step - loss: 0.0026 - accuracy: 0.9988\n",
      "Epoch 37/70\n",
      "407/407 [==============================] - 1s 2ms/step - loss: 0.0025 - accuracy: 0.9990\n",
      "Epoch 38/70\n",
      "407/407 [==============================] - 1s 2ms/step - loss: 0.0025 - accuracy: 0.9990\n",
      "Epoch 39/70\n",
      "407/407 [==============================] - 1s 2ms/step - loss: 0.0024 - accuracy: 0.9990\n",
      "Epoch 40/70\n",
      "407/407 [==============================] - 1s 2ms/step - loss: 0.0023 - accuracy: 0.9988\n",
      "Epoch 41/70\n",
      "407/407 [==============================] - 1s 2ms/step - loss: 0.0022 - accuracy: 0.9990\n",
      "Epoch 42/70\n",
      "407/407 [==============================] - 1s 2ms/step - loss: 0.0021 - accuracy: 0.9988\n",
      "Epoch 43/70\n",
      "407/407 [==============================] - 1s 2ms/step - loss: 0.0024 - accuracy: 0.9988\n",
      "Epoch 44/70\n",
      "407/407 [==============================] - 1s 2ms/step - loss: 0.0020 - accuracy: 0.9995\n",
      "Epoch 45/70\n",
      "407/407 [==============================] - 1s 2ms/step - loss: 0.0020 - accuracy: 0.9988\n",
      "Epoch 46/70\n",
      "407/407 [==============================] - 1s 2ms/step - loss: 0.0018 - accuracy: 0.9995\n",
      "Epoch 47/70\n",
      "407/407 [==============================] - 1s 2ms/step - loss: 0.0018 - accuracy: 0.9993\n",
      "Epoch 48/70\n",
      "407/407 [==============================] - 1s 2ms/step - loss: 0.0018 - accuracy: 0.9993\n",
      "Epoch 49/70\n",
      "407/407 [==============================] - 1s 2ms/step - loss: 0.0017 - accuracy: 0.9995\n",
      "Epoch 50/70\n",
      "407/407 [==============================] - 1s 2ms/step - loss: 0.0024 - accuracy: 0.9988\n",
      "Epoch 51/70\n",
      "407/407 [==============================] - 1s 2ms/step - loss: 0.0017 - accuracy: 0.9995\n",
      "Epoch 52/70\n",
      "407/407 [==============================] - 1s 2ms/step - loss: 0.0015 - accuracy: 0.9998\n",
      "Epoch 53/70\n",
      "407/407 [==============================] - 1s 2ms/step - loss: 0.0018 - accuracy: 0.9993\n",
      "Epoch 54/70\n",
      "407/407 [==============================] - 1s 2ms/step - loss: 0.0013 - accuracy: 0.9998\n",
      "Epoch 55/70\n",
      "407/407 [==============================] - 1s 2ms/step - loss: 0.0016 - accuracy: 0.9993\n",
      "Epoch 56/70\n",
      "407/407 [==============================] - 1s 2ms/step - loss: 0.0014 - accuracy: 0.9993\n",
      "Epoch 57/70\n",
      "407/407 [==============================] - 1s 2ms/step - loss: 0.0015 - accuracy: 0.9993\n",
      "Epoch 58/70\n",
      "407/407 [==============================] - 1s 2ms/step - loss: 0.0015 - accuracy: 0.9995\n",
      "Epoch 59/70\n",
      "407/407 [==============================] - 1s 2ms/step - loss: 0.0015 - accuracy: 0.9998\n",
      "Epoch 60/70\n",
      "407/407 [==============================] - 1s 2ms/step - loss: 0.0013 - accuracy: 1.0000\n",
      "Epoch 61/70\n",
      "407/407 [==============================] - 1s 2ms/step - loss: 0.0013 - accuracy: 0.9998\n",
      "Epoch 62/70\n",
      "407/407 [==============================] - 1s 2ms/step - loss: 0.0017 - accuracy: 0.9995\n",
      "Epoch 63/70\n",
      "407/407 [==============================] - 1s 2ms/step - loss: 0.0018 - accuracy: 0.9993\n",
      "Epoch 64/70\n",
      "407/407 [==============================] - 1s 2ms/step - loss: 0.0016 - accuracy: 0.9993\n",
      "Epoch 65/70\n",
      "407/407 [==============================] - 1s 2ms/step - loss: 0.0012 - accuracy: 0.9998\n",
      "Epoch 66/70\n",
      "407/407 [==============================] - 1s 2ms/step - loss: 0.0011 - accuracy: 1.0000\n",
      "Epoch 67/70\n",
      "407/407 [==============================] - 1s 2ms/step - loss: 0.0012 - accuracy: 0.9998\n",
      "Epoch 68/70\n",
      "407/407 [==============================] - 1s 2ms/step - loss: 0.0011 - accuracy: 0.9998\n",
      "Epoch 69/70\n",
      "407/407 [==============================] - 1s 2ms/step - loss: 9.3394e-04 - accuracy: 1.0000\n",
      "Epoch 70/70\n",
      "407/407 [==============================] - 1s 2ms/step - loss: 8.5612e-04 - accuracy: 1.0000\n",
      "204/204 [==============================] - 0s 1ms/step - loss: 0.0017 - accuracy: 0.9980\n",
      "Epoch 1/70\n",
      "407/407 [==============================] - 1s 2ms/step - loss: 0.4326 - accuracy: 0.8636\n",
      "Epoch 2/70\n",
      "407/407 [==============================] - 1s 2ms/step - loss: 0.1614 - accuracy: 0.9404\n",
      "Epoch 3/70\n",
      "407/407 [==============================] - 1s 2ms/step - loss: 0.1138 - accuracy: 0.9581\n",
      "Epoch 4/70\n",
      "407/407 [==============================] - 1s 2ms/step - loss: 0.0807 - accuracy: 0.9732\n",
      "Epoch 5/70\n",
      "407/407 [==============================] - 1s 2ms/step - loss: 0.0569 - accuracy: 0.9810\n",
      "Epoch 6/70\n",
      "407/407 [==============================] - 1s 2ms/step - loss: 0.0406 - accuracy: 0.9872\n",
      "Epoch 7/70\n",
      "407/407 [==============================] - 1s 2ms/step - loss: 0.0295 - accuracy: 0.9911\n",
      "Epoch 8/70\n",
      "407/407 [==============================] - 1s 2ms/step - loss: 0.0218 - accuracy: 0.9953\n",
      "Epoch 9/70\n",
      "407/407 [==============================] - 1s 2ms/step - loss: 0.0171 - accuracy: 0.9968\n",
      "Epoch 10/70\n",
      "407/407 [==============================] - 1s 2ms/step - loss: 0.0136 - accuracy: 0.9978\n",
      "Epoch 11/70\n",
      "407/407 [==============================] - 1s 2ms/step - loss: 0.0111 - accuracy: 0.9983\n",
      "Epoch 12/70\n",
      "407/407 [==============================] - 1s 2ms/step - loss: 0.0092 - accuracy: 0.9985\n",
      "Epoch 13/70\n",
      "407/407 [==============================] - 1s 2ms/step - loss: 0.0078 - accuracy: 0.9983\n",
      "Epoch 14/70\n",
      "407/407 [==============================] - 1s 2ms/step - loss: 0.0066 - accuracy: 0.9990\n",
      "Epoch 15/70\n",
      "407/407 [==============================] - 1s 2ms/step - loss: 0.0054 - accuracy: 0.9990\n",
      "Epoch 16/70\n",
      "407/407 [==============================] - 1s 2ms/step - loss: 0.0049 - accuracy: 0.9990\n",
      "Epoch 17/70\n",
      "407/407 [==============================] - 1s 2ms/step - loss: 0.0043 - accuracy: 0.9990\n",
      "Epoch 18/70\n",
      "407/407 [==============================] - 1s 2ms/step - loss: 0.0038 - accuracy: 0.9988\n",
      "Epoch 19/70\n",
      "407/407 [==============================] - 1s 2ms/step - loss: 0.0036 - accuracy: 0.9988\n",
      "Epoch 20/70\n",
      "407/407 [==============================] - 1s 2ms/step - loss: 0.0031 - accuracy: 0.9993\n",
      "Epoch 21/70\n",
      "407/407 [==============================] - 1s 2ms/step - loss: 0.0024 - accuracy: 0.9995\n",
      "Epoch 22/70\n",
      "407/407 [==============================] - 1s 2ms/step - loss: 0.0025 - accuracy: 0.9995\n",
      "Epoch 23/70\n",
      "407/407 [==============================] - 1s 2ms/step - loss: 0.0023 - accuracy: 0.9995\n",
      "Epoch 24/70\n",
      "407/407 [==============================] - 1s 2ms/step - loss: 0.0020 - accuracy: 0.9998\n",
      "Epoch 25/70\n",
      "407/407 [==============================] - 1s 2ms/step - loss: 0.0021 - accuracy: 0.9998\n",
      "Epoch 26/70\n",
      "407/407 [==============================] - 1s 2ms/step - loss: 0.0018 - accuracy: 0.9995\n",
      "Epoch 27/70\n",
      "407/407 [==============================] - 1s 2ms/step - loss: 0.0014 - accuracy: 0.9998\n",
      "Epoch 28/70\n",
      "407/407 [==============================] - 1s 2ms/step - loss: 0.0022 - accuracy: 0.9990\n",
      "Epoch 29/70\n",
      "407/407 [==============================] - 1s 2ms/step - loss: 0.0015 - accuracy: 0.9995\n",
      "Epoch 30/70\n",
      "407/407 [==============================] - 1s 2ms/step - loss: 0.0016 - accuracy: 0.9995\n",
      "Epoch 31/70\n",
      "407/407 [==============================] - 1s 2ms/step - loss: 0.0016 - accuracy: 0.9993\n",
      "Epoch 32/70\n",
      "407/407 [==============================] - 1s 2ms/step - loss: 0.0011 - accuracy: 0.9998\n",
      "Epoch 33/70\n",
      "407/407 [==============================] - 1s 2ms/step - loss: 0.0013 - accuracy: 0.9995\n",
      "Epoch 34/70\n",
      "407/407 [==============================] - 1s 2ms/step - loss: 9.7179e-04 - accuracy: 0.9998\n",
      "Epoch 35/70\n",
      "407/407 [==============================] - 1s 2ms/step - loss: 7.8425e-04 - accuracy: 0.9998\n",
      "Epoch 36/70\n",
      "407/407 [==============================] - 1s 2ms/step - loss: 9.5012e-04 - accuracy: 0.9998\n",
      "Epoch 37/70\n",
      "407/407 [==============================] - 1s 2ms/step - loss: 9.2827e-04 - accuracy: 0.9995\n",
      "Epoch 38/70\n",
      "407/407 [==============================] - 1s 2ms/step - loss: 8.5550e-04 - accuracy: 0.9998\n",
      "Epoch 39/70\n",
      "407/407 [==============================] - 1s 2ms/step - loss: 9.1483e-04 - accuracy: 0.9998\n",
      "Epoch 40/70\n",
      "407/407 [==============================] - 1s 2ms/step - loss: 0.0013 - accuracy: 0.9995\n",
      "Epoch 41/70\n",
      "407/407 [==============================] - 1s 2ms/step - loss: 7.2077e-04 - accuracy: 0.9998\n",
      "Epoch 42/70\n",
      "407/407 [==============================] - 1s 2ms/step - loss: 5.9247e-04 - accuracy: 1.0000\n",
      "Epoch 43/70\n",
      "407/407 [==============================] - 1s 2ms/step - loss: 8.2343e-04 - accuracy: 1.0000\n",
      "Epoch 44/70\n",
      "407/407 [==============================] - 1s 2ms/step - loss: 8.5569e-04 - accuracy: 0.9998\n",
      "Epoch 45/70\n",
      "407/407 [==============================] - 1s 2ms/step - loss: 5.0479e-04 - accuracy: 1.0000\n",
      "Epoch 46/70\n",
      "407/407 [==============================] - 1s 2ms/step - loss: 8.4812e-04 - accuracy: 0.9998\n",
      "Epoch 47/70\n",
      "407/407 [==============================] - 1s 2ms/step - loss: 0.0010 - accuracy: 1.0000\n",
      "Epoch 48/70\n",
      "407/407 [==============================] - 1s 2ms/step - loss: 5.2994e-04 - accuracy: 1.0000\n",
      "Epoch 49/70\n",
      "407/407 [==============================] - 1s 2ms/step - loss: 4.1598e-04 - accuracy: 1.0000\n",
      "Epoch 50/70\n",
      "407/407 [==============================] - 1s 2ms/step - loss: 3.4649e-04 - accuracy: 1.0000\n",
      "Epoch 51/70\n",
      "407/407 [==============================] - 1s 2ms/step - loss: 3.5990e-04 - accuracy: 1.0000\n",
      "Epoch 52/70\n",
      "407/407 [==============================] - 1s 2ms/step - loss: 4.0504e-04 - accuracy: 1.0000\n",
      "Epoch 53/70\n",
      "407/407 [==============================] - 1s 2ms/step - loss: 9.7186e-04 - accuracy: 0.9995\n",
      "Epoch 54/70\n",
      "407/407 [==============================] - 1s 2ms/step - loss: 0.0021 - accuracy: 0.9993\n",
      "Epoch 55/70\n",
      "407/407 [==============================] - 1s 2ms/step - loss: 2.9349e-04 - accuracy: 1.0000\n",
      "Epoch 56/70\n",
      "407/407 [==============================] - 1s 2ms/step - loss: 2.6547e-04 - accuracy: 1.0000\n",
      "Epoch 57/70\n",
      "407/407 [==============================] - 1s 2ms/step - loss: 0.0012 - accuracy: 0.9995\n",
      "Epoch 58/70\n",
      "407/407 [==============================] - 1s 2ms/step - loss: 5.5072e-04 - accuracy: 0.9998\n",
      "Epoch 59/70\n",
      "407/407 [==============================] - 1s 2ms/step - loss: 2.6473e-04 - accuracy: 1.0000\n",
      "Epoch 60/70\n",
      "407/407 [==============================] - 1s 2ms/step - loss: 2.5907e-04 - accuracy: 1.0000\n",
      "Epoch 61/70\n",
      "407/407 [==============================] - 1s 2ms/step - loss: 2.6125e-04 - accuracy: 1.0000\n",
      "Epoch 62/70\n",
      "407/407 [==============================] - 1s 2ms/step - loss: 2.9845e-04 - accuracy: 1.0000\n",
      "Epoch 63/70\n",
      "407/407 [==============================] - 1s 2ms/step - loss: 7.2854e-04 - accuracy: 0.9995\n",
      "Epoch 64/70\n",
      "407/407 [==============================] - 1s 2ms/step - loss: 2.8735e-04 - accuracy: 1.0000\n",
      "Epoch 65/70\n",
      "407/407 [==============================] - 1s 2ms/step - loss: 3.0137e-04 - accuracy: 1.0000\n",
      "Epoch 66/70\n",
      "407/407 [==============================] - 1s 2ms/step - loss: 2.5378e-04 - accuracy: 1.0000\n",
      "Epoch 67/70\n",
      "407/407 [==============================] - 1s 2ms/step - loss: 2.5458e-04 - accuracy: 1.0000\n",
      "Epoch 68/70\n",
      "407/407 [==============================] - 1s 2ms/step - loss: 3.7593e-04 - accuracy: 1.0000\n",
      "Epoch 69/70\n",
      "407/407 [==============================] - 1s 2ms/step - loss: 2.2300e-04 - accuracy: 1.0000\n",
      "Epoch 70/70\n",
      "407/407 [==============================] - 1s 2ms/step - loss: 4.9153e-04 - accuracy: 0.9998\n",
      "204/204 [==============================] - 0s 1ms/step - loss: 0.0038 - accuracy: 0.9980\n",
      "Epoch 1/70\n",
      "407/407 [==============================] - 1s 2ms/step - loss: 0.4458 - accuracy: 0.8520\n",
      "Epoch 2/70\n",
      "407/407 [==============================] - 1s 2ms/step - loss: 0.1804 - accuracy: 0.9308\n",
      "Epoch 3/70\n",
      "407/407 [==============================] - 1s 2ms/step - loss: 0.1419 - accuracy: 0.9431\n",
      "Epoch 4/70\n",
      "407/407 [==============================] - 1s 2ms/step - loss: 0.1152 - accuracy: 0.9547\n",
      "Epoch 5/70\n",
      "407/407 [==============================] - 1s 2ms/step - loss: 0.0876 - accuracy: 0.9722\n",
      "Epoch 6/70\n",
      "407/407 [==============================] - 1s 3ms/step - loss: 0.0647 - accuracy: 0.9813\n",
      "Epoch 7/70\n",
      "407/407 [==============================] - 1s 2ms/step - loss: 0.0487 - accuracy: 0.9855\n",
      "Epoch 8/70\n",
      "407/407 [==============================] - 1s 2ms/step - loss: 0.0397 - accuracy: 0.9872\n",
      "Epoch 9/70\n",
      "407/407 [==============================] - 1s 2ms/step - loss: 0.0333 - accuracy: 0.9889\n",
      "Epoch 10/70\n",
      "407/407 [==============================] - 1s 2ms/step - loss: 0.0286 - accuracy: 0.9924\n",
      "Epoch 11/70\n",
      "407/407 [==============================] - 1s 2ms/step - loss: 0.0255 - accuracy: 0.9931\n",
      "Epoch 12/70\n",
      "407/407 [==============================] - 1s 2ms/step - loss: 0.0230 - accuracy: 0.9938\n",
      "Epoch 13/70\n",
      "407/407 [==============================] - 1s 2ms/step - loss: 0.0209 - accuracy: 0.9951\n",
      "Epoch 14/70\n",
      "407/407 [==============================] - 1s 2ms/step - loss: 0.0192 - accuracy: 0.9956\n",
      "Epoch 15/70\n",
      "407/407 [==============================] - 1s 2ms/step - loss: 0.0177 - accuracy: 0.9958\n",
      "Epoch 16/70\n",
      "407/407 [==============================] - 1s 2ms/step - loss: 0.0170 - accuracy: 0.9961\n",
      "Epoch 17/70\n",
      "407/407 [==============================] - 1s 2ms/step - loss: 0.0158 - accuracy: 0.9970\n",
      "Epoch 18/70\n",
      "407/407 [==============================] - 1s 2ms/step - loss: 0.0153 - accuracy: 0.9961\n",
      "Epoch 19/70\n",
      "407/407 [==============================] - 1s 2ms/step - loss: 0.0145 - accuracy: 0.9958\n",
      "Epoch 20/70\n",
      "407/407 [==============================] - 1s 2ms/step - loss: 0.0136 - accuracy: 0.9961\n",
      "Epoch 21/70\n",
      "407/407 [==============================] - 1s 2ms/step - loss: 0.0130 - accuracy: 0.9978\n",
      "Epoch 22/70\n",
      "407/407 [==============================] - 1s 2ms/step - loss: 0.0125 - accuracy: 0.9963\n",
      "Epoch 23/70\n",
      "407/407 [==============================] - 1s 2ms/step - loss: 0.0120 - accuracy: 0.9973\n",
      "Epoch 24/70\n",
      "407/407 [==============================] - 1s 2ms/step - loss: 0.0125 - accuracy: 0.9963\n",
      "Epoch 25/70\n",
      "407/407 [==============================] - 1s 2ms/step - loss: 0.0115 - accuracy: 0.9970\n",
      "Epoch 26/70\n",
      "407/407 [==============================] - 1s 2ms/step - loss: 0.0106 - accuracy: 0.9973\n",
      "Epoch 27/70\n",
      "407/407 [==============================] - 1s 2ms/step - loss: 0.0103 - accuracy: 0.9968\n",
      "Epoch 28/70\n",
      "407/407 [==============================] - 1s 2ms/step - loss: 0.0104 - accuracy: 0.9968\n",
      "Epoch 29/70\n",
      "407/407 [==============================] - 1s 2ms/step - loss: 0.0097 - accuracy: 0.9973\n",
      "Epoch 30/70\n",
      "407/407 [==============================] - 1s 2ms/step - loss: 0.0095 - accuracy: 0.9966\n",
      "Epoch 31/70\n",
      "407/407 [==============================] - 1s 2ms/step - loss: 0.0093 - accuracy: 0.9975\n",
      "Epoch 32/70\n",
      "407/407 [==============================] - 1s 2ms/step - loss: 0.0083 - accuracy: 0.9980\n",
      "Epoch 33/70\n",
      "407/407 [==============================] - 1s 2ms/step - loss: 0.0083 - accuracy: 0.9973\n",
      "Epoch 34/70\n",
      "407/407 [==============================] - 1s 2ms/step - loss: 0.0074 - accuracy: 0.9980\n",
      "Epoch 35/70\n",
      "407/407 [==============================] - 1s 2ms/step - loss: 0.0069 - accuracy: 0.9975\n",
      "Epoch 36/70\n",
      "407/407 [==============================] - 1s 2ms/step - loss: 0.0076 - accuracy: 0.9973\n",
      "Epoch 37/70\n",
      "407/407 [==============================] - 1s 2ms/step - loss: 0.0069 - accuracy: 0.9978\n",
      "Epoch 38/70\n",
      "407/407 [==============================] - 1s 2ms/step - loss: 0.0062 - accuracy: 0.9980\n",
      "Epoch 39/70\n",
      "407/407 [==============================] - 1s 2ms/step - loss: 0.0069 - accuracy: 0.9978\n",
      "Epoch 40/70\n",
      "407/407 [==============================] - 1s 2ms/step - loss: 0.0059 - accuracy: 0.9978\n",
      "Epoch 41/70\n",
      "407/407 [==============================] - 1s 2ms/step - loss: 0.0059 - accuracy: 0.9978\n",
      "Epoch 42/70\n",
      "407/407 [==============================] - 1s 2ms/step - loss: 0.0057 - accuracy: 0.9980\n",
      "Epoch 43/70\n",
      "407/407 [==============================] - 1s 2ms/step - loss: 0.0049 - accuracy: 0.9990\n",
      "Epoch 44/70\n",
      "407/407 [==============================] - 1s 2ms/step - loss: 0.0052 - accuracy: 0.9983\n",
      "Epoch 45/70\n",
      "407/407 [==============================] - 1s 2ms/step - loss: 0.0049 - accuracy: 0.9980\n",
      "Epoch 46/70\n",
      "407/407 [==============================] - 1s 3ms/step - loss: 0.0047 - accuracy: 0.9988\n",
      "Epoch 47/70\n",
      "407/407 [==============================] - 1s 2ms/step - loss: 0.0049 - accuracy: 0.9985\n",
      "Epoch 48/70\n",
      "407/407 [==============================] - 1s 2ms/step - loss: 0.0045 - accuracy: 0.9990\n",
      "Epoch 49/70\n",
      "407/407 [==============================] - 1s 2ms/step - loss: 0.0051 - accuracy: 0.9978\n",
      "Epoch 50/70\n",
      "407/407 [==============================] - 1s 2ms/step - loss: 0.0045 - accuracy: 0.9985\n",
      "Epoch 51/70\n",
      "407/407 [==============================] - 1s 2ms/step - loss: 0.0045 - accuracy: 0.9980\n",
      "Epoch 52/70\n",
      "407/407 [==============================] - 1s 2ms/step - loss: 0.0043 - accuracy: 0.9988\n",
      "Epoch 53/70\n",
      "407/407 [==============================] - 1s 2ms/step - loss: 0.0041 - accuracy: 0.9985\n",
      "Epoch 54/70\n",
      "407/407 [==============================] - 1s 2ms/step - loss: 0.0043 - accuracy: 0.9985\n",
      "Epoch 55/70\n",
      "407/407 [==============================] - 1s 2ms/step - loss: 0.0047 - accuracy: 0.9978\n",
      "Epoch 56/70\n",
      "407/407 [==============================] - 1s 2ms/step - loss: 0.0042 - accuracy: 0.9988\n",
      "Epoch 57/70\n",
      "407/407 [==============================] - 1s 2ms/step - loss: 0.0034 - accuracy: 0.9990\n",
      "Epoch 58/70\n",
      "407/407 [==============================] - 1s 2ms/step - loss: 0.0041 - accuracy: 0.9985\n",
      "Epoch 59/70\n",
      "407/407 [==============================] - 1s 2ms/step - loss: 0.0043 - accuracy: 0.9983\n",
      "Epoch 60/70\n",
      "407/407 [==============================] - 1s 2ms/step - loss: 0.0038 - accuracy: 0.9985\n",
      "Epoch 61/70\n",
      "407/407 [==============================] - 1s 2ms/step - loss: 0.0038 - accuracy: 0.9988\n",
      "Epoch 62/70\n",
      "407/407 [==============================] - 1s 2ms/step - loss: 0.0041 - accuracy: 0.9980\n",
      "Epoch 63/70\n",
      "407/407 [==============================] - 1s 2ms/step - loss: 0.0039 - accuracy: 0.9985\n",
      "Epoch 64/70\n",
      "407/407 [==============================] - 1s 2ms/step - loss: 0.0038 - accuracy: 0.9985\n",
      "Epoch 65/70\n",
      "407/407 [==============================] - 1s 2ms/step - loss: 0.0034 - accuracy: 0.9988\n",
      "Epoch 66/70\n",
      "407/407 [==============================] - 1s 2ms/step - loss: 0.0053 - accuracy: 0.9978\n",
      "Epoch 67/70\n",
      "407/407 [==============================] - 1s 2ms/step - loss: 0.0038 - accuracy: 0.9985\n",
      "Epoch 68/70\n",
      "407/407 [==============================] - 1s 2ms/step - loss: 0.0035 - accuracy: 0.9980\n",
      "Epoch 69/70\n",
      "407/407 [==============================] - 1s 2ms/step - loss: 0.0035 - accuracy: 0.9988\n",
      "Epoch 70/70\n",
      "407/407 [==============================] - 1s 2ms/step - loss: 0.0038 - accuracy: 0.9990\n",
      "204/204 [==============================] - 0s 2ms/step - loss: 0.0087 - accuracy: 0.9951\n",
      "Accuracy mean: 0.9970457951227824\n",
      "Accuracy variance: 0.0013926442663959677\n"
     ]
    }
   ],
   "source": [
    "from keras.wrappers.scikit_learn import KerasClassifier\n",
    "from sklearn.model_selection import cross_val_score\n",
    "from keras.models import Sequential \n",
    "from keras.layers import Dense \n",
    "def build_classifier():\n",
    "    classifier = Sequential() \n",
    "    classifier.add(Dense(units = 8, kernel_initializer = 'uniform', activation = 'relu', input_dim = X_train.shape[1]))\n",
    "    classifier.add(Dense(units = 8, kernel_initializer = 'uniform', activation = 'relu'))\n",
    "    classifier.add(Dense(units = 1, kernel_initializer = 'uniform', activation = 'sigmoid'))\n",
    "    classifier.compile(optimizer = 'adam', loss = 'binary_crossentropy', metrics = ['accuracy'])\n",
    "    return classifier\n",
    "classifier = KerasClassifier(build_fn = build_classifier, epochs = 70,batch_size=10)\n",
    "accuracies = cross_val_score(estimator = classifier, X = X_train, y= Y_train, cv = 3)\n",
    "mean = accuracies.mean()\n",
    "variance = accuracies.std()\n",
    "print(\"Accuracy mean: \"+ str(mean))\n",
    "print(\"Accuracy variance: \"+ str(variance))\n"
   ]
  }
 ],
 "metadata": {
  "kernelspec": {
   "display_name": "Python 3",
   "language": "python",
   "name": "python3"
  },
  "language_info": {
   "codemirror_mode": {
    "name": "ipython",
    "version": 3
   },
   "file_extension": ".py",
   "mimetype": "text/x-python",
   "name": "python",
   "nbconvert_exporter": "python",
   "pygments_lexer": "ipython3",
   "version": "3.7.12"
  },
  "papermill": {
   "default_parameters": {},
   "duration": 206.395982,
   "end_time": "2023-01-03T09:54:41.790619",
   "environment_variables": {},
   "exception": null,
   "input_path": "__notebook__.ipynb",
   "output_path": "__notebook__.ipynb",
   "parameters": {},
   "start_time": "2023-01-03T09:51:15.394637",
   "version": "2.3.4"
  }
 },
 "nbformat": 4,
 "nbformat_minor": 5
}
